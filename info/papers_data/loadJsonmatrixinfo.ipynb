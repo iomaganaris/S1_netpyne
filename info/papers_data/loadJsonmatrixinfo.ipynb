{
 "cells": [
  {
   "cell_type": "code",
   "execution_count": 2,
   "metadata": {},
   "outputs": [],
   "source": [
    "import json\n",
    "import os, sys\n",
    "import pandas as pd\n",
    "import numpy as np"
   ]
  },
  {
   "cell_type": "code",
   "execution_count": 3,
   "metadata": {},
   "outputs": [],
   "source": [
    "anatomy_data = json.loads(open(\"pathways_anatomy_factsheets_simplified.json\").read())"
   ]
  },
  {
   "cell_type": "code",
   "execution_count": 4,
   "metadata": {},
   "outputs": [],
   "source": [
    "columnNames = [\"Connection\", \"From Cell\", \"From Layer\", \"From Type\", \"To Cell\", \"To Layer\", \"To Type\"] + list(anatomy_data[list(anatomy_data.keys() )[0]].keys())\n",
    "df = pd.DataFrame(columns=columnNames, data = [[k,  k.split(\":\")[0],  k.split(\":\")[0].split(\"_\")[0], k.split(\":\")[0].split(\"_\")[1], k.split(\":\")[1], k.split(\":\")[1].split(\"_\")[0], k.split(\":\")[1].split(\"_\")[1]] + list(v.values()) for k, v in anatomy_data.items()    ])\n",
    "df = df.sort_values(by=['Connection'])"
   ]
  },
  {
   "cell_type": "code",
   "execution_count": 5,
   "metadata": {},
   "outputs": [],
   "source": [
    "physiology_data = json.loads(open(\"pathways_physiology_factsheets_simplified.json\").read())\n",
    "physColumnNames = [\"Connection\", \"From Cell\", \"From Layer\", \"From Type\", \"To Cell\", \"To Layer\", \"To Type\"] + list(physiology_data[list(physiology_data.keys() )[0]].keys())\n",
    "df2 = pd.DataFrame(columns=physColumnNames, data = [[k,  k.split(\":\")[0],  k.split(\":\")[0].split(\"_\")[0], k.split(\":\")[0].split(\"_\")[1], k.split(\":\")[1], k.split(\":\")[1].split(\"_\")[0], k.split(\":\")[1].split(\"_\")[1]] + list(v.values()) for k, v in physiology_data.items()    ])\n",
    "df2 = df2.sort_values(by=['Connection'])"
   ]
  },
  {
   "cell_type": "code",
   "execution_count": 6,
   "metadata": {},
   "outputs": [],
   "source": [
    "matrixinfo = df.merge(df2, how=\"outer\", on = [\"Connection\", \"From Cell\", \"From Layer\", \"From Type\", \"To Cell\", \"To Layer\", \"To Type\"])"
   ]
  },
  {
   "cell_type": "code",
   "execution_count": 7,
   "metadata": {},
   "outputs": [],
   "source": [
    "matrixoptions =[]\n",
    "for name in matrixinfo.keys():\n",
    "    matrixoptions.append(str(name))"
   ]
  },
  {
   "cell_type": "code",
   "execution_count": 8,
   "metadata": {},
   "outputs": [
    {
     "output_type": "stream",
     "name": "stdout",
     "text": [
      "['Connection', 'From Cell', 'From Layer', 'From Type', 'To Cell', 'To Layer', 'To Type', 'number_of_convergent_neuron_std', 'connection_probability', 'number_of_divergent_neuron_std', 'total_synapse_count', 'mean_number_of_synapse_per_connection', 'common_neighbor_bias', 'number_of_convergent_neuron_mean', 'number_of_synapse_per_connection_std', 'number_of_divergent_neuron_mean', 'gsyn_mean', 'epsp_mean', 'risetime_std', 'f_std', 'gsyn_std', 'u_std', 'decay_mean', 'latency_mean', 'failures_mean', 'u_mean', 'd_std', 'synapse_type', 'space_clamp_correction_factor', 'latency_std', 'decay_std', 'cv_psp_amplitude_std', 'risetime_mean', 'cv_psp_amplitude_mean', 'epsp_std', 'd_mean', 'f_mean', 'failures_std']\n"
     ]
    }
   ],
   "source": [
    "print(matrixoptions)"
   ]
  },
  {
   "cell_type": "code",
   "execution_count": 9,
   "metadata": {},
   "outputs": [
    {
     "output_type": "execute_result",
     "data": {
      "text/plain": [
       "             Connection From Cell From Layer From Type    To Cell To Layer  \\\n",
       "0         L1_DAC:L1_DAC    L1_DAC         L1       DAC     L1_DAC       L1   \n",
       "1        L1_DAC:L1_DLAC    L1_DAC         L1       DAC    L1_DLAC       L1   \n",
       "2         L1_DAC:L1_HAC    L1_DAC         L1       DAC     L1_HAC       L1   \n",
       "3      L1_DAC:L1_NGC-DA    L1_DAC         L1       DAC  L1_NGC-DA       L1   \n",
       "4      L1_DAC:L1_NGC-SA    L1_DAC         L1       DAC  L1_NGC-SA       L1   \n",
       "...                 ...       ...        ...       ...        ...      ...   \n",
       "1927     L6_UTPC:L6_NGC   L6_UTPC         L6      UTPC     L6_NGC       L6   \n",
       "1928     L6_UTPC:L6_SBC   L6_UTPC         L6      UTPC     L6_SBC       L6   \n",
       "1929  L6_UTPC:L6_TPC_L1   L6_UTPC         L6      UTPC  L6_TPC_L1       L6   \n",
       "1930  L6_UTPC:L6_TPC_L4   L6_UTPC         L6      UTPC  L6_TPC_L4       L6   \n",
       "1931    L6_UTPC:L6_UTPC   L6_UTPC         L6      UTPC    L6_UTPC       L6   \n",
       "\n",
       "     To Type  number_of_convergent_neuron_std  connection_probability  \\\n",
       "0        DAC                             0.91                     2.4   \n",
       "1       DLAC                             0.66                     1.3   \n",
       "2        HAC                             0.66                     3.8   \n",
       "3     NGC-DA                             0.53                     3.1   \n",
       "4     NGC-SA                             0.72                     4.2   \n",
       "...      ...                              ...                     ...   \n",
       "1927     NGC                             1.60                     1.9   \n",
       "1928     SBC                             3.80                     5.8   \n",
       "1929     TPC                            17.00                     9.1   \n",
       "1930     TPC                            15.00                    10.0   \n",
       "1931    UTPC                            18.00                    13.0   \n",
       "\n",
       "      number_of_divergent_neuron_std  ...  \\\n",
       "0                               1.10  ...   \n",
       "1                               0.36  ...   \n",
       "2                               1.10  ...   \n",
       "3                               0.91  ...   \n",
       "4                               0.74  ...   \n",
       "...                              ...  ...   \n",
       "1927                            0.17  ...   \n",
       "1928                            0.59  ...   \n",
       "1929                           15.00  ...   \n",
       "1930                           15.00  ...   \n",
       "1931                           21.00  ...   \n",
       "\n",
       "                         space_clamp_correction_factor  latency_std  \\\n",
       "0     Synaptic conductance not measured experimentally       0.6500   \n",
       "1     Synaptic conductance not measured experimentally       0.0000   \n",
       "2     Synaptic conductance not measured experimentally       0.4700   \n",
       "3     Synaptic conductance not measured experimentally       0.0033   \n",
       "4     Synaptic conductance not measured experimentally       0.5900   \n",
       "...                                                ...          ...   \n",
       "1927  Synaptic conductance not measured experimentally       0.3500   \n",
       "1928  Synaptic conductance not measured experimentally       0.5800   \n",
       "1929  Synaptic conductance not measured experimentally       0.8800   \n",
       "1930  Synaptic conductance not measured experimentally       1.0000   \n",
       "1931  Synaptic conductance not measured experimentally       0.6500   \n",
       "\n",
       "      decay_std  cv_psp_amplitude_std  risetime_mean  cv_psp_amplitude_mean  \\\n",
       "0          11.0                 0.120            5.5                   0.49   \n",
       "1           0.0                 0.000            6.1                   0.39   \n",
       "2           2.5                 0.100            5.8                   0.46   \n",
       "3           1.7                 0.026            3.8                   0.62   \n",
       "4           3.3                 0.036            4.4                   0.58   \n",
       "...         ...                   ...            ...                    ...   \n",
       "1927       15.0                 0.082            2.1                   0.42   \n",
       "1928       26.0                 0.340            5.2                   0.49   \n",
       "1929        5.3                 0.080            2.2                   0.44   \n",
       "1930       10.0                 0.091            2.2                   0.43   \n",
       "1931        5.1                 0.071            2.0                   0.43   \n",
       "\n",
       "      epsp_std  d_mean  f_mean  failures_std  \n",
       "0         0.45     750    22.0           7.8  \n",
       "1         0.00     820    24.0           0.0  \n",
       "2         0.94     770    22.0           4.6  \n",
       "3         0.52     610    19.0           3.3  \n",
       "4         0.75     710    21.0           1.6  \n",
       "...        ...     ...     ...           ...  \n",
       "1927      1.10     670    17.0           3.3  \n",
       "1928      4.10     670    17.0           1.7  \n",
       "1929      0.78     670    17.0           3.3  \n",
       "1930      1.20     670    17.0           3.5  \n",
       "1931      0.76     670    17.0           2.7  \n",
       "\n",
       "[1932 rows x 38 columns]"
      ],
      "text/html": "<div>\n<style scoped>\n    .dataframe tbody tr th:only-of-type {\n        vertical-align: middle;\n    }\n\n    .dataframe tbody tr th {\n        vertical-align: top;\n    }\n\n    .dataframe thead th {\n        text-align: right;\n    }\n</style>\n<table border=\"1\" class=\"dataframe\">\n  <thead>\n    <tr style=\"text-align: right;\">\n      <th></th>\n      <th>Connection</th>\n      <th>From Cell</th>\n      <th>From Layer</th>\n      <th>From Type</th>\n      <th>To Cell</th>\n      <th>To Layer</th>\n      <th>To Type</th>\n      <th>number_of_convergent_neuron_std</th>\n      <th>connection_probability</th>\n      <th>number_of_divergent_neuron_std</th>\n      <th>...</th>\n      <th>space_clamp_correction_factor</th>\n      <th>latency_std</th>\n      <th>decay_std</th>\n      <th>cv_psp_amplitude_std</th>\n      <th>risetime_mean</th>\n      <th>cv_psp_amplitude_mean</th>\n      <th>epsp_std</th>\n      <th>d_mean</th>\n      <th>f_mean</th>\n      <th>failures_std</th>\n    </tr>\n  </thead>\n  <tbody>\n    <tr>\n      <th>0</th>\n      <td>L1_DAC:L1_DAC</td>\n      <td>L1_DAC</td>\n      <td>L1</td>\n      <td>DAC</td>\n      <td>L1_DAC</td>\n      <td>L1</td>\n      <td>DAC</td>\n      <td>0.91</td>\n      <td>2.4</td>\n      <td>1.10</td>\n      <td>...</td>\n      <td>Synaptic conductance not measured experimentally</td>\n      <td>0.6500</td>\n      <td>11.0</td>\n      <td>0.120</td>\n      <td>5.5</td>\n      <td>0.49</td>\n      <td>0.45</td>\n      <td>750</td>\n      <td>22.0</td>\n      <td>7.8</td>\n    </tr>\n    <tr>\n      <th>1</th>\n      <td>L1_DAC:L1_DLAC</td>\n      <td>L1_DAC</td>\n      <td>L1</td>\n      <td>DAC</td>\n      <td>L1_DLAC</td>\n      <td>L1</td>\n      <td>DLAC</td>\n      <td>0.66</td>\n      <td>1.3</td>\n      <td>0.36</td>\n      <td>...</td>\n      <td>Synaptic conductance not measured experimentally</td>\n      <td>0.0000</td>\n      <td>0.0</td>\n      <td>0.000</td>\n      <td>6.1</td>\n      <td>0.39</td>\n      <td>0.00</td>\n      <td>820</td>\n      <td>24.0</td>\n      <td>0.0</td>\n    </tr>\n    <tr>\n      <th>2</th>\n      <td>L1_DAC:L1_HAC</td>\n      <td>L1_DAC</td>\n      <td>L1</td>\n      <td>DAC</td>\n      <td>L1_HAC</td>\n      <td>L1</td>\n      <td>HAC</td>\n      <td>0.66</td>\n      <td>3.8</td>\n      <td>1.10</td>\n      <td>...</td>\n      <td>Synaptic conductance not measured experimentally</td>\n      <td>0.4700</td>\n      <td>2.5</td>\n      <td>0.100</td>\n      <td>5.8</td>\n      <td>0.46</td>\n      <td>0.94</td>\n      <td>770</td>\n      <td>22.0</td>\n      <td>4.6</td>\n    </tr>\n    <tr>\n      <th>3</th>\n      <td>L1_DAC:L1_NGC-DA</td>\n      <td>L1_DAC</td>\n      <td>L1</td>\n      <td>DAC</td>\n      <td>L1_NGC-DA</td>\n      <td>L1</td>\n      <td>NGC-DA</td>\n      <td>0.53</td>\n      <td>3.1</td>\n      <td>0.91</td>\n      <td>...</td>\n      <td>Synaptic conductance not measured experimentally</td>\n      <td>0.0033</td>\n      <td>1.7</td>\n      <td>0.026</td>\n      <td>3.8</td>\n      <td>0.62</td>\n      <td>0.52</td>\n      <td>610</td>\n      <td>19.0</td>\n      <td>3.3</td>\n    </tr>\n    <tr>\n      <th>4</th>\n      <td>L1_DAC:L1_NGC-SA</td>\n      <td>L1_DAC</td>\n      <td>L1</td>\n      <td>DAC</td>\n      <td>L1_NGC-SA</td>\n      <td>L1</td>\n      <td>NGC-SA</td>\n      <td>0.72</td>\n      <td>4.2</td>\n      <td>0.74</td>\n      <td>...</td>\n      <td>Synaptic conductance not measured experimentally</td>\n      <td>0.5900</td>\n      <td>3.3</td>\n      <td>0.036</td>\n      <td>4.4</td>\n      <td>0.58</td>\n      <td>0.75</td>\n      <td>710</td>\n      <td>21.0</td>\n      <td>1.6</td>\n    </tr>\n    <tr>\n      <th>...</th>\n      <td>...</td>\n      <td>...</td>\n      <td>...</td>\n      <td>...</td>\n      <td>...</td>\n      <td>...</td>\n      <td>...</td>\n      <td>...</td>\n      <td>...</td>\n      <td>...</td>\n      <td>...</td>\n      <td>...</td>\n      <td>...</td>\n      <td>...</td>\n      <td>...</td>\n      <td>...</td>\n      <td>...</td>\n      <td>...</td>\n      <td>...</td>\n      <td>...</td>\n      <td>...</td>\n    </tr>\n    <tr>\n      <th>1927</th>\n      <td>L6_UTPC:L6_NGC</td>\n      <td>L6_UTPC</td>\n      <td>L6</td>\n      <td>UTPC</td>\n      <td>L6_NGC</td>\n      <td>L6</td>\n      <td>NGC</td>\n      <td>1.60</td>\n      <td>1.9</td>\n      <td>0.17</td>\n      <td>...</td>\n      <td>Synaptic conductance not measured experimentally</td>\n      <td>0.3500</td>\n      <td>15.0</td>\n      <td>0.082</td>\n      <td>2.1</td>\n      <td>0.42</td>\n      <td>1.10</td>\n      <td>670</td>\n      <td>17.0</td>\n      <td>3.3</td>\n    </tr>\n    <tr>\n      <th>1928</th>\n      <td>L6_UTPC:L6_SBC</td>\n      <td>L6_UTPC</td>\n      <td>L6</td>\n      <td>UTPC</td>\n      <td>L6_SBC</td>\n      <td>L6</td>\n      <td>SBC</td>\n      <td>3.80</td>\n      <td>5.8</td>\n      <td>0.59</td>\n      <td>...</td>\n      <td>Synaptic conductance not measured experimentally</td>\n      <td>0.5800</td>\n      <td>26.0</td>\n      <td>0.340</td>\n      <td>5.2</td>\n      <td>0.49</td>\n      <td>4.10</td>\n      <td>670</td>\n      <td>17.0</td>\n      <td>1.7</td>\n    </tr>\n    <tr>\n      <th>1929</th>\n      <td>L6_UTPC:L6_TPC_L1</td>\n      <td>L6_UTPC</td>\n      <td>L6</td>\n      <td>UTPC</td>\n      <td>L6_TPC_L1</td>\n      <td>L6</td>\n      <td>TPC</td>\n      <td>17.00</td>\n      <td>9.1</td>\n      <td>15.00</td>\n      <td>...</td>\n      <td>Synaptic conductance not measured experimentally</td>\n      <td>0.8800</td>\n      <td>5.3</td>\n      <td>0.080</td>\n      <td>2.2</td>\n      <td>0.44</td>\n      <td>0.78</td>\n      <td>670</td>\n      <td>17.0</td>\n      <td>3.3</td>\n    </tr>\n    <tr>\n      <th>1930</th>\n      <td>L6_UTPC:L6_TPC_L4</td>\n      <td>L6_UTPC</td>\n      <td>L6</td>\n      <td>UTPC</td>\n      <td>L6_TPC_L4</td>\n      <td>L6</td>\n      <td>TPC</td>\n      <td>15.00</td>\n      <td>10.0</td>\n      <td>15.00</td>\n      <td>...</td>\n      <td>Synaptic conductance not measured experimentally</td>\n      <td>1.0000</td>\n      <td>10.0</td>\n      <td>0.091</td>\n      <td>2.2</td>\n      <td>0.43</td>\n      <td>1.20</td>\n      <td>670</td>\n      <td>17.0</td>\n      <td>3.5</td>\n    </tr>\n    <tr>\n      <th>1931</th>\n      <td>L6_UTPC:L6_UTPC</td>\n      <td>L6_UTPC</td>\n      <td>L6</td>\n      <td>UTPC</td>\n      <td>L6_UTPC</td>\n      <td>L6</td>\n      <td>UTPC</td>\n      <td>18.00</td>\n      <td>13.0</td>\n      <td>21.00</td>\n      <td>...</td>\n      <td>Synaptic conductance not measured experimentally</td>\n      <td>0.6500</td>\n      <td>5.1</td>\n      <td>0.071</td>\n      <td>2.0</td>\n      <td>0.43</td>\n      <td>0.76</td>\n      <td>670</td>\n      <td>17.0</td>\n      <td>2.7</td>\n    </tr>\n  </tbody>\n</table>\n<p>1932 rows × 38 columns</p>\n</div>"
     },
     "metadata": {},
     "execution_count": 9
    }
   ],
   "source": [
    "matrixinfo"
   ]
  },
  {
   "cell_type": "code",
   "execution_count": 10,
   "metadata": {},
   "outputs": [
    {
     "output_type": "stream",
     "name": "stdout",
     "text": [
      "(1932, 16) (1932, 29) (1932, 38)\n"
     ]
    }
   ],
   "source": [
    "print(df.shape,df2.shape,matrixinfo.shape)"
   ]
  },
  {
   "cell_type": "code",
   "execution_count": 11,
   "metadata": {},
   "outputs": [
    {
     "output_type": "stream",
     "name": "stdout",
     "text": [
      "L1_DAC:L1_DAC 2.4\nL1_DAC:L1_DAC 0.91\n"
     ]
    }
   ],
   "source": [
    "print(matrixinfo['Connection'][0],matrixinfo['connection_probability'][0])\n",
    "print(matrixinfo[matrixoptions[0]][0],matrixinfo[matrixoptions[7]][0])"
   ]
  },
  {
   "cell_type": "code",
   "execution_count": 12,
   "metadata": {},
   "outputs": [
    {
     "output_type": "execute_result",
     "data": {
      "text/plain": [
       "2.4"
      ]
     },
     "metadata": {},
     "execution_count": 12
    }
   ],
   "source": [
    "matrixinfo['connection_probability'][0]"
   ]
  },
  {
   "cell_type": "code",
   "execution_count": 14,
   "metadata": {},
   "outputs": [
    {
     "output_type": "execute_result",
     "data": {
      "text/plain": [
       "0        L1_DAC\n",
       "1       L1_DLAC\n",
       "2        L1_HAC\n",
       "3     L1_NGC-DA\n",
       "4     L1_NGC-SA\n",
       "5       L1_SLAC\n",
       "6        L23_BP\n",
       "7       L23_BTC\n",
       "8       L23_ChC\n",
       "9       L23_DBC\n",
       "10      L23_LBC\n",
       "11       L23_MC\n",
       "12      L23_NBC\n",
       "13      L23_NGC\n",
       "14       L23_PC\n",
       "15      L23_SBC\n",
       "16       L4_BTC\n",
       "17       L4_LBC\n",
       "18        L4_MC\n",
       "19       L4_NBC\n",
       "20        L4_PC\n",
       "21       L4_SBC\n",
       "22        L4_SP\n",
       "23        L4_SS\n",
       "24       L5_DBC\n",
       "25       L5_LBC\n",
       "26        L5_MC\n",
       "27      L5_STPC\n",
       "28     L5_TTPC1\n",
       "29     L5_TTPC2\n",
       "30      L5_UTPC\n",
       "31       L6_BPC\n",
       "32    L6_TPC_L1\n",
       "33    L6_TPC_L4\n",
       "34      L6_UTPC\n",
       "35       L1_DAC\n",
       "36      L1_DLAC\n",
       "37       L1_HAC\n",
       "38    L1_NGC-DA\n",
       "39    L1_NGC-SA\n",
       "40      L1_SLAC\n",
       "41       L23_BP\n",
       "42      L23_BTC\n",
       "43      L23_ChC\n",
       "44      L23_DBC\n",
       "45      L23_LBC\n",
       "46       L23_MC\n",
       "47      L23_NBC\n",
       "48      L23_NGC\n",
       "49       L23_PC\n",
       "50      L23_SBC\n",
       "51       L4_DBC\n",
       "52        L4_PC\n",
       "53        L4_SP\n",
       "54       L5_BTC\n",
       "Name: To Cell, dtype: object"
      ]
     },
     "metadata": {},
     "execution_count": 14
    }
   ],
   "source": [
    "matrixinfo['To Cell'][0:55]"
   ]
  }
 ],
 "metadata": {
  "kernelspec": {
   "name": "Python 3.7.9 64-bit ('netpynedev': conda)",
   "display_name": "Python 3.7.9 64-bit ('netpynedev': conda)",
   "metadata": {
    "interpreter": {
     "hash": "685e29d6d1a988828c5d31799bd4dfe340e3dc29310794d31d9865ff77879a3e"
    }
   }
  },
  "language_info": {
   "codemirror_mode": {
    "name": "ipython",
    "version": 2
   },
   "file_extension": ".py",
   "mimetype": "text/x-python",
   "name": "python",
   "nbconvert_exporter": "python",
   "pygments_lexer": "ipython2",
   "version": "3.7.9-final"
  }
 },
 "nbformat": 4,
 "nbformat_minor": 2
}