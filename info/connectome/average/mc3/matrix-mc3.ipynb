{
 "cells": [
  {
   "cell_type": "code",
   "execution_count": 1,
   "metadata": {},
   "outputs": [],
   "source": [
    "#!pip3 install h5py\n",
    "import h5py\n",
    "import numpy as np"
   ]
  },
  {
   "cell_type": "code",
   "execution_count": 2,
   "metadata": {},
   "outputs": [],
   "source": [
    "f = h5py.File('cons_locs_pathways_mc2_Column.h5', 'r')"
   ]
  },
  {
   "cell_type": "markdown",
   "metadata": {},
   "source": [
    "/locations : Nx3 dataset of neuron locations in 3d space (in um; one per neuron in the indicated population)\n",
    "\n",
    "/nCellAff : Nx1 dataset of number of afferent connections (one per neuron in the indicated population; \n",
    "             NOTE: INCLUDES SOME CONNECTIONS FROM NEURONS OUTSIDE THE VOLUME, SEE ABOVE!)\n",
    "             \n",
    "/nCellEff : Nx1 dataset of number of efferent connections (one per neuron in the indicated population; \n",
    "             NOTE: INCLUDES SOME CONNECTIONS TO NEURONS OUTSIDE THE VOLUME, SEE ABOVE!)\n",
    "             \n",
    "/nSynAff : Nx1 dataset of number of afferent synapses (multiple synapses per connection possible)\n",
    "\n",
    "/nSynEff : Nx1 dataset of number of efferent synapses"
   ]
  },
  {
   "cell_type": "code",
   "execution_count": 3,
   "metadata": {},
   "outputs": [],
   "source": [
    "popnames = f.get('populations')\n",
    "popnames = np.array(popnames)\n",
    "np.savetxt('popnames.txt',popnames, fmt='%s', delimiter=\" \")\n",
    "\n",
    "mtype_map_content = popnames\n",
    "n=0\n",
    "mtype_map = {}\n",
    "for line in mtype_map_content[0:55]:\n",
    "    n=n+1 \n",
    "    mtype_map[n] = str(line)    "
   ]
  },
  {
   "cell_type": "code",
   "execution_count": 4,
   "metadata": {},
   "outputs": [],
   "source": [
    "n=1\n",
    "poplocation = f.get('populations/{s}/locations'.format(s=mtype_map[n]))\n",
    "poplocation = np.array(poplocation)\n",
    "\n",
    "poplocation2 = f.get('populations/{s}/nCellAff'.format(s=mtype_map[n]))\n",
    "poplocation2 = np.array(poplocation2)\n",
    "\n",
    "poplocation = np.concatenate((poplocation,poplocation2), axis=1)\n",
    "\n",
    "poplocation2 = f.get('populations/{s}/nCellEff'.format(s=mtype_map[n]))\n",
    "poplocation2 = np.array(poplocation2)\n",
    "\n",
    "poplocation = np.concatenate((poplocation,poplocation2), axis=1)\n",
    "\n",
    "poplocation2 = f.get('populations/{s}/nSynAff'.format(s=mtype_map[n]))\n",
    "poplocation2 = np.array(poplocation2)\n",
    "\n",
    "poplocation = np.concatenate((poplocation,poplocation2), axis=1)\n",
    "\n",
    "poplocation2 = f.get('populations/{s}/nSynEff'.format(s=mtype_map[n]))\n",
    "poplocation2 = np.array(poplocation2)\n",
    "\n",
    "poplocation = np.concatenate((poplocation,poplocation2), axis=1)\n",
    "\n",
    "poplocation2 = n*np.ones(poplocation2.shape)\n",
    "poplocation = np.concatenate((poplocation,poplocation2), axis=1)\n",
    "\n",
    "np.savetxt('xyz_info_{s}.txt'.format(s=mtype_map[n]),poplocation, fmt='%.4f %.4f %.4f %d %d %d %d %d', delimiter=\" \")"
   ]
  },
  {
   "cell_type": "code",
   "execution_count": 5,
   "metadata": {},
   "outputs": [],
   "source": [
    "poplocationb = poplocation\n",
    "for line in mtype_map_content[0:55-1]:\n",
    "    n=n+1 \n",
    "    poplocation = f.get('populations/{s}/locations'.format(s=mtype_map[n]))\n",
    "    poplocation = np.array(poplocation)\n",
    "\n",
    "    poplocation2 = f.get('populations/{s}/nCellAff'.format(s=mtype_map[n]))\n",
    "    poplocation2 = np.array(poplocation2)\n",
    "\n",
    "    poplocation = np.concatenate((poplocation,poplocation2), axis=1)\n",
    "\n",
    "    poplocation2 = f.get('populations/{s}/nCellEff'.format(s=mtype_map[n]))\n",
    "    poplocation2 = np.array(poplocation2)\n",
    "\n",
    "    poplocation = np.concatenate((poplocation,poplocation2), axis=1)\n",
    "\n",
    "    poplocation2 = f.get('populations/{s}/nSynAff'.format(s=mtype_map[n]))\n",
    "    poplocation2 = np.array(poplocation2)\n",
    "\n",
    "    poplocation = np.concatenate((poplocation,poplocation2), axis=1)\n",
    "\n",
    "    poplocation2 = f.get('populations/{s}/nSynEff'.format(s=mtype_map[n]))\n",
    "    poplocation2 = np.array(poplocation2)\n",
    "\n",
    "    poplocation = np.concatenate((poplocation,poplocation2), axis=1)\n",
    "        \n",
    "    poplocation2 = n*np.ones(poplocation2.shape)\n",
    "    poplocation = np.concatenate((poplocation,poplocation2), axis=1)\n",
    "    \n",
    "    poplocationb =  np.concatenate((poplocationb,poplocation), axis=0)"
   ]
  },
  {
   "cell_type": "code",
   "execution_count": 6,
   "metadata": {},
   "outputs": [
    {
     "name": "stdout",
     "output_type": "stream",
     "text": [
      "number of afferent connections = 6422904\n",
      "number of efferent connections = 4884647\n",
      "number of afferent synapses = 22449073\n",
      "number of efferent synapses = 18318635\n"
     ]
    }
   ],
   "source": [
    "degreeout = poplocationb[:,3].sum(axis=0)\n",
    "print('number of afferent connections =',int(degreeout))\n",
    "degreeout = poplocationb[:,4].sum(axis=0)\n",
    "print('number of efferent connections =',int(degreeout))\n",
    "degreeout = poplocationb[:,5].sum(axis=0)\n",
    "print('number of afferent synapses =',int(degreeout))\n",
    "degreeout = poplocationb[:,6].sum(axis=0)\n",
    "print('number of efferent synapses =',int(degreeout))"
   ]
  },
  {
   "cell_type": "code",
   "execution_count": 7,
   "metadata": {},
   "outputs": [],
   "source": [
    "np.savetxt('xyz_info_mc2.txt',poplocationb, fmt='%.4f %.4f %.4f %d %d %d %d %d', delimiter=\" \")"
   ]
  },
  {
   "cell_type": "code",
   "execution_count": 8,
   "metadata": {},
   "outputs": [],
   "source": [
    "n=1\n",
    "poplocation = f.get('populations/{s}/locations'.format(s=mtype_map[n]))\n",
    "poplocation = np.array(poplocation)\n",
    "np.savetxt('xyz_{s}.txt'.format(s=mtype_map[n]),poplocation, fmt='%f', delimiter=\" \")"
   ]
  },
  {
   "cell_type": "code",
   "execution_count": 9,
   "metadata": {},
   "outputs": [],
   "source": [
    "n=1\n",
    "m=1\n",
    "matrix = f.get('connectivity/{s}/{s2}/cMat'.format(s=mtype_map[n],s2=mtype_map[m]))\n",
    "matrix = np.array(matrix)\n",
    "np.savetxt('matrix_{s}-{s2}.txt'.format(s=mtype_map[n],s2=mtype_map[m]),matrix, fmt='%d', delimiter=\" \")"
   ]
  },
  {
   "cell_type": "code",
   "execution_count": 10,
   "metadata": {},
   "outputs": [
    {
     "name": "stdout",
     "output_type": "stream",
     "text": [
      "31\n",
      "1538\n"
     ]
    }
   ],
   "source": [
    "n=1\n",
    "matrix = f.get('connectivity/{s}/{s2}/cMat'.format(s=mtype_map[1],s2=mtype_map[1]))\n",
    "matrix = np.array(matrix)\n",
    "degreeout = matrix.sum(axis=0)\n",
    "sumdeg = degreeout.sum(axis=0)\n",
    "print(sumdeg)\n",
    "# iterate through rows\n",
    "for i in range(len(mtype_map)-1):\n",
    "    n=n+1 \n",
    "    matrix2 = f.get('connectivity/{s}/{s2}/cMat'.format(s=mtype_map[n],s2=mtype_map[1]))\n",
    "    matrix2 = np.array(matrix2)\n",
    "    matrix = np.concatenate((matrix,matrix2), axis=0)\n",
    "    degreeout = matrix.sum(axis=0)\n",
    "    sumdeg = degreeout.sum(axis=0)\n",
    "\n",
    "print(sumdeg)"
   ]
  },
  {
   "cell_type": "code",
   "execution_count": 11,
   "metadata": {},
   "outputs": [],
   "source": [
    "#np.savetxt('matrix_{s}-full.txt'.format(s=mtype_map[1]),matrix, fmt='%d', delimiter=\" \")"
   ]
  },
  {
   "cell_type": "code",
   "execution_count": 12,
   "metadata": {},
   "outputs": [
    {
     "name": "stdout",
     "output_type": "stream",
     "text": [
      "1538 (31346, 59)\n",
      "7749866 (31346, 31346)\n"
     ]
    }
   ],
   "source": [
    "m=1\n",
    "n=1\n",
    "matrix = f.get('connectivity/{s}/{s2}/cMat'.format(s=mtype_map[1],s2=mtype_map[1]))\n",
    "matrix = np.array(matrix)\n",
    "# iterate through rows\n",
    "for i in range(len(mtype_map)-1):\n",
    "    n=n+1 \n",
    "    matrix2 = f.get('connectivity/{s}/{s2}/cMat'.format(s=mtype_map[n],s2=mtype_map[m]))\n",
    "    matrix2 = np.array(matrix2)\n",
    "    matrix = np.concatenate((matrix,matrix2), axis=0)\n",
    "    \n",
    "degreeout = matrix.sum(axis=0)\n",
    "sumdeg = degreeout.sum(axis=0)\n",
    "print (sumdeg,matrix.shape)    \n",
    "\n",
    "for j in range(len(mtype_map)-1):\n",
    "    m=m+1\n",
    "    n=1\n",
    "    matrixb = f.get('connectivity/{s}/{s2}/cMat'.format(s=mtype_map[n],s2=mtype_map[m]))\n",
    "    matrixb = np.array(matrixb)\n",
    "    # iterate through rows\n",
    "    for i in range(len(mtype_map)-1):\n",
    "        n=n+1 \n",
    "        matrix2 = f.get('connectivity/{s}/{s2}/cMat'.format(s=mtype_map[n],s2=mtype_map[m]))\n",
    "        matrix2 = np.array(matrix2)\n",
    "        matrixb = np.concatenate((matrixb,matrix2), axis=0)\n",
    "\n",
    "    matrix = np.concatenate((matrix,matrixb), axis=1)\n",
    "    #print (matrix.shape)\n",
    "    degreeout = matrix.sum(axis=0)\n",
    "    sumdeg = degreeout.sum(axis=0)\n",
    "\n",
    "print(sumdeg,matrix.shape)"
   ]
  },
  {
   "cell_type": "code",
   "execution_count": 13,
   "metadata": {},
   "outputs": [
    {
     "name": "stdout",
     "output_type": "stream",
     "text": [
      "[ 11  20   0 ... 270 224 902]\n",
      "7749866\n",
      "[ 10  39  98 ...  55 146 273]\n",
      "7749866\n"
     ]
    }
   ],
   "source": [
    "degreeout = matrix.sum(axis=0)\n",
    "sumdeg = degreeout.sum(axis=0)\n",
    "print(degreeout)\n",
    "print(sumdeg)\n",
    "degreein = matrix.sum(axis=1)\n",
    "sumdeg = degreein.sum(axis=0)\n",
    "print(degreein)\n",
    "print(sumdeg)"
   ]
  },
  {
   "cell_type": "code",
   "execution_count": 14,
   "metadata": {},
   "outputs": [],
   "source": [
    "np.savetxt('degree-out.txt',degreeout, fmt='%d', delimiter=\" \")\n",
    "np.savetxt('degree-in.txt',degreein, fmt='%d', delimiter=\" \")"
   ]
  },
  {
   "cell_type": "code",
   "execution_count": 15,
   "metadata": {},
   "outputs": [
    {
     "data": {
      "image/png": "[encoded data removed]",
      "text/plain": [
       "<Figure size 720x1080 with 4 Axes>"
      ]
     },
     "metadata": {
      "needs_background": "light"
     },
     "output_type": "display_data"
    }
   ],
   "source": [
    "%matplotlib inline\n",
    "import matplotlib.pyplot as plt\n",
    "\n",
    "figure = plt.figure(figsize=(10,15))\n",
    "ax = figure.add_subplot(221)\n",
    "ax2 = figure.add_subplot(222)\n",
    "ax3 = figure.add_subplot(223)\n",
    "ax4 = figure.add_subplot(224)\n",
    "_ = ax.plot(degreein)\n",
    "_ = ax2.plot(degreeout)\n",
    "_ = ax3.hist(degreein, bins='auto') \n",
    "_ = ax4.hist(degreeout, bins=np.arange(0,1000,10)) "
   ]
  },
  {
   "cell_type": "code",
   "execution_count": 16,
   "metadata": {},
   "outputs": [
    {
     "data": {
      "text/plain": [
       "<matplotlib.image.AxesImage at 0x7f90b7dcb9a0>"
      ]
     },
     "execution_count": 16,
     "metadata": {},
     "output_type": "execute_result"
    },
    {
     "data": {
      "image/png": "[encoded data removed]",
      "text/plain": [
       "<Figure size 720x720 with 1 Axes>"
      ]
     },
     "metadata": {
      "needs_background": "light"
     },
     "output_type": "display_data"
    }
   ],
   "source": [
    "fig = plt.figure(figsize=(10, 10)) \n",
    "plt.imshow(matrix[:1001,:1001],cmap=\"Greys\",interpolation=\"none\")"
   ]
  }
 ],
 "metadata": {
  "kernelspec": {
   "display_name": "Python 3",
   "language": "python",
   "name": "python3"
  },
  "language_info": {
   "codemirror_mode": {
    "name": "ipython",
    "version": 3
   },
   "file_extension": ".py",
   "mimetype": "text/x-python",
   "name": "python",
   "nbconvert_exporter": "python",
   "pygments_lexer": "ipython3",
   "version": "3.8.5"
  }
 },
 "nbformat": 4,
 "nbformat_minor": 2
}
