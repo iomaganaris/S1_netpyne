{
 "cells": [
  {
   "cell_type": "code",
   "execution_count": 1,
   "metadata": {},
   "outputs": [
    {
     "data": {
      "text/html": [
       "<style>.container { width:100% !important; }</style>"
      ],
      "text/plain": [
       "<IPython.core.display.HTML object>"
      ]
     },
     "metadata": {},
     "output_type": "display_data"
    }
   ],
   "source": [
    "from IPython.core.display import display, HTML\n",
    "display(HTML(\"<style>.container { width:100% !important; }</style>\"))"
   ]
  },
  {
   "cell_type": "code",
   "execution_count": 2,
   "metadata": {
    "id": "ySn38lLxI4ZI"
   },
   "outputs": [],
   "source": [
    "import numpy as np\n",
    "import pandas as pd"
   ]
  },
  {
   "cell_type": "code",
   "execution_count": 3,
   "metadata": {
    "id": "eUM5uh1YJ7Rs"
   },
   "outputs": [],
   "source": [
    "df = pd.read_csv('S1-ErrorAnalysis.csv', sep=';')"
   ]
  },
  {
   "cell_type": "code",
   "execution_count": 9,
   "metadata": {
    "colab": {
     "base_uri": "https://localhost:8080/",
     "height": 422
    },
    "id": "zvC0BqIlKdvM",
    "outputId": "bbc03285-c5ca-4b90-8729-23c6e954f457"
   },
   "outputs": [
    {
     "data": {
      "text/html": [
       "<div>\n",
       "<style scoped>\n",
       "    .dataframe tbody tr th:only-of-type {\n",
       "        vertical-align: middle;\n",
       "    }\n",
       "\n",
       "    .dataframe tbody tr th {\n",
       "        vertical-align: top;\n",
       "    }\n",
       "\n",
       "    .dataframe thead th {\n",
       "        text-align: right;\n",
       "    }\n",
       "</style>\n",
       "<table border=\"1\" class=\"dataframe\">\n",
       "  <thead>\n",
       "    <tr style=\"text-align: right;\">\n",
       "      <th></th>\n",
       "      <th>path</th>\n",
       "      <th>rangegauss_i</th>\n",
       "      <th>rangegauss_f</th>\n",
       "      <th>rangeexp_i</th>\n",
       "      <th>rangeexp_f</th>\n",
       "      <th>saturationtype</th>\n",
       "      <th>saturationrange_i</th>\n",
       "      <th>saturationrange_f</th>\n",
       "    </tr>\n",
       "  </thead>\n",
       "  <tbody>\n",
       "    <tr>\n",
       "      <th>0</th>\n",
       "      <td>L23_DBC:L1_NGC-DA</td>\n",
       "      <td>NaN</td>\n",
       "      <td>NaN</td>\n",
       "      <td>100.0</td>\n",
       "      <td>325.0</td>\n",
       "      <td>fit-es</td>\n",
       "      <td>0.0</td>\n",
       "      <td>100.0</td>\n",
       "    </tr>\n",
       "    <tr>\n",
       "      <th>1</th>\n",
       "      <td>L23_DBC:L6_BP</td>\n",
       "      <td>NaN</td>\n",
       "      <td>NaN</td>\n",
       "      <td>50.0</td>\n",
       "      <td>250.0</td>\n",
       "      <td>fit-ls</td>\n",
       "      <td>0.0</td>\n",
       "      <td>50.0</td>\n",
       "    </tr>\n",
       "    <tr>\n",
       "      <th>2</th>\n",
       "      <td>L23_LBC:L23_BP</td>\n",
       "      <td>NaN</td>\n",
       "      <td>NaN</td>\n",
       "      <td>125.0</td>\n",
       "      <td>225.0</td>\n",
       "      <td>fit-es</td>\n",
       "      <td>0.0</td>\n",
       "      <td>125.0</td>\n",
       "    </tr>\n",
       "    <tr>\n",
       "      <th>3</th>\n",
       "      <td>L4_MC:L6_MC</td>\n",
       "      <td>150.0</td>\n",
       "      <td>325.0</td>\n",
       "      <td>NaN</td>\n",
       "      <td>NaN</td>\n",
       "      <td>fit-es</td>\n",
       "      <td>0.0</td>\n",
       "      <td>125.0</td>\n",
       "    </tr>\n",
       "    <tr>\n",
       "      <th>4</th>\n",
       "      <td>L4_BP:L23_NBC</td>\n",
       "      <td>NaN</td>\n",
       "      <td>NaN</td>\n",
       "      <td>125.0</td>\n",
       "      <td>225.0</td>\n",
       "      <td>fit-es</td>\n",
       "      <td>0.0</td>\n",
       "      <td>125.0</td>\n",
       "    </tr>\n",
       "    <tr>\n",
       "      <th>...</th>\n",
       "      <td>...</td>\n",
       "      <td>...</td>\n",
       "      <td>...</td>\n",
       "      <td>...</td>\n",
       "      <td>...</td>\n",
       "      <td>...</td>\n",
       "      <td>...</td>\n",
       "      <td>...</td>\n",
       "    </tr>\n",
       "    <tr>\n",
       "      <th>130</th>\n",
       "      <td>L6_TPC_L1:L23_MC</td>\n",
       "      <td>NaN</td>\n",
       "      <td>NaN</td>\n",
       "      <td>150.0</td>\n",
       "      <td>400.0</td>\n",
       "      <td>fit-ls</td>\n",
       "      <td>0.0</td>\n",
       "      <td>150.0</td>\n",
       "    </tr>\n",
       "    <tr>\n",
       "      <th>131</th>\n",
       "      <td>L6_TPC_L1:L23_LBC</td>\n",
       "      <td>NaN</td>\n",
       "      <td>NaN</td>\n",
       "      <td>175.0</td>\n",
       "      <td>400.0</td>\n",
       "      <td>fit-es</td>\n",
       "      <td>0.0</td>\n",
       "      <td>175.0</td>\n",
       "    </tr>\n",
       "    <tr>\n",
       "      <th>132</th>\n",
       "      <td>L6_IPC:L23_MC</td>\n",
       "      <td>NaN</td>\n",
       "      <td>NaN</td>\n",
       "      <td>175.0</td>\n",
       "      <td>400.0</td>\n",
       "      <td>fit-ls</td>\n",
       "      <td>0.0</td>\n",
       "      <td>175.0</td>\n",
       "    </tr>\n",
       "    <tr>\n",
       "      <th>133</th>\n",
       "      <td>L6_BPC:L6_DBC</td>\n",
       "      <td>NaN</td>\n",
       "      <td>NaN</td>\n",
       "      <td>0.0</td>\n",
       "      <td>400.0</td>\n",
       "      <td>NaN</td>\n",
       "      <td>NaN</td>\n",
       "      <td>NaN</td>\n",
       "    </tr>\n",
       "    <tr>\n",
       "      <th>134</th>\n",
       "      <td>L6_BPC:L6_NGC</td>\n",
       "      <td>NaN</td>\n",
       "      <td>NaN</td>\n",
       "      <td>0.0</td>\n",
       "      <td>400.0</td>\n",
       "      <td>NaN</td>\n",
       "      <td>NaN</td>\n",
       "      <td>NaN</td>\n",
       "    </tr>\n",
       "  </tbody>\n",
       "</table>\n",
       "<p>135 rows × 8 columns</p>\n",
       "</div>"
      ],
      "text/plain": [
       "                  path  rangegauss_i  rangegauss_f  rangeexp_i  rangeexp_f  \\\n",
       "0    L23_DBC:L1_NGC-DA           NaN           NaN       100.0       325.0   \n",
       "1        L23_DBC:L6_BP           NaN           NaN        50.0       250.0   \n",
       "2       L23_LBC:L23_BP           NaN           NaN       125.0       225.0   \n",
       "3          L4_MC:L6_MC         150.0         325.0         NaN         NaN   \n",
       "4        L4_BP:L23_NBC           NaN           NaN       125.0       225.0   \n",
       "..                 ...           ...           ...         ...         ...   \n",
       "130   L6_TPC_L1:L23_MC           NaN           NaN       150.0       400.0   \n",
       "131  L6_TPC_L1:L23_LBC           NaN           NaN       175.0       400.0   \n",
       "132      L6_IPC:L23_MC           NaN           NaN       175.0       400.0   \n",
       "133      L6_BPC:L6_DBC           NaN           NaN         0.0       400.0   \n",
       "134      L6_BPC:L6_NGC           NaN           NaN         0.0       400.0   \n",
       "\n",
       "    saturationtype  saturationrange_i  saturationrange_f  \n",
       "0           fit-es                0.0              100.0  \n",
       "1           fit-ls                0.0               50.0  \n",
       "2           fit-es                0.0              125.0  \n",
       "3           fit-es                0.0              125.0  \n",
       "4           fit-es                0.0              125.0  \n",
       "..             ...                ...                ...  \n",
       "130         fit-ls                0.0              150.0  \n",
       "131         fit-es                0.0              175.0  \n",
       "132         fit-ls                0.0              175.0  \n",
       "133            NaN                NaN                NaN  \n",
       "134            NaN                NaN                NaN  \n",
       "\n",
       "[135 rows x 8 columns]"
      ]
     },
     "execution_count": 9,
     "metadata": {},
     "output_type": "execute_result"
    }
   ],
   "source": [
    "df"
   ]
  },
  {
   "cell_type": "code",
   "execution_count": null,
   "metadata": {},
   "outputs": [],
   "source": [
    "for i in range(len(df)):\n",
    "    try:\n",
    "        if 'fit-es' in df['saturationtype'][i]:\n",
    "            if np.isnan(df['rangegauss_i'][i]):"
   ]
  },
  {
   "cell_type": "code",
   "execution_count": 5,
   "metadata": {},
   "outputs": [
    {
     "name": "stdout",
     "output_type": "stream",
     "text": [
      "L23_DBC:L1_NGC-DA\n",
      "L23_LBC:L23_BP\n",
      "L4_BP:L23_NBC\n",
      "L5_MC:L4_BP\n",
      "L5_BTC:L6_DBC\n",
      "L5_BP:L5_BTC\n",
      "L5_BP:L5_LBC\n",
      "L6_UTPC:L5_NGC\n",
      "L6_IPC:L5_NGC\n",
      "L6_MC:L1_NGC-DA\n",
      "L6_BTC:L23_PC\n",
      "L6_BP:L6_MC\n",
      "L6_NGC:L6_BP\n",
      "L1_SLAC:L1_DLAC\n",
      "L23_LBC:L4_ChC\n",
      "L23_SBC:L4_ChC\n",
      "L4_MC:L23_ChC\n",
      "L4_MC:L5_DBC\n",
      "L4_LBC:L6_BP\n",
      "L5_LBC:L6_BTC\n",
      "L6_TPC_L4:L4_DBC\n",
      "L6_TPC_L4:L6_NGC\n",
      "L6_BP:L6_BP\n",
      "L23_NBC:L4_DBC\n",
      "L4_ChC:L4_PC\n",
      "L4_ChC:L4_SP\n",
      "L5_MC:L6_IPC\n",
      "L6_TPC_L4:L4_NBC\n",
      "L6_BPC:L23_NBC\n",
      "L23_LBC:L6_MC\n",
      "L4_MC:L5_BP\n",
      "L4_NGC:L4_NBC\n",
      "L4_NBC:L4_ChC\n",
      "L23_LBC:L4_NBC\n",
      "L4_BTC:L5_MC\n",
      "L4_LBC:L23_DBC\n",
      "L5_UTPC:L5_SBC\n",
      "L5_MC:L5_BP\n",
      "L5_ChC:L6_IPC\n",
      "L6_TPC_L1:L23_LBC\n",
      "\n",
      "3 L4_MC:L6_MC fit-es  Gauss 150.0 325.0\n",
      "5 L4_SBC:L4_ChC fit-es  Gauss 125.0 250.0\n",
      "29 L23_NBC:L23_BP fit-es  Gauss 100.0 275.0\n",
      "95 L6_TPC_L1:L4_BTC fit-es  Gauss 0.0 350.0\n",
      "119 L4_ChC:L5_TTPC1 fit-es  Gauss 75.0 400.0\n",
      "120 L5_TTPC1:L5_NGC fit-es  Gauss 50.0 400.0\n"
     ]
    }
   ],
   "source": [
    "for i in range(len(df)):\n",
    "    try:\n",
    "        if 'fit-es' in df['saturationtype'][i]:\n",
    "            if np.isnan(df['rangegauss_i'][i]):\n",
    "#                     print(i,df['path'][i],df['saturationtype'][i],' Exp',df['rangeexp_i'][i],df['rangeexp_f'][i])\n",
    "                    print(df['path'][i])\n",
    "    except:\n",
    "        a = 0\n",
    "print()        \n",
    "for i in range(len(df)):\n",
    "    try:\n",
    "        if 'fit-es' in df['saturationtype'][i]:\n",
    "            if np.isnan(df['rangeexp_i'][i]):\n",
    "                    print(i,df['path'][i],df['saturationtype'][i],' Gauss',df['rangegauss_i'][i],df['rangegauss_f'][i])\n",
    "    except:\n",
    "        a = 0"
   ]
  },
  {
   "cell_type": "code",
   "execution_count": 11,
   "metadata": {
    "colab": {
     "base_uri": "https://localhost:8080/"
    },
    "id": "GguWlYFYNoiR",
    "outputId": "95a8c726-d835-4518-d912-f512229ddaee"
   },
   "outputs": [
    {
     "name": "stdout",
     "output_type": "stream",
     "text": [
      "6 L5_TTPC2:L1_NGC-SA nan 0.0 nan\n",
      "15 L6_BPC:L23_ChC nan 0.0 nan\n",
      "37 L5_NGC:L4_MC nan 0.0 nan\n",
      "38 L5_LBC:L4_NGC nan 0.0 nan\n",
      "79 L4_DBC:L5_DBC nan 0.0 nan\n",
      "80 L4_DBC:L5_ChC nan 0.0 nan\n",
      "92 L5_BP:L23_SBC nan 0.0 nan\n",
      "109 L4_PC:L4_DBC nan 0.0 nan\n",
      "111 L4_PC:L5_DBC nan 0.0 nan\n",
      "112 L4_PC:L5_NGC nan 0.0 nan\n",
      "133 L6_BPC:L6_DBC nan 0.0 nan\n",
      "134 L6_BPC:L6_NGC nan 0.0 nan\n"
     ]
    }
   ],
   "source": [
    "for i in range(len(df)):\n",
    "    if np.isnan(df['rangegauss_i'][i]):\n",
    "        best_fit = 'exp'\n",
    "        fit_range = np.arange(df['rangeexp_f'][i]) + df['rangeexp_i'][i]\n",
    "        if np.isnan(df['saturationrange_i'][i]):\n",
    "            c = 0\n",
    "            print(i, df['path'][i],df['saturationtype'][i],df['rangeexp_i'][i],df['rangegauss_i'][i])\n",
    "        else:\n",
    "            saturation_type = df['saturationtype'][i]\n",
    "            saturation_range = np.arange(df['saturationrange_f'][i])\n",
    "    elif np.isnan(df['rangeexp_i'][i]):\n",
    "        best_fit = 'gauss'\n",
    "        fit_range = np.arange(df['rangegauss_f'][i]) + df['rangegauss_i'][i]\n",
    "    else:\n",
    "        path = df['path'][i]\n",
    "#         print(f'The path {path} has two saturation types. Index: {i}')\n",
    "        range_gauss = np.arange(df['rangegauss_f'][i]) + df['rangegauss_i'][i]\n",
    "        range_exp = np.arange(df['rangeexp_f'][i]) + df['rangeexp_i'][i]\n",
    "        if np.isnan(df['saturationrange_i'][i]):\n",
    "            c = 0\n",
    "        else:\n",
    "            saturation_type = df['saturationtype'][i]\n",
    "            saturation_range = np.arange(df['saturationrange_f'][i])"
   ]
  },
  {
   "cell_type": "code",
   "execution_count": 15,
   "metadata": {},
   "outputs": [
    {
     "name": "stdout",
     "output_type": "stream",
     "text": [
      "6 L5_TTPC2:L1_NGC-SA nan 0.0 350.0 nan nan\n",
      "15 L6_BPC:L23_ChC nan 0.0 200.0 nan nan\n",
      "37 L5_NGC:L4_MC nan 0.0 175.0 nan nan\n",
      "38 L5_LBC:L4_NGC nan 0.0 175.0 nan nan\n",
      "79 L4_DBC:L5_DBC nan 0.0 175.0 nan nan\n",
      "80 L4_DBC:L5_ChC nan 0.0 175.0 nan nan\n",
      "92 L5_BP:L23_SBC nan 0.0 150.0 nan nan\n",
      "109 L4_PC:L4_DBC nan 0.0 400.0 nan nan\n",
      "111 L4_PC:L5_DBC nan 0.0 400.0 nan nan\n",
      "112 L4_PC:L5_NGC nan 0.0 400.0 nan nan\n",
      "133 L6_BPC:L6_DBC nan 0.0 400.0 nan nan\n",
      "134 L6_BPC:L6_NGC nan 0.0 400.0 nan nan\n"
     ]
    }
   ],
   "source": [
    "for i in range(len(df)):\n",
    "    if df['rangeexp_i'][i] < 25.0 and df['rangegauss_i'][i] != df['rangeexp_f'][i]:\n",
    "        print(i, df['path'][i],df['saturationtype'][i],df['rangeexp_i'][i],df['rangeexp_f'][i],df['rangegauss_i'][i],df['rangegauss_f'][i])"
   ]
  },
  {
   "cell_type": "code",
   "execution_count": null,
   "metadata": {},
   "outputs": [],
   "source": []
  },
  {
   "cell_type": "code",
   "execution_count": null,
   "metadata": {},
   "outputs": [],
   "source": []
  }
 ],
 "metadata": {
  "colab": {
   "name": "S1-ErrorAnalysis.ipynb",
   "provenance": []
  },
  "kernelspec": {
   "display_name": "Python 3 (ipykernel)",
   "language": "python",
   "name": "python3"
  },
  "language_info": {
   "codemirror_mode": {
    "name": "ipython",
    "version": 3
   },
   "file_extension": ".py",
   "mimetype": "text/x-python",
   "name": "python",
   "nbconvert_exporter": "python",
   "pygments_lexer": "ipython3",
   "version": "3.9.6"
  }
 },
 "nbformat": 4,
 "nbformat_minor": 1
}
