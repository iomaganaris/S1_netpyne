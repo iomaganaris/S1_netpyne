{
 "cells": [
  {
   "cell_type": "code",
   "execution_count": 1,
   "id": "5b4404b0",
   "metadata": {},
   "outputs": [],
   "source": [
    "import matplotlib.pyplot as plt\n",
    "import numpy as np\n",
    "import pickle, json\n",
    "\n",
    "## load data from conn pre-processing file\n",
    "with open('../sim/conn/conn.pkl', 'rb') as fileObj: connData = pickle.load(fileObj)\n",
    "\n",
    "pmatfull = connData['pmat']\n",
    "lmat = connData['lmat']\n",
    "a0mat = connData['a0mat']\n",
    "d0 = connData['d0']\n",
    "connNumber = connData['connNumber']\n",
    "synperconnNumber = connData['synperconnNumber']"
   ]
  },
  {
   "cell_type": "markdown",
   "id": "43313aa6",
   "metadata": {},
   "source": [
    "# Matrix with all NetPyNE data"
   ]
  },
  {
   "cell_type": "code",
   "execution_count": 2,
   "id": "17d4802a",
   "metadata": {},
   "outputs": [],
   "source": [
    "Matrix_full = {}\n",
    "Matrix_full_min = {}\n",
    "Matrix_full_max = {}"
   ]
  },
  {
   "cell_type": "markdown",
   "id": "afe0d45e",
   "metadata": {},
   "source": [
    "## Pre from 0 to 13"
   ]
  },
  {
   "cell_type": "code",
   "execution_count": 3,
   "id": "c5373136",
   "metadata": {},
   "outputs": [],
   "source": [
    "data = {}\n",
    "\n",
    "for gid in range(7):\n",
    "\tdata[gid] = {}\n",
    "\n",
    "\twith open('../data/v6_batch0/v6_batch0_{s}_pop_numConns_matrix.json'.format(s=gid), 'r') as f:\n",
    "\t\tdata[gid] = json.load(f) \n",
    "\t\n",
    "\tincludePre = data[gid]['includePre']\n",
    "\n",
    "\tif gid == 0:\n",
    "\t\tconnMatrix = np.matrix(data[gid]['connMatrix'])\n",
    "\t\tconnMatrixmax = np.matrix(data[gid]['connMatrix'])\n",
    "\t\tconnMatrixmin = np.matrix(data[gid]['connMatrix'])\n",
    "\telse:\n",
    "\t\tconnMatrix = connMatrix + np.matrix(data[gid]['connMatrix'])\n",
    "\n",
    "\t\tconnMatrix0 = np.matrix(data[gid]['connMatrix'])\n",
    "\t\tfor preN in range(14):\n",
    "\t\t\tfor postN in range(55):\n",
    "\t\t\t\tpre = includePre[preN]\n",
    "\t\t\t\tpost = includePre[postN]\n",
    "\t\t\t\tif connMatrix0[preN,postN] > connMatrixmax[preN,postN]:\n",
    "\t\t\t\t\tconnMatrixmax[preN,postN] = connMatrix0[preN,postN]\n",
    "\t\t\t\tif connMatrix0[preN,postN] < connMatrixmin[preN,postN]:\n",
    "\t\t\t\t\tconnMatrixmin[preN,postN] = connMatrix0[preN,postN]\n",
    "\n",
    "connMatrix = connMatrix/14\n",
    "connMatrixmin = connMatrixmin/2\n",
    "connMatrixmax = connMatrixmax/2 \n",
    "\n",
    "Matrix_full = connMatrix\n",
    "Matrix_full_min = connMatrixmin\n",
    "Matrix_full_max = connMatrixmax"
   ]
  },
  {
   "cell_type": "code",
   "execution_count": 4,
   "id": "12d326e1",
   "metadata": {
    "scrolled": false
   },
   "outputs": [
    {
     "name": "stdout",
     "output_type": "stream",
     "text": [
      "6 14 L23_BP:L23_PC 97.3 128.4 8 113.00 142.00 32.0 31 25.0\n",
      "6 24 L23_BP:L4_PC 156.1 212.6 9 205.00 220.00 36.2 56 175.0\n",
      "10 22 L23_LBC:L4_NBC 114.9 149.3 11 139.00 164.00 29.9 34 125.0\n",
      "12 20 L23_NBC:L4_LBC 80.7 102.0 11 92.00 113.00 26.4 21 150.0\n"
     ]
    }
   ],
   "source": [
    "for preN in range(14):\n",
    "    for postN in range(55):\n",
    "        pre = includePre[preN]\n",
    "        post = includePre[postN]\n",
    "        if float(connNumber[pre][post]) > 0:\n",
    "\n",
    "            connMatrix2 = connMatrix[preN,postN]/int(synperconnNumber[pre][post]+0.5)\n",
    "\n",
    "            error = 100*(connMatrix2-float(connNumber[pre][post]))/float(connNumber[pre][post])\n",
    "            error2 = connMatrix2-float(connNumber[pre][post])\n",
    "            if abs(error) > 20 and abs(error2) > 20 and connMatrix[preN,postN] > 0:\n",
    "                print('%d %d %s:%s %.1f %.1f %d %.2f %.2f %.1f %.0f %s' % (preN,postN,includePre[preN],includePre[postN],float(connNumber[pre][post]),connMatrix2,\n",
    "                                                                           int(synperconnNumber[pre][post]+0.5),connMatrixmin[preN,postN]/int(synperconnNumber[pre][post]+0.5),connMatrixmax[preN,postN]/int(synperconnNumber[pre][post]+0.5),\n",
    "                                                                           error,error2,d0[pre][post]))                                  "
   ]
  },
  {
   "cell_type": "markdown",
   "id": "d4d83612",
   "metadata": {},
   "source": [
    "## Pre 14 and 15 (L1, L23,  and L4)"
   ]
  },
  {
   "cell_type": "code",
   "execution_count": 5,
   "id": "ec3d46e2",
   "metadata": {},
   "outputs": [],
   "source": [
    "data = {}\n",
    "\n",
    "for gid in range(7):\n",
    "\tdata[gid] = {}\n",
    "\n",
    "\twith open('../data/v6_batch1/v6_batch1_{s}_pop_numConns_matrix.json'.format(s=gid), 'r') as f:\n",
    "\t\tdata[gid] = json.load(f) \n",
    "\t\n",
    "\tincludePre = data[gid]['includePre']\n",
    "\n",
    "\tif gid == 0:\n",
    "\t\tconnMatrix = np.matrix(data[gid]['connMatrix'])\n",
    "\t\tconnMatrixmax = np.matrix(data[gid]['connMatrix'])\n",
    "\t\tconnMatrixmin = np.matrix(data[gid]['connMatrix'])\n",
    "\telse:\n",
    "\t\tconnMatrix = connMatrix + np.matrix(data[gid]['connMatrix'])\n",
    "\n",
    "\t\tconnMatrix0 = np.matrix(data[gid]['connMatrix'])\n",
    "\t\tfor preN in range(14,16):\n",
    "\t\t\tfor postN in range(55):\n",
    "\t\t\t\tpre = includePre[preN]\n",
    "\t\t\t\tpost = includePre[postN]\n",
    "\t\t\t\tif connMatrix0[preN,postN] > connMatrixmax[preN,postN]:\n",
    "\t\t\t\t\tconnMatrixmax[preN,postN] = connMatrix0[preN,postN]\n",
    "\t\t\t\tif connMatrix0[preN,postN] < connMatrixmin[preN,postN]:\n",
    "\t\t\t\t\tconnMatrixmin[preN,postN] = connMatrix0[preN,postN]\n",
    "\n",
    "connMatrix = connMatrix/14\n",
    "connMatrixmin = connMatrixmin/2\n",
    "connMatrixmax = connMatrixmax/2     \n",
    "\n",
    "Matrix_full = Matrix_full + connMatrix\n",
    "Matrix_full_min = Matrix_full_min + connMatrixmin\n",
    "Matrix_full_max = Matrix_full_max + connMatrixmax"
   ]
  },
  {
   "cell_type": "code",
   "execution_count": 6,
   "id": "6bd9fecc",
   "metadata": {},
   "outputs": [],
   "source": [
    "for preN in range(14,16):\n",
    "    for postN in range(55):\n",
    "        pre = includePre[preN]\n",
    "        post = includePre[postN]\n",
    "        if float(connNumber[pre][post]) > 0:\n",
    "\n",
    "            connMatrix2 = connMatrix[preN,postN]/int(synperconnNumber[pre][post]+0.5)\n",
    "\n",
    "            error = 100*(connMatrix2-float(connNumber[pre][post]))/float(connNumber[pre][post])\n",
    "            error2 = connMatrix2-float(connNumber[pre][post])\n",
    "            if abs(error) > 20 and abs(error2) > 20 and connMatrix[preN,postN] > 0:\n",
    "                print('%d %d %s:%s %.1f %.1f %d %.2f %.2f %.1f %.0f %s' % (preN,postN,includePre[preN],includePre[postN],float(connNumber[pre][post]),connMatrix2,\n",
    "                                                                           int(synperconnNumber[pre][post]+0.5),connMatrixmin[preN,postN]/int(synperconnNumber[pre][post]+0.5),connMatrixmax[preN,postN]/int(synperconnNumber[pre][post]+0.5),\n",
    "                                                                           error,error2,d0[pre][post]))                                  "
   ]
  },
  {
   "cell_type": "markdown",
   "id": "6f6ccbef",
   "metadata": {},
   "source": [
    "## Pre 14 and 15 (L5  and L6)"
   ]
  },
  {
   "cell_type": "code",
   "execution_count": 7,
   "id": "aa85f260",
   "metadata": {},
   "outputs": [],
   "source": [
    "data = {}\n",
    "\n",
    "for gid in range(7):\n",
    "\tdata[gid] = {}\n",
    "\n",
    "\twith open('../data/v6_batchb/v6_batchb_{s}_pop_numConns_matrix.json'.format(s=gid), 'r') as f:\n",
    "\t\tdata[gid] = json.load(f) \n",
    "\t\n",
    "\tincludePre = data[gid]['includePre']\n",
    "\n",
    "\tif gid == 0:\n",
    "\t\tconnMatrix = np.matrix(data[gid]['connMatrix'])\n",
    "\t\tconnMatrixmax = np.matrix(data[gid]['connMatrix'])\n",
    "\t\tconnMatrixmin = np.matrix(data[gid]['connMatrix'])\n",
    "\telse:\n",
    "\t\tconnMatrix = connMatrix + np.matrix(data[gid]['connMatrix'])\n",
    "\n",
    "\t\tconnMatrix0 = np.matrix(data[gid]['connMatrix'])\n",
    "\t\tfor preN in range(14,16):\n",
    "\t\t\tfor postN in range(55):\n",
    "\t\t\t\tpre = includePre[preN]\n",
    "\t\t\t\tpost = includePre[postN]\n",
    "\t\t\t\tif connMatrix0[preN,postN] > connMatrixmax[preN,postN]:\n",
    "\t\t\t\t\tconnMatrixmax[preN,postN] = connMatrix0[preN,postN]\n",
    "\t\t\t\tif connMatrix0[preN,postN] < connMatrixmin[preN,postN]:\n",
    "\t\t\t\t\tconnMatrixmin[preN,postN] = connMatrix0[preN,postN]\n",
    "\n",
    "connMatrix = connMatrix/14\n",
    "connMatrixmin = connMatrixmin/2\n",
    "connMatrixmax = connMatrixmax/2     \n",
    "\n",
    "Matrix_full = Matrix_full + connMatrix\n",
    "Matrix_full_min = Matrix_full_min + connMatrixmin\n",
    "Matrix_full_max = Matrix_full_max + connMatrixmax"
   ]
  },
  {
   "cell_type": "code",
   "execution_count": 8,
   "id": "7aa2e165",
   "metadata": {},
   "outputs": [],
   "source": [
    "for preN in range(14,16):\n",
    "    for postN in range(55):\n",
    "        pre = includePre[preN]\n",
    "        post = includePre[postN]\n",
    "        if float(connNumber[pre][post]) > 0:\n",
    "\n",
    "            connMatrix2 = connMatrix[preN,postN]/int(synperconnNumber[pre][post]+0.5)\n",
    "\n",
    "            error = 100*(connMatrix2-float(connNumber[pre][post]))/float(connNumber[pre][post])\n",
    "            error2 = connMatrix2-float(connNumber[pre][post])\n",
    "            if abs(error) > 20 and abs(error2) > 20 and connMatrix[preN,postN] > 0:\n",
    "                print('%d %d %s:%s %.1f %.1f %d %.2f %.2f %.1f %.0f %s' % (preN,postN,includePre[preN],includePre[postN],float(connNumber[pre][post]),connMatrix2,\n",
    "                                                                           int(synperconnNumber[pre][post]+0.5),connMatrixmin[preN,postN]/int(synperconnNumber[pre][post]+0.5),connMatrixmax[preN,postN]/int(synperconnNumber[pre][post]+0.5),\n",
    "                                                                           error,error2,d0[pre][post]))                                  "
   ]
  },
  {
   "cell_type": "markdown",
   "id": "25f0deea",
   "metadata": {},
   "source": [
    "## pop from 16 to 54"
   ]
  },
  {
   "cell_type": "code",
   "execution_count": 9,
   "id": "235ccea0",
   "metadata": {},
   "outputs": [],
   "source": [
    "for preN in range(55):\n",
    "    for postN in range(55):\n",
    "        connMatrix[preN,postN] = 0\n",
    "        connMatrixmax[preN,postN] = 0\n",
    "        connMatrixmin[preN,postN] = 0\n",
    "        connMatrix0[preN,postN] = 0\n",
    "\n",
    "data = {}\n",
    "gid2 = 4321\n",
    "for gid in range(7):  \n",
    "    \n",
    "    data[gid] = {}\n",
    "    for preN in range(16,55):\n",
    "        data[gid][preN] = {}\n",
    "        pre = includePre[preN]\n",
    "        \n",
    "        with open('../data/pop_16_54/Netconnections_Netpyne_{s2}_{s}.json'.format(s2=pre,s=gid2), 'r') as f:\n",
    "            data[gid][preN] = json.load(f) \n",
    "            \n",
    "        if gid == 4321:\n",
    "            connMatrix[preN] = np.matrix(data[gid][preN]['connMatrix'])\n",
    "            connMatrixmax[preN] = np.matrix(data[gid][preN]['connMatrix'])\n",
    "            connMatrixmin[preN] = np.matrix(data[gid][preN]['connMatrix'])\n",
    "        else:\n",
    "            connMatrix[preN] = connMatrix[preN] + np.matrix(data[gid][preN]['connMatrix'])\n",
    "\n",
    "        connMatrix0[preN] = np.matrix(data[gid][preN]['connMatrix'])\n",
    "        for postN in range(55):\n",
    "            post = includePre[postN]\n",
    "            if connMatrix0[preN,postN] > connMatrixmax[preN,postN]:\n",
    "                connMatrixmax[preN,postN] = connMatrix0[preN,postN]\n",
    "            if connMatrix0[preN,postN] < connMatrixmin[preN,postN]:\n",
    "                connMatrixmin[preN,postN] = connMatrix0[preN,postN]               \n",
    "                \n",
    "\n",
    "    gid2 += 1\n",
    "    \n",
    "connMatrix = connMatrix/14\n",
    "connMatrixmin = connMatrixmin/2\n",
    "connMatrixmax = connMatrixmax/2     \n",
    "\n",
    "Matrix_full = Matrix_full + connMatrix\n",
    "Matrix_full_min = Matrix_full_min + connMatrixmin\n",
    "Matrix_full_max = Matrix_full_max + connMatrixmax"
   ]
  },
  {
   "cell_type": "code",
   "execution_count": 10,
   "id": "6f7068c7",
   "metadata": {
    "scrolled": true
   },
   "outputs": [
    {
     "data": {
      "text/plain": [
       "(55, 55)"
      ]
     },
     "execution_count": 10,
     "metadata": {},
     "output_type": "execute_result"
    }
   ],
   "source": [
    "connMatrix.shape"
   ]
  },
  {
   "cell_type": "code",
   "execution_count": 11,
   "id": "135fab1c",
   "metadata": {},
   "outputs": [
    {
     "name": "stdout",
     "output_type": "stream",
     "text": [
      "18 24 L4_ChC:L4_PC 104.7 143.7 1 0.00 162.00 37.3 39 125.0\n",
      "18 38 L4_ChC:L5_TTPC1 110.4 133.6 1 0.00 149.00 21.0 23 75.0\n",
      "21 8 L4_MC:L23_ChC 47.1 68.4 11 0.00 77.00 45.3 21 150.0\n",
      "24 19 L4_PC:L4_DBC 279.9 201.9 6 0.00 231.00 -27.9 -78 12.5\n",
      "24 31 L4_PC:L5_DBC 795.1 610.9 5 0.00 625.00 -23.2 -184 12.5\n",
      "33 10 L5_MC:L23_LBC 874.6 677.4 11 0.00 697.00 -22.5 -197 200.0\n",
      "33 13 L5_MC:L23_NGC 71.1 46.1 8 0.00 61.00 -35.1 -25 200.0\n",
      "33 46 L5_MC:L6_IPC 417.3 571.7 5 0.00 594.00 37.0 154 150.0\n",
      "38 45 L5_TTPC1:L6_DBC 131.0 83.9 6 0.00 88.00 -36.0 -47 12.5\n",
      "41 12 L6_BPC:L23_NBC 79.9 110.6 4 0.00 116.00 38.4 31 125.0\n",
      "41 45 L6_BPC:L6_DBC 284.1 226.4 5 0.00 236.00 -20.3 -58 12.5\n",
      "41 50 L6_BPC:L6_NGC 89.6 64.6 5 0.00 71.00 -27.9 -25 12.5\n",
      "42 48 L6_BP:L6_MC 62.3 126.6 9 0.00 148.00 103.2 64 125.0\n",
      "52 10 L6_TPC_L1:L23_LBC 83.4 107.6 5 0.00 123.00 29.0 24 175.0\n",
      "53 22 L6_TPC_L4:L4_NBC 92.9 121.6 5 0.00 138.00 30.9 29 125.0\n"
     ]
    }
   ],
   "source": [
    "for preN in range(16,55):\n",
    "    for postN in range(55):\n",
    "        pre = includePre[preN]\n",
    "        post = includePre[postN]\n",
    "        if float(connNumber[pre][post]) > 0:\n",
    "\n",
    "            connMatrix2 = connMatrix[preN,postN]/int(synperconnNumber[pre][post]+0.5)\n",
    "\n",
    "            error = 100*(connMatrix2-float(connNumber[pre][post]))/float(connNumber[pre][post])\n",
    "            error2 = connMatrix2-float(connNumber[pre][post])\n",
    "            if abs(error) > 20 and abs(error2) > 20 and connMatrix[preN,postN] > 0:\n",
    "                print('%d %d %s:%s %.1f %.1f %d %.2f %.2f %.1f %.0f %s' % (preN,postN,includePre[preN],includePre[postN],float(connNumber[pre][post]),connMatrix2,\n",
    "                                                                           int(synperconnNumber[pre][post]+0.5),connMatrixmin[preN,postN]/int(synperconnNumber[pre][post]+0.5),connMatrixmax[preN,postN]/int(synperconnNumber[pre][post]+0.5),\n",
    "                                                                           error,error2,d0[pre][post]))   "
   ]
  },
  {
   "cell_type": "markdown",
   "id": "3adc7314",
   "metadata": {},
   "source": [
    "## Full"
   ]
  },
  {
   "cell_type": "code",
   "execution_count": 19,
   "id": "82121a01",
   "metadata": {
    "scrolled": false
   },
   "outputs": [
    {
     "name": "stdout",
     "output_type": "stream",
     "text": [
      "*L1_DAC:L5_UTPC*,\n",
      "*L1_SLAC:L23_NBC*,\n",
      "*L23_DBC:L23_ChC*,\n",
      "*L23_LBC:L4_NBC*,\n",
      "*L23_MC:L6_IPC*,\n",
      "*L23_NBC:L1_NGC-DA*,\n",
      "*L23_NBC:L1_NGC-SA*,\n",
      "*L23_NBC:L1_SLAC*,\n",
      "*L23_NBC:L4_LBC*,\n",
      "*L4_BTC:L5_MC*,\n",
      "*L4_ChC:L4_SS*,\n",
      "*L4_ChC:L5_TTPC1*,\n",
      "*L4_DBC:L23_MC*,\n",
      "*L4_DBC:L4_NBC*,\n",
      "*L4_LBC:L23_DBC*,\n",
      "*L4_NBC:L4_DBC*,\n",
      "*L4_PC:L4_DBC*,\n",
      "*L4_PC:L4_NGC*,\n",
      "*L4_PC:L5_DBC*,\n",
      "*L4_PC:L5_NGC*,\n",
      "*L5_BP:L4_SS*,\n",
      "*L5_ChC:L6_IPC*,\n",
      "*L5_LBC:L5_BP*,\n",
      "*L5_MC:L23_LBC*,\n",
      "*L5_MC:L5_BP*,\n",
      "*L5_NBC:L23_LBC*,\n",
      "*L5_NGC:L6_TPC_L1*,\n",
      "*L5_TTPC1:L5_NGC*,\n",
      "*L5_TTPC2:L23_ChC*,\n",
      "*L5_UTPC:L5_SBC*,\n",
      "*L6_BPC:L6_DBC*,\n",
      "*L6_BPC:L6_NGC*,\n",
      "*L6_IPC:L23_MC*,\n",
      "*L6_TPC_L1:L23_LBC*,\n",
      "*L6_TPC_L1:L23_MC*,\n",
      "\n",
      "----------------\n",
      " 35 bad fits\n",
      "----------------\n",
      "\n"
     ]
    }
   ],
   "source": [
    "number = 0\n",
    "for preN in range(55):\n",
    "    for postN in range(55):\n",
    "        pre = includePre[preN]\n",
    "        post = includePre[postN]\n",
    "        if float(connNumber[pre][post]) > 0:\n",
    "\n",
    "            connMatrix2 = Matrix_full[preN,postN]/int(synperconnNumber[pre][post]+0.5)\n",
    "\n",
    "            error = 100*(connMatrix2-float(connNumber[pre][post]))/float(connNumber[pre][post])\n",
    "            error2 = connMatrix2-float(connNumber[pre][post])\n",
    "            if abs(error) > 20 and abs(error) <= 30 and abs(error2) > 5:\n",
    "#                 print('%d %d %s:%s %.1f %.1f %d %.2f %.2f %.1f %.0f %s' % (preN,postN,includePre[preN],includePre[postN],float(connNumber[pre][post]),connMatrix2,\n",
    "#                                                                            int(synperconnNumber[pre][post]+0.5),Matrix_full_min[preN,postN]/int(synperconnNumber[pre][post]+0.5),Matrix_full_max[preN,postN]/int(synperconnNumber[pre][post]+0.5),\n",
    "#                                                                            error,error2,d0[pre][post]))   \n",
    "                print('*%s:%s*,' % (includePre[preN],includePre[postN]))   \n",
    "                number+=1\n",
    "                \n",
    "print('\\n----------------\\n',number,'bad fits\\n----------------\\n')"
   ]
  }
 ],
 "metadata": {
  "kernelspec": {
   "display_name": "Python 3 (ipykernel)",
   "language": "python",
   "name": "python3"
  },
  "language_info": {
   "codemirror_mode": {
    "name": "ipython",
    "version": 3
   },
   "file_extension": ".py",
   "mimetype": "text/x-python",
   "name": "python",
   "nbconvert_exporter": "python",
   "pygments_lexer": "ipython3",
   "version": "3.9.6"
  }
 },
 "nbformat": 4,
 "nbformat_minor": 5
}
