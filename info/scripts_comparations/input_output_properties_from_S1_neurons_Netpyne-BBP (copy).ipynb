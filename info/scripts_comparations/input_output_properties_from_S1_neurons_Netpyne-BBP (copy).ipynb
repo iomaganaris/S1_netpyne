{
 "cells": [
  {
   "cell_type": "markdown",
   "metadata": {},
   "source": [
    "# Input-output properties cells"
   ]
  },
  {
   "cell_type": "code",
   "execution_count": 1,
   "metadata": {},
   "outputs": [
    {
     "ename": "FileNotFoundError",
     "evalue": "[Errno 2] No such file or directory: 'cell_data/'",
     "output_type": "error",
     "traceback": [
      "\u001b[0;31m---------------------------------------------------------------------------\u001b[0m",
      "\u001b[0;31mFileNotFoundError\u001b[0m                         Traceback (most recent call last)",
      "\u001b[0;32m<ipython-input-1-2282dd3d1ec4>\u001b[0m in \u001b[0;36m<module>\u001b[0;34m\u001b[0m\n\u001b[1;32m      7\u001b[0m \u001b[0;32mfrom\u001b[0m \u001b[0mmatplotlib\u001b[0m \u001b[0;32mimport\u001b[0m \u001b[0mpyplot\u001b[0m \u001b[0;32mas\u001b[0m \u001b[0mplt\u001b[0m\u001b[0;34m\u001b[0m\u001b[0;34m\u001b[0m\u001b[0m\n\u001b[1;32m      8\u001b[0m \u001b[0;34m\u001b[0m\u001b[0m\n\u001b[0;32m----> 9\u001b[0;31m \u001b[0mfolder\u001b[0m \u001b[0;34m=\u001b[0m \u001b[0mos\u001b[0m\u001b[0;34m.\u001b[0m\u001b[0mlistdir\u001b[0m\u001b[0;34m(\u001b[0m\u001b[0;34m'cell_data/'\u001b[0m\u001b[0;34m)\u001b[0m\u001b[0;34m\u001b[0m\u001b[0;34m\u001b[0m\u001b[0m\n\u001b[0m\u001b[1;32m     10\u001b[0m \u001b[0;31m#print(folders)\u001b[0m\u001b[0;34m\u001b[0m\u001b[0;34m\u001b[0m\u001b[0;34m\u001b[0m\u001b[0m\n\u001b[1;32m     11\u001b[0m \u001b[0mcellnumber\u001b[0m\u001b[0;34m=\u001b[0m\u001b[0;36m0\u001b[0m\u001b[0;34m\u001b[0m\u001b[0;34m\u001b[0m\u001b[0m\n",
      "\u001b[0;31mFileNotFoundError\u001b[0m: [Errno 2] No such file or directory: 'cell_data/'"
     ]
    }
   ],
   "source": [
    "import numpy as np\n",
    "import os\n",
    "from matplotlib import pyplot as plt\n",
    "\n",
    "folder = os.listdir('cell_data/')\n",
    "#print(folders)\n",
    "cellnumber=0\n",
    "print(folder[cellnumber])\n",
    "\n",
    "rootFolder = '/home/fernando/Downloads/S1_BBP-master/S1detailed/cell_data/'+folder[cellnumber]\n",
    "outFolder = '/home/fernando/Downloads/S1_BBP-master/S1detailed/cell_data/'+folder[cellnumber]\n",
    "dataNetpyneFile = rootFolder+'/S1detailed.json'\n",
    "\n",
    "print('Loading neuron data from %s'%rootFolder)\n",
    "\n",
    "# Options\n",
    "runPlot = 1\n",
    "compareTraces = 1\n"
   ]
  },
  {
   "cell_type": "code",
   "execution_count": 3,
   "metadata": {
    "scrolled": true
   },
   "outputs": [
    {
     "name": "stdout",
     "output_type": "stream",
     "text": [
      "(0, 'L4_BTC_bSTUT213_3')\n",
      "L4_BTC_bSTUT213_3\n"
     ]
    }
   ],
   "source": [
    "cellnumber=-1\n",
    "for cellname in folder[0:1]:\n",
    "    cellnumber=cellnumber+1\n",
    "    print (cellnumber,cellname)\n",
    "\n",
    "    print(folder[cellnumber])\n",
    "    os.chdir(rootFolder)"
   ]
  },
  {
   "cell_type": "code",
   "execution_count": 3,
   "metadata": {},
   "outputs": [
    {
     "name": "stdout",
     "output_type": "stream",
     "text": [
      "/home/fernando/Downloads/S1_BBP-master/S1detailed/cell_data/L6_NBC_bIR215_1\n",
      "ls: cannot access 'mechanisms/*.inc': No such file or directory\n",
      "mechanisms/CaDynamics_E2.mod mechanisms/Ca_LVAst.mod mechanisms/Ca.mod mechanisms/Ih.mod mechanisms/Im.mod mechanisms/K_Pst.mod mechanisms/K_Tst.mod mechanisms/Nap_Et2.mod mechanisms/NaTa_t.mod mechanisms/NaTs2_t.mod mechanisms/ProbAMPANMDA_EMS.mod mechanisms/ProbGABAAB_EMS.mod mechanisms/SK_E2.mod mechanisms/SKv3_1.mod mechanisms/StochKv.mod\n",
      "CaDynamics_E2.mod Ca_LVAst.mod Ca.mod Ih.mod Im.mod K_Pst.mod K_Tst.mod Nap_Et2.mod NaTa_t.mod NaTs2_t.mod ProbAMPANMDA_EMS.mod ProbGABAAB_EMS.mod SK_E2.mod SKv3_1.mod StochKv.mod\n",
      "\"/home/fernando/neuron/nrn/share/nrn/libtool\" --tag=CC --mode=compile mpicc -DHAVE_CONFIG_H  -I. -I.. -I\"/home/fernando/neuron/nrn/include/nrn\" -I\"/home/fernando/neuron/nrn/x86_64/lib\"    -DNDEBUG -D_FORTIFY_SOURCE=2 -O2  -g -O2 -c -o mod_func.lo mod_func.c\n",
      "libtool: compile:  mpicc -DHAVE_CONFIG_H -I. -I.. -I/home/fernando/neuron/nrn/include/nrn -I/home/fernando/neuron/nrn/x86_64/lib -DNDEBUG -D_FORTIFY_SOURCE=2 -O2 -g -O2 -c mod_func.c  -fPIC -DPIC -o .libs/mod_func.o\n",
      "\"/home/fernando/neuron/nrn/share/nrn/libtool\" --tag=CC --mode=link mpicc -module  -g -O2    -o libnrnmech.la -rpath \"/home/fernando/neuron/nrn/x86_64/lib\"  CaDynamics_E2.lo Ca_LVAst.lo Ca.lo Ih.lo Im.lo K_Pst.lo K_Tst.lo Nap_Et2.lo NaTa_t.lo NaTs2_t.lo ProbAMPANMDA_EMS.lo ProbGABAAB_EMS.lo SK_E2.lo SKv3_1.lo StochKv.lo mod_func.lo  -L\"/home/fernando/neuron/nrn/x86_64/lib\" -lnrnoc -loc -lmemacs -lnrnmpi -lscopmath -lsparse13 -lreadline -lncurses -ltinfo -L\"/home/fernando/neuron/nrn/x86_64/lib\" -lnrniv -livoc -lneuron_gnu -lmeschach -lsundials       -lm -ldl\n",
      "libtool: link: rm -fr  .libs/libnrnmech.la .libs/libnrnmech.lai .libs/libnrnmech.so .libs/libnrnmech.so.0 .libs/libnrnmech.so.0.0.0\n",
      "libtool: link: mpicc -shared  -fPIC -DPIC  .libs/CaDynamics_E2.o .libs/Ca_LVAst.o .libs/Ca.o .libs/Ih.o .libs/Im.o .libs/K_Pst.o .libs/K_Tst.o .libs/Nap_Et2.o .libs/NaTa_t.o .libs/NaTs2_t.o .libs/ProbAMPANMDA_EMS.o .libs/ProbGABAAB_EMS.o .libs/SK_E2.o .libs/SKv3_1.o .libs/StochKv.o .libs/mod_func.o   -Wl,-rpath -Wl,/home/fernando/neuron/nrn/x86_64/lib -Wl,-rpath -Wl,/home/fernando/neuron/nrn/x86_64/lib -L/home/fernando/neuron/nrn/x86_64/lib /home/fernando/neuron/nrn/x86_64/lib/libnrnoc.so /home/fernando/neuron/nrn/x86_64/lib/liboc.so /home/fernando/neuron/nrn/x86_64/lib/libmemacs.so /home/fernando/neuron/nrn/x86_64/lib/libnrnmpi.so /home/fernando/neuron/nrn/x86_64/lib/libscopmath.so /home/fernando/neuron/nrn/x86_64/lib/libsparse13.so /home/fernando/neuron/nrn/x86_64/lib/libreadline.so -lncurses -ltinfo /home/fernando/neuron/nrn/x86_64/lib/libnrniv.so /home/fernando/neuron/nrn/x86_64/lib/libivoc.so /home/fernando/neuron/nrn/x86_64/lib/libneuron_gnu.so /home/fernando/neuron/nrn/x86_64/lib/libmeschach.so /home/fernando/neuron/nrn/x86_64/lib/libsundials.so -lm -ldl  -g -O2   -pthread -Wl,-soname -Wl,libnrnmech.so.0 -o .libs/libnrnmech.so.0.0.0\n",
      "libtool: link: (cd \".libs\" && rm -f \"libnrnmech.so.0\" && ln -s \"libnrnmech.so.0.0.0\" \"libnrnmech.so.0\")\n",
      "libtool: link: (cd \".libs\" && rm -f \"libnrnmech.so\" && ln -s \"libnrnmech.so.0.0.0\" \"libnrnmech.so\")\n",
      "libtool: link: ( cd \".libs\" && rm -f \"libnrnmech.la\" && ln -s \"../libnrnmech.la\" \"libnrnmech.la\" )\n",
      "Successfully created x86_64/special\n"
     ]
    }
   ],
   "source": [
    "!nrnivmodl mechanisms"
   ]
  },
  {
   "cell_type": "code",
   "execution_count": 2,
   "metadata": {},
   "outputs": [
    {
     "name": "stderr",
     "output_type": "stream",
     "text": [
      "NEURON: Couldn't find: ./init.hoc\n",
      " near line 0\n",
      " ^\n"
     ]
    }
   ],
   "source": [
    "import neuron as nrn # NEURON simulator\n",
    "nrn.h.load_file(\"./init.hoc\");"
   ]
  },
  {
   "cell_type": "code",
   "execution_count": 2,
   "metadata": {
    "scrolled": true
   },
   "outputs": [
    {
     "name": "stdout",
     "output_type": "stream",
     "text": [
      "File content:  -0.038940 0.0990468 0.1073007 0.1155546\n",
      "Holding current: -0.038940 nA\n",
      "Step 1: 0.099047 nA\n",
      "Step 2: 0.107301 nA\n",
      "Step 3: 0.115555 nA\n",
      "\t1 \n",
      "\t1 \n",
      "\t1 \n",
      "\n",
      "Creating network of 4 cell populations on 1 hosts...\n",
      "  Number of cells on node 0: 4 \n",
      "  Done; cell creation time = 0.24 s.\n",
      "Making connections...\n",
      "  Number of connections on node 0: 0 \n",
      "  Done; cell connection time = 0.00 s.\n",
      "Adding stims...\n",
      "  Number of stims on node 0: 4 \n",
      "  Done; cell stims creation time = 0.00 s.\n",
      "Recording 8 traces of 2 types on node 0\n",
      "\n",
      "Running simulation for 12.0 ms...\n",
      "  Done; run time = 0.41 s; real-time ratio: 0.03.\n",
      "\n",
      "Gathering data...\n",
      "  Done; gather time = 0.40 s.\n",
      "\n",
      "Analyzing...\n",
      "  Cells: 4\n",
      "  Connections: 0 (0.00 per cell)\n",
      "  Spikes: 0 (0.00 Hz)\n",
      "  Simulated time: 0.0 s; 1 workers\n",
      "  Run time: 0.41 s\n",
      "Saving output as ./S1detailed.pkl ... \n",
      "Finished saving!\n",
      "Saving output as ./S1detailed.json  ... \n",
      "Finished saving!\n",
      "  Done; saving time = 1.09 s.\n",
      "  Done; plotting time = 0.00 s\n",
      "\n",
      "Total time = 2.16 s\n"
     ]
    }
   ],
   "source": [
    "from netpyne import sim\n",
    "from cfg import cfg\n",
    "from netParams import netParams\n",
    "\n",
    "sim.createSimulateAnalyze(netParams, cfg)"
   ]
  },
  {
   "cell_type": "code",
   "execution_count": 9,
   "metadata": {},
   "outputs": [],
   "source": [
    "os.chdir(rootFolder)"
   ]
  },
  {
   "cell_type": "code",
   "execution_count": 10,
   "metadata": {
    "scrolled": true
   },
   "outputs": [
    {
     "name": "stdout",
     "output_type": "stream",
     "text": [
      "/home/fernando/Downloads/S1_BBP-master/S1detailed/cell_data/L6_NBC_bIR215_1\n",
      "ls: cannot access 'mechanisms/*.inc': No such file or directory\n",
      "mechanisms/CaDynamics_E2.mod mechanisms/Ca_LVAst.mod mechanisms/Ca.mod mechanisms/Ih.mod mechanisms/Im.mod mechanisms/K_Pst.mod mechanisms/K_Tst.mod mechanisms/Nap_Et2.mod mechanisms/NaTa_t.mod mechanisms/NaTs2_t.mod mechanisms/ProbAMPANMDA_EMS.mod mechanisms/ProbGABAAB_EMS.mod mechanisms/SK_E2.mod mechanisms/SKv3_1.mod mechanisms/StochKv.mod\n",
      "CaDynamics_E2.mod Ca_LVAst.mod Ca.mod Ih.mod Im.mod K_Pst.mod K_Tst.mod Nap_Et2.mod NaTa_t.mod NaTs2_t.mod ProbAMPANMDA_EMS.mod ProbGABAAB_EMS.mod SK_E2.mod SKv3_1.mod StochKv.mod\n",
      "\"/home/fernando/neuron/nrn/share/nrn/libtool\" --tag=CC --mode=compile mpicc -DHAVE_CONFIG_H  -I. -I.. -I\"/home/fernando/neuron/nrn/include/nrn\" -I\"/home/fernando/neuron/nrn/x86_64/lib\"    -DNDEBUG -D_FORTIFY_SOURCE=2 -O2  -g -O2 -c -o mod_func.lo mod_func.c\n",
      "libtool: compile:  mpicc -DHAVE_CONFIG_H -I. -I.. -I/home/fernando/neuron/nrn/include/nrn -I/home/fernando/neuron/nrn/x86_64/lib -DNDEBUG -D_FORTIFY_SOURCE=2 -O2 -g -O2 -c mod_func.c  -fPIC -DPIC -o .libs/mod_func.o\n",
      "\"/home/fernando/neuron/nrn/share/nrn/libtool\" --tag=CC --mode=link mpicc -module  -g -O2    -o libnrnmech.la -rpath \"/home/fernando/neuron/nrn/x86_64/lib\"  CaDynamics_E2.lo Ca_LVAst.lo Ca.lo Ih.lo Im.lo K_Pst.lo K_Tst.lo Nap_Et2.lo NaTa_t.lo NaTs2_t.lo ProbAMPANMDA_EMS.lo ProbGABAAB_EMS.lo SK_E2.lo SKv3_1.lo StochKv.lo mod_func.lo  -L\"/home/fernando/neuron/nrn/x86_64/lib\" -lnrnoc -loc -lmemacs -lnrnmpi -lscopmath -lsparse13 -lreadline -lncurses -ltinfo -L\"/home/fernando/neuron/nrn/x86_64/lib\" -lnrniv -livoc -lneuron_gnu -lmeschach -lsundials       -lm -ldl\n",
      "libtool: link: rm -fr  .libs/libnrnmech.la .libs/libnrnmech.lai .libs/libnrnmech.so .libs/libnrnmech.so.0 .libs/libnrnmech.so.0.0.0\n",
      "libtool: link: mpicc -shared  -fPIC -DPIC  .libs/CaDynamics_E2.o .libs/Ca_LVAst.o .libs/Ca.o .libs/Ih.o .libs/Im.o .libs/K_Pst.o .libs/K_Tst.o .libs/Nap_Et2.o .libs/NaTa_t.o .libs/NaTs2_t.o .libs/ProbAMPANMDA_EMS.o .libs/ProbGABAAB_EMS.o .libs/SK_E2.o .libs/SKv3_1.o .libs/StochKv.o .libs/mod_func.o   -Wl,-rpath -Wl,/home/fernando/neuron/nrn/x86_64/lib -Wl,-rpath -Wl,/home/fernando/neuron/nrn/x86_64/lib -L/home/fernando/neuron/nrn/x86_64/lib /home/fernando/neuron/nrn/x86_64/lib/libnrnoc.so /home/fernando/neuron/nrn/x86_64/lib/liboc.so /home/fernando/neuron/nrn/x86_64/lib/libmemacs.so /home/fernando/neuron/nrn/x86_64/lib/libnrnmpi.so /home/fernando/neuron/nrn/x86_64/lib/libscopmath.so /home/fernando/neuron/nrn/x86_64/lib/libsparse13.so /home/fernando/neuron/nrn/x86_64/lib/libreadline.so -lncurses -ltinfo /home/fernando/neuron/nrn/x86_64/lib/libnrniv.so /home/fernando/neuron/nrn/x86_64/lib/libivoc.so /home/fernando/neuron/nrn/x86_64/lib/libneuron_gnu.so /home/fernando/neuron/nrn/x86_64/lib/libmeschach.so /home/fernando/neuron/nrn/x86_64/lib/libsundials.so -lm -ldl  -g -O2   -pthread -Wl,-soname -Wl,libnrnmech.so.0 -o .libs/libnrnmech.so.0.0.0\n",
      "libtool: link: (cd \".libs\" && rm -f \"libnrnmech.so.0\" && ln -s \"libnrnmech.so.0.0.0\" \"libnrnmech.so.0\")\n",
      "libtool: link: (cd \".libs\" && rm -f \"libnrnmech.so\" && ln -s \"libnrnmech.so.0.0.0\" \"libnrnmech.so\")\n",
      "libtool: link: ( cd \".libs\" && rm -f \"libnrnmech.la\" && ln -s \"../libnrnmech.la\" \"libnrnmech.la\" )\n",
      "Successfully created x86_64/special\n"
     ]
    }
   ],
   "source": [
    "!nrnivmodl mechanisms"
   ]
  },
  {
   "cell_type": "code",
   "execution_count": 11,
   "metadata": {
    "scrolled": false
   },
   "outputs": [],
   "source": [
    "import neuron as nrn # NEURON simulator\n",
    "nrn.h.load_file(\"./init.hoc\");"
   ]
  },
  {
   "cell_type": "code",
   "execution_count": 12,
   "metadata": {},
   "outputs": [
    {
     "name": "stderr",
     "output_type": "stream",
     "text": [
      "NEURON: create_cell undefined function\n",
      " in createsimulation.hoc near line 0\n",
      " ^\n",
      "        create_cell(1)\n"
     ]
    },
    {
     "ename": "RuntimeError",
     "evalue": "hoc error",
     "output_type": "error",
     "traceback": [
      "\u001b[0;31m---------------------------------------------------------------------------\u001b[0m",
      "\u001b[0;31mRuntimeError\u001b[0m                              Traceback (most recent call last)",
      "\u001b[0;32m<ipython-input-12-52c33852bf19>\u001b[0m in \u001b[0;36m<module>\u001b[0;34m()\u001b[0m\n\u001b[0;32m----> 1\u001b[0;31m \u001b[0mnrn\u001b[0m\u001b[0;34m.\u001b[0m\u001b[0mh\u001b[0m\u001b[0;34m.\u001b[0m\u001b[0mcreate_cell\u001b[0m\u001b[0;34m(\u001b[0m\u001b[0;36m1\u001b[0m\u001b[0;34m)\u001b[0m\u001b[0;34m;\u001b[0m \u001b[0;31m# argument 1 stands for 'load synapses'\u001b[0m\u001b[0;34m\u001b[0m\u001b[0m\n\u001b[0m",
      "\u001b[0;31mRuntimeError\u001b[0m: hoc error"
     ]
    }
   ],
   "source": [
    "nrn.h.create_cell(1); # argument 1 stands for 'load synapses'"
   ]
  },
  {
   "cell_type": "code",
   "execution_count": null,
   "metadata": {},
   "outputs": [],
   "source": [
    "cell = nrn.h.cell\n",
    "soma = cell.soma[0]"
   ]
  },
  {
   "cell_type": "code",
   "execution_count": null,
   "metadata": {},
   "outputs": [],
   "source": [
    "stimulus = nrn.h.IClamp(0.5, sec=soma)"
   ]
  },
  {
   "cell_type": "code",
   "execution_count": null,
   "metadata": {},
   "outputs": [],
   "source": [
    "stimulus.dur = 1000 # ms\n",
    "stimulus.delay = 100  # ms     "
   ]
  },
  {
   "cell_type": "code",
   "execution_count": null,
   "metadata": {},
   "outputs": [],
   "source": [
    "with open('current_amps.dat') as current_file:\n",
    "    current_content = current_file.read()\n",
    "\n",
    "print 'File content: ', current_content\n",
    "holding_current, step1_current, step2_current, step3_current = [float(x) for x in current_content.split()]\n",
    "\n",
    "print\n",
    "print 'Holding current: %f nA' % holding_current\n",
    "print 'Step 1: %f nA' % step1_current\n",
    "print 'Step 2: %f nA' % step2_current\n",
    "print 'Step 3: %f nA' % step3_current"
   ]
  },
  {
   "cell_type": "code",
   "execution_count": null,
   "metadata": {},
   "outputs": [],
   "source": [
    "# fig = plt.figure(figsize=(9,9))\n",
    "# fig.subplots_adjust(hspace=0.4, wspace=0.4)\n",
    "\n",
    "bmtkTraces = []\n",
    "bmtkTracesList = []\n",
    "\n",
    "i=0\n",
    "for x in current_content.split():\n",
    "    i=i+1   \n",
    "    nrn.h.create_recording();    #activate recording of activity \n",
    "    \n",
    "    if float(x)<0:\n",
    "        stimulus.amp = float(x)\n",
    "    else:\n",
    "        stimulus.amp = holding_current+float(x)\n",
    "        \n",
    "    nrn.h.dt = 0.05\n",
    "    \n",
    "    nrn.h.tstop = 12 # ms\n",
    "    nrn.h.run();\n",
    "\n",
    "    time = nrn.h.time\n",
    "    voltage = nrn.h.voltage\n",
    "    bmtkTraces.append(np.array(voltage))\n",
    "    bmtkTracesList.append(list(voltage))\n",
    "#     ax = fig.add_subplot(4, 1, i)\n",
    "#     ax.plot(time,voltage)\n",
    "#     plt.xlabel('Time (ms)')\n",
    "#     plt.ylabel('V_soma (mV)')\n",
    "#     plt.xlim(0,1200)\n",
    "\n",
    "# fig.savefig('{s1}/{s}.png'.format(s1=rootFolder,s=folder[cellnumber]))"
   ]
  },
  {
   "cell_type": "code",
   "execution_count": null,
   "metadata": {
    "scrolled": true
   },
   "outputs": [],
   "source": [
    "if compareTraces:\n",
    "    # store netpyne traces\n",
    "    netpyneTraces = []\n",
    "    netpyneTracesList = []\n",
    "    for c in range(0,4):\n",
    "        netpyneTraces.append(np.array(sim.simData['V_soma']['cell_'+ str(c)]))\n",
    "        netpyneTracesList.append(list(sim.simData['V_soma']['cell_'+ str(c)]))\n",
    "\n",
    "    with open(outFolder+'/netpyne_traces_300cells.json', 'w') as f:\n",
    "        json.dump(netpyneTracesList, f)\n",
    "\n",
    "    # plot both traces overlayed\n",
    "    recordStep = sim.cfg.recordStep\n",
    "    timeRange = [0, sim.cfg.duration]\n",
    "    fontsiz=8\n",
    "    ylim = [-100, 40]\n",
    "    figSize = (10,10)\n",
    "    fig = plt.figure(figsize=figSize)  # Open a new figure\n",
    "\n",
    "    for c in range(0,4):\n",
    "        netpyneTrace = netpyneTraces[c]\n",
    "        bmtkTrace = bmtkTraces[c]\n",
    "        t = np.arange(timeRange[0], timeRange[1]+recordStep, recordStep)\n",
    "        plt.subplot(len(sim.cfg.recordCells), 1, c+1)\n",
    "        plt.ylabel('V (mV)', fontsize=fontsiz)\n",
    "        plt.plot(t[:len(netpyneTrace)], netpyneTrace, linewidth=1.5, color='red', label='Step %d'%(int(c))+', NetPyNE')\n",
    "        plt.plot(t[:len(bmtkTrace)], bmtkTrace, linewidth=1.0, color='green', label='Step %d'%(int(c))+', BBP')  # linestyle=':'\n",
    "        plt.xlabel('Time (ms)', fontsize=fontsiz)\n",
    "        plt.xlim(timeRange)\n",
    "        plt.ylim(ylim)\n",
    "        plt.grid(True)\n",
    "        plt.legend(loc='upper right', bbox_to_anchor=(1.25, 1.0))\n",
    "    plt.ion()\n",
    "    plt.tight_layout()\n",
    "    plt.savefig(outFolder+'/comparison_traces.png')\n",
    "    plt.show()"
   ]
  },
  {
   "cell_type": "code",
   "execution_count": null,
   "metadata": {},
   "outputs": [],
   "source": []
  }
 ],
 "metadata": {
  "kernelspec": {
   "display_name": "Python 3",
   "language": "python",
   "name": "python3"
  },
  "language_info": {
   "codemirror_mode": {
    "name": "ipython",
    "version": 3
   },
   "file_extension": ".py",
   "mimetype": "text/x-python",
   "name": "python",
   "nbconvert_exporter": "python",
   "pygments_lexer": "ipython3",
   "version": "3.7.9"
  },
  "widgets": {
   "state": {
    "5d7515ec2d3c485faf342256962a9e1b": {
     "views": [
      {
       "cell_index": 55
      }
     ]
    },
    "67b10b1ff7bd4d00996c6f8c66ea2f54": {
     "views": [
      {
       "cell_index": 87
      }
     ]
    },
    "ac8a9e4ca55645a3828b4266fadf29a9": {
     "views": [
      {
       "cell_index": 41
      }
     ]
    }
   },
   "version": "1.2.0"
  }
 },
 "nbformat": 4,
 "nbformat_minor": 2
}
