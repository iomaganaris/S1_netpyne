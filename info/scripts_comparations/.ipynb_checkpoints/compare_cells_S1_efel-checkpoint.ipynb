{
 "cells": [
  {
   "cell_type": "code",
   "execution_count": 1,
   "metadata": {},
   "outputs": [
    {
     "name": "stdout",
     "output_type": "stream",
     "text": [
      "/home/fernando/S1_netpyne/sim/\n"
     ]
    }
   ],
   "source": [
    "import h5py\n",
    "import json\n",
    "import numpy as np\n",
    "import os\n",
    "import sys\n",
    "from matplotlib import pyplot as plt\n",
    "\n",
    "rootFolder = '/home/fernando/S1_netpyne/sim/'\n",
    "# rootFolder = os.getcwd()\n",
    "os.chdir(rootFolder)\n",
    "print(rootFolder)\n",
    "folder = os.listdir('cell_data/')\n",
    "folder = sorted(folder)\n",
    "\n",
    "savedata = 1 # Save Netpyne and BBP soma_voltage"
   ]
  },
  {
   "cell_type": "code",
   "execution_count": 2,
   "metadata": {},
   "outputs": [
    {
     "name": "stdout",
     "output_type": "stream",
     "text": [
      "/home/fernando/S1_netpyne/sim\n",
      "Mod files: \"mod/cadad.mod\" \"mod/CaDynamics_E2.mod\" \"mod/Ca_HVA.mod\" \"mod/Ca_LVAst.mod\" \"mod/Ca.mod\" \"mod/DetAMPANMDA.mod\" \"mod/DetGABAAB.mod\" \"mod/HH2.mod\" \"mod/htc.mod\" \"mod/Ih.mod\" \"mod/Im.mod\" \"mod/IT2.mod\" \"mod/IT.mod\" \"mod/KdShu2007.mod\" \"mod/kl.mod\" \"mod/K_Pst.mod\" \"mod/K_Tst.mod\" \"mod/MyExp2SynBB.mod\" \"mod/MyExp2SynNMDABB.mod\" \"mod/Nap_Et2.mod\" \"mod/NaTa_t.mod\" \"mod/NaTs2_t.mod\" \"mod/ProbAMPANMDA_EMS.mod\" \"mod/ProbGABAAB_EMS.mod\" \"mod/SK_E2.mod\" \"mod/SKv3_1.mod\" \"mod/StochKv_deterministic.mod\" \"mod/StochKv.mod\" \"mod/tia.mod\"\n",
      "\n",
      "COBJS=''\n",
      " -> \u001b[32mCompiling\u001b[0m mod_func.c\n",
      "gcc -O2   -I.   -I/home/fernando/anaconda3/envs/netpynedev/lib/python3.7/site-packages/neuron/.data/include  -I/nrnwheel/openmpi/include -fPIC -c mod_func.c -o mod_func.o\n",
      " => \u001b[32mLINKING\u001b[0m shared library ./libnrnmech.so\n",
      "g++ -O2 -DVERSION_INFO='8.0.0' -std=c++11 -shared -fPIC  -I /home/fernando/anaconda3/envs/netpynedev/lib/python3.7/site-packages/neuron/.data/include -o ./libnrnmech.so -Wl,-soname,libnrnmech.so \\\n",
      "  ./mod_func.o ./cadad.o ./CaDynamics_E2.o ./Ca_HVA.o ./Ca_LVAst.o ./Ca.o ./DetAMPANMDA.o ./DetGABAAB.o ./HH2.o ./htc.o ./Ih.o ./Im.o ./IT2.o ./IT.o ./KdShu2007.o ./kl.o ./K_Pst.o ./K_Tst.o ./MyExp2SynBB.o ./MyExp2SynNMDABB.o ./Nap_Et2.o ./NaTa_t.o ./NaTs2_t.o ./ProbAMPANMDA_EMS.o ./ProbGABAAB_EMS.o ./SK_E2.o ./SKv3_1.o ./StochKv_deterministic.o ./StochKv.o ./tia.o  -L/home/fernando/anaconda3/envs/netpynedev/lib/python3.7/site-packages/neuron/.data/lib -lnrniv -Wl,-rpath,/home/fernando/anaconda3/envs/netpynedev/lib/python3.7/site-packages/neuron/.data/lib   \n",
      "rm -f ./.libs/libnrnmech.so ; mkdir -p ./.libs ; cp ./libnrnmech.so ./.libs/libnrnmech.so\n",
      "Successfully created x86_64/special\n"
     ]
    }
   ],
   "source": [
    "!nrnivmodl mod"
   ]
  },
  {
   "cell_type": "code",
   "execution_count": 3,
   "metadata": {},
   "outputs": [
    {
     "data": {
      "text/plain": [
       "['L23_PC_cADpyr229_1',\n",
       " 'L23_PC_cADpyr229_2',\n",
       " 'L23_PC_cADpyr229_3',\n",
       " 'L23_PC_cADpyr229_4',\n",
       " 'L23_PC_cADpyr229_5']"
      ]
     },
     "execution_count": 3,
     "metadata": {},
     "output_type": "execute_result"
    }
   ],
   "source": [
    "folder[265:270]"
   ]
  },
  {
   "cell_type": "code",
   "execution_count": 4,
   "metadata": {},
   "outputs": [],
   "source": [
    "def loadTemplateName(cellnumber):     \n",
    "    f = open(outFolder+'/template.hoc', 'r')\n",
    "    for line in f.readlines():\n",
    "        if 'begintemplate' in line:\n",
    "            templatename = str(line)     \n",
    "    templatename=templatename[:-1]        \n",
    "    templatename=templatename[14:]\n",
    "    return templatename"
   ]
  },
  {
   "cell_type": "code",
   "execution_count": 5,
   "metadata": {},
   "outputs": [],
   "source": [
    "def runneuron(cellnumber):\n",
    "        \n",
    "    os.chdir(rootFolder)\n",
    "    \n",
    "    cellName = folder[cellnumber]\n",
    "    cellTemplateName = loadTemplateName(cellnumber)\n",
    "\n",
    "    from cellwrapper4 import loadCell #StochKv.mod\n",
    "    cell=loadCell(cellName, cellTemplateName)\n",
    "\n",
    "    soma = cell.soma[0]\n",
    "\n",
    "    BBPTraces = []\n",
    "    BBPTracesList = []\n",
    "\n",
    "    i=0\n",
    "    for x in ampstim:\n",
    "        i=i+1   \n",
    "        \n",
    "        stimulus = neuron.h.IClamp(0.5, sec=soma)\n",
    "\n",
    "        stimulus.dur = durationstim # ms\n",
    "        stimulus.delay = delaystim  # ms         \n",
    "        stimulus.amp = x\n",
    "\n",
    "        recordings = {}\n",
    "\n",
    "        recordings['time'] = neuron.h.Vector()\n",
    "        recordings['soma(0.5)'] = neuron.h.Vector()\n",
    "\n",
    "        recordings['time'].record(neuron.h._ref_t, 0.1)\n",
    "        recordings['soma(0.5)'].record(cell.soma[0](0.5)._ref_v, 0.1)\n",
    "\n",
    "        neuron.h.dt = 0.05\n",
    "        neuron.h.cvode_active(0)\n",
    "        neuron.h.tstop = timesimulation # ms\n",
    "        neuron.h.run();\n",
    "\n",
    "        time = np.array(recordings['time'])\n",
    "        soma_voltage = np.array(recordings['soma(0.5)'])\n",
    "\n",
    "        BBPTraces.append(soma_voltage)\n",
    "        BBPTracesList.append(list(soma_voltage))\n",
    "    return BBPTraces"
   ]
  },
  {
   "cell_type": "code",
   "execution_count": 6,
   "metadata": {},
   "outputs": [],
   "source": [
    "def runnetpyne(cellnumber):\n",
    "\n",
    "    os.chdir(rootFolder)\n",
    "    from netpyne import sim\n",
    "    from netpyne import specs\n",
    "    import pickle\n",
    "\n",
    "    cfg = specs.SimConfig()     \n",
    "    \n",
    "    cfg.duration = timesimulation ## Duration of the sim, in ms  \n",
    "    cfg.dt = 0.05\n",
    "    # ~ cfg.seeds = {'conn': 4321, 'stim': 1234, 'loc': 4321} \n",
    "    cfg.hParams = {'celsius': 34, 'v_init': -65}  \n",
    "    cfg.verbose = False\n",
    "    cfg.createNEURONObj = True\n",
    "    cfg.createPyStruct = True\n",
    "    cfg.cvode_active = False\n",
    "    cfg.cvode_atol = 1e-6\n",
    "    cfg.cache_efficient = True\n",
    "    cfg.printRunTime = 0.5\n",
    "    \n",
    "    cfg.includeParamsLabel = False\n",
    "    cfg.printPopAvgRates = True\n",
    "    cfg.checkErrors = False\n",
    "    \n",
    "    allpops = ['L1_1','L1_2','L1_3','L1_4']\n",
    "\n",
    "    cfg.recordCells = allpops  # which cells to record from\n",
    "    cfg.recordTraces = {'V_soma': {'sec':'soma_0', 'loc':0.5, 'var':'v'}}  ## Dict with traces to record\n",
    "    cfg.recordStim = True\n",
    "    cfg.recordTime = True\n",
    "    cfg.recordStep = 0.1            \n",
    "\n",
    "    cfg.simLabel = 'S1detailed'\n",
    "    cfg.saveFolder = '.'\n",
    "    # cfg.filename =                \t## Set file output name\n",
    "    cfg.savePickle = False         \t## Save pkl file\n",
    "    cfg.saveJson = False           \t## Save json file\n",
    "    cfg.saveDataInclude = ['simConfig', 'netParams'] ## 'simData' , 'simConfig', 'netParams'\n",
    "    cfg.backupCfgFile = None \t\t##  \n",
    "    cfg.gatherOnlySimData = False\t##  \n",
    "    cfg.saveCellSecs = False\t\t\t##  \n",
    "    cfg.saveCellConns = False\t\t##  \n",
    "\n",
    "    #------------------------------------------------------------------------------\n",
    "    # Current inputs \n",
    "    #------------------------------------------------------------------------------\n",
    "    cfg.addIClamp = True\n",
    "\n",
    "    cfg.IClamp = []\n",
    "    cfg.IClampnumber = 0\n",
    "    \n",
    "    for popName in allpops:\n",
    "        cfg.IClamp.append({'pop': popName, 'sec': 'soma_0', 'loc': 0.5, 'start': delaystim, 'dur': durationstim, 'amp': ampstim[cfg.IClampnumber]}) #pA\n",
    "        cfg.IClampnumber=cfg.IClampnumber+1\n",
    "\n",
    "    netParams = specs.NetParams()   # object of class NetParams to store the network parameters\n",
    "\n",
    "    #------------------------------------------------------------------------------\n",
    "    # Cell parameters\n",
    "    #------------------------------------------------------------------------------\n",
    "    #StochKv_deterministic.mod\n",
    "    cellName = folder[cellnumber]\n",
    "    cellTemplateName = loadTemplateName(cellnumber)\n",
    "    cellRule = netParams.importCellParams(label=cellName + '_rule', somaAtOrigin=False,\n",
    "        conds={'cellType': cellName, 'cellModel': 'HH_full'},\n",
    "        fileName='cellwrapper5.py',\n",
    "        cellName='loadCell',\n",
    "        cellInstance = True,\n",
    "        cellArgs={'cellName': cellName, 'cellTemplateName': cellTemplateName})\n",
    "\n",
    "    #------------------------------------------------------------------------------\n",
    "    # Population parameters\n",
    "    #------------------------------------------------------------------------------\n",
    "\n",
    "    netParams.popParams['L1_1'] = {'cellType': cellName, 'cellModel': 'HH_full', 'numCells': 1} \n",
    "    netParams.popParams['L1_2'] = {'cellType': cellName, 'cellModel': 'HH_full', 'numCells': 1} \n",
    "    netParams.popParams['L1_3'] = {'cellType': cellName, 'cellModel': 'HH_full', 'numCells': 1} \n",
    "    netParams.popParams['L1_4'] = {'cellType': cellName, 'cellModel': 'HH_full', 'numCells': 1} \n",
    "\n",
    "    #------------------------------------------------------------------------------\n",
    "    # Current inputs (IClamp)\n",
    "    #------------------------------------------------------------------------------\n",
    "    for j in range(cfg.IClampnumber):\n",
    "        key ='IClamp'\n",
    "        params = getattr(cfg, key, None)\n",
    "        key ='IClamp'+str(j+1)\n",
    "        params = params[j]\n",
    "        [pop,sec,loc,start,dur,amp] = [params[s] for s in ['pop','sec','loc','start','dur','amp']]\n",
    "\n",
    "        # add stim source\n",
    "        netParams.stimSourceParams[key] = {'type': 'IClamp', 'delay': start, 'dur': dur, 'amp': amp}\n",
    "        \n",
    "        # connect stim source to target\n",
    "        netParams.stimTargetParams[key+'_'+pop] =  {\n",
    "            'source': key, \n",
    "            'conds': {'pop': pop},\n",
    "            'sec': sec, \n",
    "            'loc': loc}\n",
    "    \n",
    "    #------------------------------------------------------------------------------\n",
    "    sim.createSimulateAnalyze(netParams, cfg)\n",
    "    \n",
    "    netpyneTraces = []\n",
    "    netpyneTracesList = []\n",
    "    for c in range(0,4):\n",
    "        netpyneTraces.append(np.array(sim.simData['V_soma']['cell_'+ str(c)]))\n",
    "        netpyneTracesList.append(list(sim.simData['V_soma']['cell_'+ str(c)]))        \n",
    " \n",
    "    return netpyneTraces"
   ]
  },
  {
   "cell_type": "code",
   "execution_count": 7,
   "metadata": {},
   "outputs": [
    {
     "data": {
      "text/plain": [
       "'L4_DBC_bIR215_5'"
      ]
     },
     "execution_count": 7,
     "metadata": {},
     "output_type": "execute_result"
    }
   ],
   "source": [
    "folder[369]"
   ]
  },
  {
   "cell_type": "code",
   "execution_count": 8,
   "metadata": {
    "scrolled": false
   },
   "outputs": [
    {
     "name": "stdout",
     "output_type": "stream",
     "text": [
      "CellNumber = 916\n",
      "CellName = L6_MC_bIR215_2\n",
      "TemplateName = bIR215_L6_MC_d379cda689\n"
     ]
    },
    {
     "name": "stderr",
     "output_type": "stream",
     "text": [
      "NEURON: morphology_d379cda689 : a template cannot be redefined\n",
      " in morphology.hoc near line 34\n",
      " begintemplate morphology_d379cda689\n",
      "                                   ^\n",
      "        xopen(\"morphology.hoc\")\n",
      "      execute1(\"{xopen(\"mo...\")\n",
      "    load_file(\"morphology.hoc\")\n",
      "  xopen(\"template.hoc\")\n",
      "NEURON: bIR215_biophys : a template cannot be redefined\n",
      " in biophysics.hoc near line 33\n",
      " begintemplate bIR215_biophys\n",
      "                            ^\n",
      "        xopen(\"biophysics.hoc\")\n",
      "      execute1(\"{xopen(\"bi...\")\n",
      "    load_file(\"biophysics.hoc\")\n",
      "  xopen(\"template.hoc\")\n",
      "NEURON: synapses_d379cda689 : a template cannot be redefined\n",
      " in synapses.hoc near line 31\n",
      " begintemplate synapses_d379cda689                \n",
      "                                 ^\n",
      "        xopen(\"synapses.hoc\")\n",
      "      execute1(\"{xopen(\"sy...\")\n",
      "    load_file(\"synapses/s...\")\n",
      "  xopen(\"template.hoc\")\n"
     ]
    },
    {
     "name": "stdout",
     "output_type": "stream",
     "text": [
      "\t0 \n",
      "\t0 \n",
      "\t0 \n",
      "Loading cell bIR215_L6_MC_d379cda689\n",
      "bIR215_L6_MC_d379cda689[0]\n",
      "Changed dt\n",
      "Changed dt\n",
      "Changed dt\n",
      "Changed dt\n",
      "\t1 \n",
      "\t1 \n",
      "\t1 \n"
     ]
    },
    {
     "name": "stderr",
     "output_type": "stream",
     "text": [
      "NEURON: morphology_d379cda689 : a template cannot be redefined\n",
      " in morphology.hoc near line 34\n",
      " begintemplate morphology_d379cda689\n",
      "                                   ^\n",
      "        xopen(\"morphology.hoc\")\n",
      "NEURON: bIR215_biophys : a template cannot be redefined\n",
      " in biophysics.hoc near line 33\n",
      " begintemplate bIR215_biophys\n",
      "                            ^\n",
      "        xopen(\"biophysics.hoc\")\n",
      "NEURON: synapses_d379cda689 : a template cannot be redefined\n",
      " in synapses/synapses.hoc near line 31\n",
      " begintemplate synapses_d379cda689                \n",
      "                                 ^\n",
      "        xopen(\"synapses/s...\")\n",
      "NEURON: bIR215_L6_MC_d379cda689 : a template cannot be redefined\n",
      " in template.hoc near line 35\n",
      " begintemplate bIR215_L6_MC_d379cda689\n",
      "                                     ^\n",
      "        xopen(\"template.hoc\")\n"
     ]
    },
    {
     "ename": "RuntimeError",
     "evalue": "hoc error",
     "output_type": "error",
     "traceback": [
      "\u001b[0;31m---------------------------------------------------------------------------\u001b[0m",
      "\u001b[0;31mRuntimeError\u001b[0m                              Traceback (most recent call last)",
      "\u001b[0;32m<ipython-input-8-ac530830e33c>\u001b[0m in \u001b[0;36m<module>\u001b[0;34m\u001b[0m\n\u001b[1;32m     14\u001b[0m \u001b[0;34m\u001b[0m\u001b[0m\n\u001b[1;32m     15\u001b[0m \u001b[0mBBPTraces\u001b[0m \u001b[0;34m=\u001b[0m \u001b[0mrunneuron\u001b[0m\u001b[0;34m(\u001b[0m\u001b[0mcellnumber\u001b[0m\u001b[0;34m)\u001b[0m\u001b[0;34m\u001b[0m\u001b[0;34m\u001b[0m\u001b[0m\n\u001b[0;32m---> 16\u001b[0;31m \u001b[0mnetpyneTraces\u001b[0m \u001b[0;34m=\u001b[0m \u001b[0mrunnetpyne\u001b[0m\u001b[0;34m(\u001b[0m\u001b[0mcellnumber\u001b[0m\u001b[0;34m)\u001b[0m\u001b[0;34m\u001b[0m\u001b[0;34m\u001b[0m\u001b[0m\n\u001b[0m\u001b[1;32m     17\u001b[0m \u001b[0;31m# plot both traces overlayed\u001b[0m\u001b[0;34m\u001b[0m\u001b[0;34m\u001b[0m\u001b[0;34m\u001b[0m\u001b[0m\n\u001b[1;32m     18\u001b[0m \u001b[0mfontsiz\u001b[0m\u001b[0;34m=\u001b[0m\u001b[0;36m18\u001b[0m\u001b[0;34m\u001b[0m\u001b[0;34m\u001b[0m\u001b[0m\n",
      "\u001b[0;32m<ipython-input-6-62c3a82b3936>\u001b[0m in \u001b[0;36mrunnetpyne\u001b[0;34m(cellnumber)\u001b[0m\n\u001b[1;32m     68\u001b[0m         \u001b[0mcellName\u001b[0m\u001b[0;34m=\u001b[0m\u001b[0;34m'loadCell'\u001b[0m\u001b[0;34m,\u001b[0m\u001b[0;34m\u001b[0m\u001b[0;34m\u001b[0m\u001b[0m\n\u001b[1;32m     69\u001b[0m         \u001b[0mcellInstance\u001b[0m \u001b[0;34m=\u001b[0m \u001b[0;32mTrue\u001b[0m\u001b[0;34m,\u001b[0m\u001b[0;34m\u001b[0m\u001b[0;34m\u001b[0m\u001b[0m\n\u001b[0;32m---> 70\u001b[0;31m         cellArgs={'cellName': cellName, 'cellTemplateName': cellTemplateName})\n\u001b[0m\u001b[1;32m     71\u001b[0m \u001b[0;34m\u001b[0m\u001b[0m\n\u001b[1;32m     72\u001b[0m     \u001b[0;31m#------------------------------------------------------------------------------\u001b[0m\u001b[0;34m\u001b[0m\u001b[0;34m\u001b[0m\u001b[0;34m\u001b[0m\u001b[0m\n",
      "\u001b[0;32m~/anaconda3/envs/netpynedev/lib/python3.7/site-packages/netpyne/specs/netParams.py\u001b[0m in \u001b[0;36mimportCellParams\u001b[0;34m(self, label, fileName, cellName, conds, cellArgs, importSynMechs, somaAtOrigin, cellInstance)\u001b[0m\n\u001b[1;32m    399\u001b[0m             \u001b[0mlabel\u001b[0m \u001b[0;34m=\u001b[0m \u001b[0mint\u001b[0m\u001b[0;34m(\u001b[0m\u001b[0mself\u001b[0m\u001b[0;34m.\u001b[0m\u001b[0m_labelid\u001b[0m\u001b[0;34m)\u001b[0m\u001b[0;34m\u001b[0m\u001b[0;34m\u001b[0m\u001b[0m\n\u001b[1;32m    400\u001b[0m             \u001b[0mself\u001b[0m\u001b[0;34m.\u001b[0m\u001b[0m_labelid\u001b[0m \u001b[0;34m+=\u001b[0m \u001b[0;36m1\u001b[0m\u001b[0;34m\u001b[0m\u001b[0;34m\u001b[0m\u001b[0m\n\u001b[0;32m--> 401\u001b[0;31m         \u001b[0msecs\u001b[0m\u001b[0;34m,\u001b[0m \u001b[0msecLists\u001b[0m\u001b[0;34m,\u001b[0m \u001b[0msynMechs\u001b[0m\u001b[0;34m,\u001b[0m \u001b[0mglobs\u001b[0m \u001b[0;34m=\u001b[0m \u001b[0mconversion\u001b[0m\u001b[0;34m.\u001b[0m\u001b[0mimportCell\u001b[0m\u001b[0;34m(\u001b[0m\u001b[0mfileName\u001b[0m\u001b[0;34m,\u001b[0m \u001b[0mcellName\u001b[0m\u001b[0;34m,\u001b[0m \u001b[0mcellArgs\u001b[0m\u001b[0;34m,\u001b[0m \u001b[0mcellInstance\u001b[0m\u001b[0;34m)\u001b[0m\u001b[0;34m\u001b[0m\u001b[0;34m\u001b[0m\u001b[0m\n\u001b[0m\u001b[1;32m    402\u001b[0m         \u001b[0mcellRule\u001b[0m \u001b[0;34m=\u001b[0m \u001b[0;34m{\u001b[0m\u001b[0;34m'conds'\u001b[0m\u001b[0;34m:\u001b[0m \u001b[0mconds\u001b[0m\u001b[0;34m,\u001b[0m \u001b[0;34m'secs'\u001b[0m\u001b[0;34m:\u001b[0m \u001b[0msecs\u001b[0m\u001b[0;34m,\u001b[0m \u001b[0;34m'secLists'\u001b[0m\u001b[0;34m:\u001b[0m \u001b[0msecLists\u001b[0m\u001b[0;34m,\u001b[0m \u001b[0;34m'globals'\u001b[0m\u001b[0;34m:\u001b[0m \u001b[0mglobs\u001b[0m\u001b[0;34m}\u001b[0m\u001b[0;34m\u001b[0m\u001b[0;34m\u001b[0m\u001b[0m\n\u001b[1;32m    403\u001b[0m \u001b[0;34m\u001b[0m\u001b[0m\n",
      "\u001b[0;32m~/anaconda3/envs/netpynedev/lib/python3.7/site-packages/netpyne/conversion/neuronPyHoc.py\u001b[0m in \u001b[0;36mimportCell\u001b[0;34m(fileName, cellName, cellArgs, cellInstance)\u001b[0m\n\u001b[1;32m    297\u001b[0m         \u001b[0mmodulePointer\u001b[0m \u001b[0;34m=\u001b[0m \u001b[0mtempModule\u001b[0m\u001b[0;34m\u001b[0m\u001b[0;34m\u001b[0m\u001b[0m\n\u001b[1;32m    298\u001b[0m         \u001b[0;32mif\u001b[0m \u001b[0misinstance\u001b[0m\u001b[0;34m(\u001b[0m\u001b[0mcellArgs\u001b[0m\u001b[0;34m,\u001b[0m \u001b[0mdict\u001b[0m\u001b[0;34m)\u001b[0m\u001b[0;34m:\u001b[0m\u001b[0;34m\u001b[0m\u001b[0;34m\u001b[0m\u001b[0m\n\u001b[0;32m--> 299\u001b[0;31m             \u001b[0mcell\u001b[0m \u001b[0;34m=\u001b[0m \u001b[0mgetattr\u001b[0m\u001b[0;34m(\u001b[0m\u001b[0mmodulePointer\u001b[0m\u001b[0;34m,\u001b[0m \u001b[0mcellName\u001b[0m\u001b[0;34m)\u001b[0m\u001b[0;34m(\u001b[0m\u001b[0;34m**\u001b[0m\u001b[0mcellArgs\u001b[0m\u001b[0;34m)\u001b[0m \u001b[0;31m# create cell using template, passing dict with args\u001b[0m\u001b[0;34m\u001b[0m\u001b[0;34m\u001b[0m\u001b[0m\n\u001b[0m\u001b[1;32m    300\u001b[0m         \u001b[0;32melse\u001b[0m\u001b[0;34m:\u001b[0m\u001b[0;34m\u001b[0m\u001b[0;34m\u001b[0m\u001b[0m\n\u001b[1;32m    301\u001b[0m             \u001b[0mcell\u001b[0m \u001b[0;34m=\u001b[0m \u001b[0mgetattr\u001b[0m\u001b[0;34m(\u001b[0m\u001b[0mmodulePointer\u001b[0m\u001b[0;34m,\u001b[0m \u001b[0mcellName\u001b[0m\u001b[0;34m)\u001b[0m\u001b[0;34m(\u001b[0m\u001b[0;34m*\u001b[0m\u001b[0mcellArgs\u001b[0m\u001b[0;34m)\u001b[0m  \u001b[0;31m# create cell using template, passing list with args\u001b[0m\u001b[0;34m\u001b[0m\u001b[0;34m\u001b[0m\u001b[0m\n",
      "\u001b[0;32m~/S1_netpyne/info/scripts_comparations/cellwrapper.py\u001b[0m in \u001b[0;36mloadCell\u001b[0;34m(cellName, cellTemplateName)\u001b[0m\n\u001b[1;32m     20\u001b[0m     \u001b[0;32mexcept\u001b[0m\u001b[0;34m:\u001b[0m\u001b[0;34m\u001b[0m\u001b[0;34m\u001b[0m\u001b[0m\n\u001b[1;32m     21\u001b[0m         \u001b[0;32mpass\u001b[0m\u001b[0;34m\u001b[0m\u001b[0;34m\u001b[0m\u001b[0m\n\u001b[0;32m---> 22\u001b[0;31m     \u001b[0mh\u001b[0m\u001b[0;34m.\u001b[0m\u001b[0mxopen\u001b[0m\u001b[0;34m(\u001b[0m\u001b[0;34m'template.hoc'\u001b[0m\u001b[0;34m)\u001b[0m\u001b[0;34m\u001b[0m\u001b[0;34m\u001b[0m\u001b[0m\n\u001b[0m\u001b[1;32m     23\u001b[0m     \u001b[0mcell\u001b[0m \u001b[0;34m=\u001b[0m \u001b[0mgetattr\u001b[0m\u001b[0;34m(\u001b[0m\u001b[0mh\u001b[0m\u001b[0;34m,\u001b[0m \u001b[0mcellTemplateName\u001b[0m\u001b[0;34m)\u001b[0m\u001b[0;34m(\u001b[0m\u001b[0;36m0\u001b[0m\u001b[0;34m)\u001b[0m\u001b[0;34m\u001b[0m\u001b[0;34m\u001b[0m\u001b[0m\n\u001b[1;32m     24\u001b[0m     \u001b[0mi\u001b[0m\u001b[0;34m=\u001b[0m\u001b[0;36m0\u001b[0m\u001b[0;34m\u001b[0m\u001b[0;34m\u001b[0m\u001b[0m\n",
      "\u001b[0;31mRuntimeError\u001b[0m: hoc error"
     ]
    }
   ],
   "source": [
    "cellnumber = 916 #369 # 267 #\n",
    "cellName = folder[cellnumber]\n",
    "outFolder = rootFolder+'/cell_data/'+folder[cellnumber]\n",
    "cellTemplateName = loadTemplateName(cellnumber)\n",
    "print (\"CellNumber = %d\" % cellnumber)\n",
    "print (\"CellName = %s\" % cellName)\n",
    "print (\"TemplateName = %s\" % cellTemplateName)\n",
    "\n",
    "ampstim =  [0.2 ,0.4, 0.6, 0.8]\n",
    "\n",
    "durationstim = 2000\n",
    "delaystim = 700\n",
    "timesimulation = 3000\n",
    "        \n",
    "BBPTraces = runneuron(cellnumber)\n",
    "netpyneTraces = runnetpyne(cellnumber)\n",
    "# plot both traces overlayed\n",
    "fontsiz=18\n",
    "timeRange = [0, timesimulation]\n",
    "recordStep = 0.1\n",
    "# ~ ylim = [-100, 40]\n",
    "figSize = (12,12)\n",
    "fig = plt.figure(figsize=figSize)  # Open a new figure\n",
    "\n",
    "fig.suptitle('%s' % (cellName), fontsize=15, fontweight='bold')\n",
    "                \n",
    "t = np.arange(timeRange[0], timeRange[1]+recordStep, recordStep) \n",
    " \n",
    "for c in range(0,4):\n",
    "    netpyneTrace = netpyneTraces[c]\n",
    "    BBPTrace = BBPTraces[c]\n",
    "    plt.subplot(4, 1, c+1)\n",
    "    plt.ylabel('V (mV)', fontsize=fontsiz)\n",
    "    plt.plot(t[:len(netpyneTrace)], netpyneTrace, linewidth=3.5, color='red', label='Step %d'%(int(c+0))+', NetPyNE')\n",
    "    plt.plot(t[:len(BBPTrace)], BBPTrace, linewidth=3.0, linestyle=':', color='blue', label='Step %d'%(int(c+0))+', BBP')  # linestyle=':'\n",
    "    plt.xlabel('Time (ms)', fontsize=fontsiz)\n",
    "    plt.xlim(0, timesimulation)\n",
    "    # ~ plt.ylim(ylim)\n",
    "    plt.grid(True)\n",
    "    plt.legend(loc='upper right', bbox_to_anchor=(0.20, 0.7))\n",
    "plt.ion()\n",
    "plt.tight_layout()\n",
    "os.chdir(rootFolder)\n",
    "os.chdir('../info/scripts_comparations/')\n",
    "plt.savefig('Figures-comparation/comparison_traces_soma_voltage_4steps_%s.png' % cellName, facecolor = 'white' , dpi=300)\n",
    "print (\"Figure Saved in %s/comparison_traces_soma_voltage_4steps_%s.png\" % (rootFolder,cellName))\n",
    "print (\"https://bbp.epfl.ch/nmc-portal/microcircuit.html#/metype/%s/details\" % cellName[:-5])\n",
    "plt.show()"
   ]
  },
  {
   "cell_type": "markdown",
   "metadata": {},
   "source": [
    "## Efel"
   ]
  },
  {
   "cell_type": "code",
   "execution_count": null,
   "metadata": {},
   "outputs": [],
   "source": [
    "import efel"
   ]
  },
  {
   "cell_type": "code",
   "execution_count": null,
   "metadata": {},
   "outputs": [],
   "source": [
    "traces = []\n",
    "traces2 = []\n",
    "for c in range(4):\n",
    "    BBPTrace = BBPTraces[c]\n",
    "    trace = {}\n",
    "    trace['T'] = t[:len(BBPTrace)]\n",
    "    trace['V'] = BBPTrace\n",
    "    trace['stim_start'] = [delaystim]\n",
    "    trace['stim_end'] = [delaystim+durationstim]\n",
    "    traces.append(trace)\n",
    "    \n",
    "    netpyneTrace = netpyneTraces[c]\n",
    "    trace2 = {}\n",
    "    trace2['T'] = t[:len(netpyneTrace)]\n",
    "    trace2['V'] = netpyneTrace\n",
    "    trace2['stim_start'] = [delaystim]\n",
    "    trace2['stim_end'] = [delaystim+durationstim]\n",
    "    traces2.append(trace2)"
   ]
  },
  {
   "cell_type": "code",
   "execution_count": null,
   "metadata": {},
   "outputs": [],
   "source": [
    "trace2"
   ]
  },
  {
   "cell_type": "code",
   "execution_count": null,
   "metadata": {},
   "outputs": [],
   "source": [
    "feature_values = efel.getFeatureValues(traces[0:], ['mean_frequency', 'time_to_first_spike', 'peak_time'])\n",
    "feature_values2 = efel.getFeatureValues(traces2[0:], ['mean_frequency', 'time_to_first_spike', 'peak_time'])"
   ]
  },
  {
   "cell_type": "code",
   "execution_count": null,
   "metadata": {},
   "outputs": [],
   "source": [
    "feature_values"
   ]
  },
  {
   "cell_type": "code",
   "execution_count": null,
   "metadata": {
    "scrolled": false
   },
   "outputs": [],
   "source": [
    "feature_values2"
   ]
  },
  {
   "cell_type": "code",
   "execution_count": null,
   "metadata": {},
   "outputs": [],
   "source": [
    "import pylab\n",
    "for step_number in range(4):\n",
    "    pylab.bar(step_number, feature_values[step_number]['time_to_first_spike'][0], align='center')\n",
    "    pylab.bar(step_number+0.25, feature_values2[step_number]['time_to_first_spike'][0], align='center')\n",
    "pylab.ylabel('time_to_first_spike (ms)')\n",
    "pylab.xlabel('I (pA)')\n",
    "pylab.xticks(range(4), ampstim)\n",
    "pylab.show()\n",
    "\n",
    "for step_number in range(4):\n",
    "    pylab.bar(step_number, feature_values[step_number]['mean_frequency'][0], align='center')\n",
    "    pylab.bar(step_number+0.25, feature_values2[step_number]['mean_frequency'][0], align='center')\n",
    "pylab.ylabel('Mean frequency (Hz)')\n",
    "pylab.xlabel('I (pA)')\n",
    "pylab.xticks(range(4), ampstim)\n",
    "pylab.show()\n"
   ]
  }
 ],
 "metadata": {
  "kernelspec": {
   "display_name": "Python 3",
   "language": "python",
   "name": "python3"
  },
  "language_info": {
   "codemirror_mode": {
    "name": "ipython",
    "version": 3
   },
   "file_extension": ".py",
   "mimetype": "text/x-python",
   "name": "python",
   "nbconvert_exporter": "python",
   "pygments_lexer": "ipython3",
   "version": "3.7.9"
  }
 },
 "nbformat": 4,
 "nbformat_minor": 4
}
