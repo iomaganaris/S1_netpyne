{
 "cells": [
  {
   "cell_type": "markdown",
   "metadata": {},
   "source": [
    "# All S1 cells information"
   ]
  },
  {
   "cell_type": "code",
   "execution_count": 1,
   "metadata": {},
   "outputs": [],
   "source": [
    "import h5py\n",
    "import json\n",
    "import numpy as np\n",
    "import os\n",
    "import sys\n",
    "from matplotlib import pyplot as plt\n",
    "\n",
    "# rootFolder = '/home/fernando/S1_netpyne'\n",
    "#------------------------------------------------------------------------------  "
   ]
  },
  {
   "cell_type": "code",
   "execution_count": 2,
   "metadata": {},
   "outputs": [
    {
     "data": {
      "text/plain": [
       "'/home/fernando/S1_netpyne'"
      ]
     },
     "execution_count": 2,
     "metadata": {},
     "output_type": "execute_result"
    }
   ],
   "source": [
    "rootFolder = os.getcwd()\n",
    "rootFolder = rootFolder[:-5]\n",
    "rootFolder"
   ]
  },
  {
   "cell_type": "markdown",
   "metadata": {},
   "source": [
    "## Cell Number distribution"
   ]
  },
  {
   "cell_type": "code",
   "execution_count": 3,
   "metadata": {},
   "outputs": [
    {
     "name": "stdout",
     "output_type": "stream",
     "text": [
      "Number of cells = 31346\n"
     ]
    }
   ],
   "source": [
    "#------------------------------------------------------------------------------\n",
    "# Cells\n",
    "#------------------------------------------------------------------------------\n",
    "# Load 55 Morphological Names-> L1:6 L23:10 L4:12 L5:13 L6:14\n",
    "# Load 207 Morpho-electrical Names-> L1:14 L23:43 L4:46 L5:52 L6:52\n",
    "\n",
    "with open(rootFolder + '/info/anatomy/S1-cells-distributions-Rat.txt') as metype_file:\n",
    "    metype_content = metype_file.read()       \n",
    "\n",
    "MtypeNumber = {}\n",
    "MEtypeNumber = {}\n",
    "MtypePop = []\n",
    "MEtypePop = []\n",
    "popLabel = {}\n",
    "N = 0\n",
    "for line in metype_content.split('\\n')[:-1]:\n",
    "    metype, mtype, etype, n, m = line.split()\n",
    "    MEtypeNumber[metype] = int(n)\n",
    "    popLabel[metype] = mtype\n",
    "    MtypeNumber[mtype] = int(m)\n",
    "\n",
    "    if mtype not in MtypePop:\n",
    "        MtypePop.append(mtype)\n",
    "    MEtypePop.append(metype)\n",
    "    \n",
    "    N = N + int(n)\n",
    "    \n",
    "print ('Number of cells = %d' % N)"
   ]
  },
  {
   "cell_type": "code",
   "execution_count": 4,
   "metadata": {},
   "outputs": [],
   "source": [
    "Epops = ['L23_PC', 'L4_PC', 'L4_SS', 'L4_SP', \n",
    "             'L5_TTPC1', 'L5_TTPC2', 'L5_STPC', 'L5_UTPC',\n",
    "             'L6_TPC_L1', 'L6_TPC_L4', 'L6_BPC', 'L6_IPC', 'L6_UTPC']\n",
    "Ipops = []\n",
    "for popName in MtypePop:\n",
    "    if popName not in Epops:\n",
    "        Ipops.append(popName)"
   ]
  },
  {
   "cell_type": "code",
   "execution_count": 30,
   "metadata": {
    "scrolled": false
   },
   "outputs": [
    {
     "name": "stdout",
     "output_type": "stream",
     "text": [
      "L4_DBC_bIR215 1 32% 13 40\n",
      "L4_LBC_cSTUT189 1 25% 31 122\n",
      "L5_DBC_bIR215 1 35% 34 96\n",
      "L6_DBC_bIR215 1 32% 10 31\n",
      "L6_LBC_bIR215 1 27% 127 463\n",
      "L6_LBC_bSTUT213 1 27% 124 463\n",
      "L6_MC_bIR215 1 43% 145 336\n"
     ]
    }
   ],
   "source": [
    "StochKvcells = []\n",
    "nonStochKvcells = []\n",
    "\n",
    "for cellName in MEtypePop:\n",
    "    number = 1 # same for all metype cells\n",
    "    os.chdir('/home/fernando/S1_BBP/cell_data/'+cellName+'_'+str(number)+'/')\n",
    "    \n",
    "    foldermech = os.listdir('mechanisms/')\n",
    "    if 'StochKv.mod' in foldermech:\n",
    "        StochKvcells.append(cellName) \n",
    "        if 100*MEtypeNumber[cellName]/MtypeNumber[popLabel[cellName]] > 25:\n",
    "            print('%s %s %.0f%s %d %d' % (cellName, '1', 100*MEtypeNumber[cellName]/MtypeNumber[popLabel[cellName]],'%', MEtypeNumber[cellName], MtypeNumber[popLabel[cellName]]))\n",
    "#         else:\n",
    "#             print('%s %s %.0f%s %d %d' % (cellName, '2', 100*MEtypeNumber[cellName]/MtypeNumber[popLabel[cellName]],'%', MEtypeNumber[cellName], MtypeNumber[popLabel[cellName]]))\n",
    "    else:\n",
    "        nonStochKvcells.append(cellName)\n",
    "#         print('%s %s %.0f%s %d %d' % (cellName, '0', 100*MEtypeNumber[cellName]/MtypeNumber[popLabel[cellName]],'%', MEtypeNumber[cellName], MtypeNumber[popLabel[cellName]]))\n"
   ]
  },
  {
   "cell_type": "code",
   "execution_count": 6,
   "metadata": {},
   "outputs": [
    {
     "data": {
      "text/plain": [
       "['L1_HAC_cIR216',\n",
       " 'L1_NGC-DA_cSTUT189',\n",
       " 'L23_BP_bIR215',\n",
       " 'L23_BP_dSTUT214',\n",
       " 'L23_BTC_bIR215',\n",
       " 'L23_DBC_bIR215',\n",
       " 'L23_LBC_cSTUT189',\n",
       " 'L23_NBC_cIR216',\n",
       " 'L23_NGC_cSTUT189',\n",
       " 'L4_BP_bIR215',\n",
       " 'L4_BP_dSTUT214',\n",
       " 'L4_BTC_bIR215',\n",
       " 'L4_BTC_bSTUT213',\n",
       " 'L4_DBC_bIR215',\n",
       " 'L4_DBC_bSTUT213',\n",
       " 'L4_DBC_cIR216',\n",
       " 'L4_LBC_cSTUT189',\n",
       " 'L4_LBC_dSTUT214',\n",
       " 'L4_NBC_cIR216',\n",
       " 'L4_NGC_cSTUT189',\n",
       " 'L5_BP_bIR215',\n",
       " 'L5_BP_dSTUT214',\n",
       " 'L5_DBC_bIR215',\n",
       " 'L5_DBC_bSTUT213',\n",
       " 'L5_DBC_cIR216',\n",
       " 'L5_LBC_cIR216',\n",
       " 'L5_LBC_cSTUT189',\n",
       " 'L5_LBC_dSTUT214',\n",
       " 'L5_MC_bIR215',\n",
       " 'L5_MC_bSTUT213',\n",
       " 'L5_MC_cSTUT189',\n",
       " 'L5_NBC_bIR215',\n",
       " 'L5_NBC_bSTUT213',\n",
       " 'L5_NBC_cIR216',\n",
       " 'L5_NBC_cSTUT189',\n",
       " 'L5_NBC_dSTUT214',\n",
       " 'L5_NGC_cSTUT189',\n",
       " 'L6_BP_bIR215',\n",
       " 'L6_BP_dSTUT214',\n",
       " 'L6_DBC_bIR215',\n",
       " 'L6_DBC_bSTUT213',\n",
       " 'L6_DBC_cIR216',\n",
       " 'L6_LBC_bIR215',\n",
       " 'L6_LBC_bSTUT213',\n",
       " 'L6_LBC_cSTUT189',\n",
       " 'L6_MC_bIR215',\n",
       " 'L6_MC_bSTUT213',\n",
       " 'L6_MC_cIR216',\n",
       " 'L6_NBC_bIR215',\n",
       " 'L6_NBC_bSTUT213',\n",
       " 'L6_NBC_cIR216',\n",
       " 'L6_NBC_cSTUT189',\n",
       " 'L6_NBC_dSTUT214',\n",
       " 'L6_NGC_cSTUT189']"
      ]
     },
     "execution_count": 6,
     "metadata": {},
     "output_type": "execute_result"
    }
   ],
   "source": [
    "StochKvcells"
   ]
  },
  {
   "cell_type": "code",
   "execution_count": 5,
   "metadata": {},
   "outputs": [],
   "source": [
    "## https://bbp.epfl.ch/nmc-portal/assets/documents/static/Download/hoc_combos_syn.1_0_10.allzips.tar\n",
    "## extracted 1035 folders in home/fernando/S1_BBP/cell_data/  #~ not inclued in the github\n",
    "\n",
    "copyStochKv_deterministic = False\n",
    "compilemods = False\n",
    "\n",
    "StochKvcells = []\n",
    "nonStochKvcells = []\n",
    "\n",
    "for cellName in MEtypePop:\n",
    "    number = 1 # same for all metype cells\n",
    "    os.chdir('/home/fernando/S1_BBP/cell_data/'+cellName+'_'+str(number)+'/')\n",
    "    \n",
    "    foldermech = os.listdir('mechanisms/')\n",
    "    if 'StochKv.mod' in foldermech:\n",
    "        StochKvcells.append(cellName) \n",
    "    else:\n",
    "        nonStochKvcells.append(cellName) \n",
    "\n",
    "## https://www.opensourcebrain.org/projects/blue-brain-project-showcase/repository/revisions/master/raw/NMC/NEURON/test/StochKv_deterministic.mod           \n",
    "## saved in /home/fernando/S1_BBP/mod/  #~ not inclued in the github\n",
    "\n",
    "os.chdir('/home/fernando/S1_BBP/mod/')   \n",
    "\n",
    "if copyStochKv_deterministic:\n",
    "    for cellName in MEtypePop[0:207]:\n",
    "        if cellName in StochKvcells:\n",
    "            for number in range(1,6):\n",
    "                modfile = 'StochKv_deterministic.mod'\n",
    "                outmodfile = '/home/fernando/S1_BBP/cell_data/' + cellname+'_'+str(number) + '/mechanisms/StochKv_deterministic.mod'\n",
    "                os.popen(\"cp {0} {1}\".format(modfile, outmodfile))\n",
    "                print(outmodfile)\n",
    "\n",
    "if compilemods:\n",
    "    for cellName in MEtypePop[0:207]:\n",
    "        for number in range(1,6):\n",
    "            os.chdir('/home/fernando/S1_BBP/cell_data/'+cellName+'_'+str(number)+'/')\n",
    "            !nrnivmodl mechanisms # run the 1035 cells will take several minutes!!!\n"
   ]
  },
  {
   "cell_type": "markdown",
   "metadata": {},
   "source": [
    "## StochKv channels"
   ]
  },
  {
   "cell_type": "code",
   "execution_count": 6,
   "metadata": {},
   "outputs": [],
   "source": [
    "def loadTemplateName(cellName,number): \n",
    "    f = open('/home/fernando/S1_BBP/cell_data/'+cellName+'_'+str(number)+'/template.hoc', 'r')\n",
    "    for line in f.readlines():\n",
    "        if 'begintemplate' in line:\n",
    "            templatename = str(line)     \n",
    "    templatename=templatename[:-1]        \n",
    "    templatename=templatename[14:]\n",
    "    return templatename"
   ]
  },
  {
   "cell_type": "code",
   "execution_count": 7,
   "metadata": {
    "scrolled": true
   },
   "outputs": [],
   "source": [
    "def loadCell(cellName,cellTemplateName,number):\n",
    "    \n",
    "    from neuron import h\n",
    "    \n",
    "    os.chdir('/home/fernando/S1_BBP/cell_data/'+cellName+'_'+str(number)+'/')\n",
    "    h.load_file(\"stdrun.hoc\")\n",
    "    h.load_file('import3d.hoc')\n",
    "    h.load_file(\"template.hoc\")\n",
    "    \n",
    "    cell = getattr(h, cellTemplateName)(0)\n",
    "    \n",
    "    i=0\n",
    "    for secs in cell.somatic:\n",
    "        sec = cell.soma[i]\n",
    "        listmech = list(cell.soma[i](0.5))      \n",
    "        for mech in listmech:\n",
    "            if str(mech) == 'StochKv':\n",
    "                print (sec, mech, i)\n",
    "        i=i+1\n",
    "\n",
    "    i=0\n",
    "    for secs in cell.basal:\n",
    "        sec = cell.dend[i]\n",
    "        listmech = list(cell.dend[i](0.5))      \n",
    "        for mech in listmech:\n",
    "            if str(mech) == 'StochKv':\n",
    "                print (sec, mech, i)\n",
    "        i=i+1\n",
    "\n",
    "    i=0\n",
    "    for secs in cell.apical:\n",
    "        sec = cell.apic[i]\n",
    "        listmech = list(cell.apic[i](0.5))      \n",
    "        for mech in listmech:\n",
    "            if str(mech) == 'StochKv':\n",
    "                print (sec, mech, i)\n",
    "        i=i+1\n",
    "\n",
    "    i=0\n",
    "    for secs in cell.axonal:\n",
    "        sec = cell.axon[i]\n",
    "        listmech = list(cell.axon[i](0.5))      \n",
    "        for mech in listmech:\n",
    "            if str(mech) == 'StochKv':\n",
    "                print (sec, mech, i)\n",
    "        i=i+1     \n",
    "    \n",
    "    print (cell)\n",
    "    return cell"
   ]
  },
  {
   "cell_type": "code",
   "execution_count": 8,
   "metadata": {
    "scrolled": false
   },
   "outputs": [
    {
     "name": "stdout",
     "output_type": "stream",
     "text": [
      "L1_HAC_cIR216 1 cIR216_L1_HAC_84f0f8f321\n",
      "\t1 \n",
      "\t1 \n",
      "\t1 \n",
      "cIR216_L1_HAC_84f0f8f321[0].soma[0] StochKv 0\n",
      "cIR216_L1_HAC_84f0f8f321[0].dend[0] StochKv 0\n",
      "cIR216_L1_HAC_84f0f8f321[0].dend[1] StochKv 1\n",
      "cIR216_L1_HAC_84f0f8f321[0].dend[2] StochKv 2\n",
      "cIR216_L1_HAC_84f0f8f321[0].dend[3] StochKv 3\n",
      "cIR216_L1_HAC_84f0f8f321[0].dend[4] StochKv 4\n",
      "cIR216_L1_HAC_84f0f8f321[0].dend[5] StochKv 5\n",
      "cIR216_L1_HAC_84f0f8f321[0].dend[6] StochKv 6\n",
      "cIR216_L1_HAC_84f0f8f321[0].dend[7] StochKv 7\n",
      "cIR216_L1_HAC_84f0f8f321[0].dend[8] StochKv 8\n",
      "cIR216_L1_HAC_84f0f8f321[0].dend[9] StochKv 9\n",
      "cIR216_L1_HAC_84f0f8f321[0].dend[10] StochKv 10\n",
      "cIR216_L1_HAC_84f0f8f321[0].dend[11] StochKv 11\n",
      "cIR216_L1_HAC_84f0f8f321[0].dend[12] StochKv 12\n",
      "cIR216_L1_HAC_84f0f8f321[0].dend[13] StochKv 13\n",
      "cIR216_L1_HAC_84f0f8f321[0].dend[14] StochKv 14\n",
      "cIR216_L1_HAC_84f0f8f321[0].dend[15] StochKv 15\n",
      "cIR216_L1_HAC_84f0f8f321[0].dend[16] StochKv 16\n",
      "cIR216_L1_HAC_84f0f8f321[0].dend[17] StochKv 17\n",
      "cIR216_L1_HAC_84f0f8f321[0].dend[18] StochKv 18\n",
      "cIR216_L1_HAC_84f0f8f321[0].dend[19] StochKv 19\n",
      "cIR216_L1_HAC_84f0f8f321[0].dend[20] StochKv 20\n",
      "cIR216_L1_HAC_84f0f8f321[0].dend[21] StochKv 21\n",
      "cIR216_L1_HAC_84f0f8f321[0].dend[22] StochKv 22\n",
      "cIR216_L1_HAC_84f0f8f321[0].dend[23] StochKv 23\n",
      "cIR216_L1_HAC_84f0f8f321[0].dend[24] StochKv 24\n",
      "cIR216_L1_HAC_84f0f8f321[0].dend[25] StochKv 25\n",
      "cIR216_L1_HAC_84f0f8f321[0].dend[26] StochKv 26\n",
      "cIR216_L1_HAC_84f0f8f321[0].dend[27] StochKv 27\n",
      "cIR216_L1_HAC_84f0f8f321[0].dend[28] StochKv 28\n",
      "cIR216_L1_HAC_84f0f8f321[0].dend[29] StochKv 29\n",
      "cIR216_L1_HAC_84f0f8f321[0].dend[30] StochKv 30\n",
      "cIR216_L1_HAC_84f0f8f321[0].dend[31] StochKv 31\n",
      "cIR216_L1_HAC_84f0f8f321[0].dend[32] StochKv 32\n",
      "cIR216_L1_HAC_84f0f8f321[0].dend[33] StochKv 33\n",
      "cIR216_L1_HAC_84f0f8f321[0].dend[34] StochKv 34\n",
      "cIR216_L1_HAC_84f0f8f321[0].dend[35] StochKv 35\n",
      "cIR216_L1_HAC_84f0f8f321[0].dend[36] StochKv 36\n",
      "cIR216_L1_HAC_84f0f8f321[0].dend[37] StochKv 37\n",
      "cIR216_L1_HAC_84f0f8f321[0].dend[38] StochKv 38\n",
      "cIR216_L1_HAC_84f0f8f321[0].dend[39] StochKv 39\n",
      "cIR216_L1_HAC_84f0f8f321[0].dend[40] StochKv 40\n",
      "cIR216_L1_HAC_84f0f8f321[0].dend[41] StochKv 41\n",
      "cIR216_L1_HAC_84f0f8f321[0].dend[42] StochKv 42\n",
      "cIR216_L1_HAC_84f0f8f321[0]\n"
     ]
    },
    {
     "data": {
      "text/plain": [
       "cIR216_L1_HAC_84f0f8f321[0]"
      ]
     },
     "execution_count": 8,
     "metadata": {},
     "output_type": "execute_result"
    }
   ],
   "source": [
    "cellName = StochKvcells[0]\n",
    "number = 1\n",
    "cellTemplateName = loadTemplateName(cellName,number)\n",
    "print(cellName,number,cellTemplateName)\n",
    "os.chdir('/home/fernando/S1_BBP/cell_data/'+cellName+'_'+str(number)+'/')\n",
    "loadCell(cellName,cellTemplateName,number)"
   ]
  },
  {
   "cell_type": "code",
   "execution_count": 17,
   "metadata": {},
   "outputs": [
    {
     "name": "stdout",
     "output_type": "stream",
     "text": [
      "cells with StochKv channel = 1137 (3.63 percent) \n"
     ]
    }
   ],
   "source": [
    "StochKvcellsNumber = 0\n",
    "for metype in StochKvcells:    \n",
    "    StochKvcellsNumber = StochKvcellsNumber + MEtypeNumber[metype]\n",
    "\n",
    "print('cells with StochKv channel = %d (%.2f percent) ' % (StochKvcellsNumber,100.0*StochKvcellsNumber/N))     "
   ]
  },
  {
   "cell_type": "markdown",
   "metadata": {},
   "source": [
    "## Cell distribution in the cylinder"
   ]
  },
  {
   "cell_type": "code",
   "execution_count": 9,
   "metadata": {},
   "outputs": [],
   "source": [
    "def volume(sizey, radius):    \n",
    "    sizey = 0.001 * sizey # from um to mm\n",
    "    radius = 0.001 * radius # from um to mm    \n",
    "    vol = np.pi * radius**2 * sizey\n",
    "    return vol\n",
    "\n",
    "def cellNumber(sizey, radius, density):\n",
    "    number = volume(sizey, radius) * density\n",
    "    return number"
   ]
  },
  {
   "cell_type": "code",
   "execution_count": 10,
   "metadata": {},
   "outputs": [
    {
     "name": "stdout",
     "output_type": "stream",
     "text": [
      "cell Number in Layer L1 =  325\n",
      "comparation BBPwebsite 0.960\n",
      "cell Number in Layer L4 =  4667\n",
      "comparation BBPwebsite 1.002\n",
      "cell Number in Layer L5 =  6103\n",
      "comparation BBPwebsite 0.998\n",
      "cell Number in Layer L6 =  12753\n",
      "comparation BBPwebsite 1.008\n",
      "cell Number in Layer L23 =  7496\n",
      "comparation BBPwebsite 0.996\n",
      "synaptic Number in Layer L1 =  1411090\n",
      "synaptic Number in Layer L2 =  2091430\n",
      "synaptic Number in Layer L3 =  4954863\n",
      "synaptic Number in Layer L4 =  9240381\n",
      "synaptic Number in Layer L5 =  25500132\n",
      "synaptic Number in Layer L6 =  10203489\n",
      "synaptic Number in a cilinder (d = 420 um) =  53401385\n"
     ]
    }
   ],
   "source": [
    "# RAT Cell 2015 \n",
    "Layerthicknesses = {}  \n",
    "Layerthicknesses['L1'] = 165\n",
    "Layerthicknesses['L2'] = 149\n",
    "Layerthicknesses['L3'] = 353\n",
    "Layerthicknesses['L4'] = 190\n",
    "Layerthicknesses['L5'] = 525\n",
    "Layerthicknesses['L6'] = 700\n",
    "Neurondensities = {}\n",
    "Neurondensities['L1'] = 14200\n",
    "Neurondensities['L2'] = 164600\n",
    "Neurondensities['L3'] = 83800\n",
    "Neurondensities['L4'] = 177300\n",
    "Neurondensities['L5'] = 83900\n",
    "Neurondensities['L6'] = 131500\n",
    "neuronsperlayer = {}\n",
    "neuronsperlayer['L1'] = 338\n",
    "neuronsperlayer['L23'] = 7524\n",
    "neuronsperlayer['L4'] = 4656\n",
    "neuronsperlayer['L5'] = 6114\n",
    "neuronsperlayer['L6'] = 12651\n",
    "\n",
    "radius = 210\n",
    "for layer in ['L1','L4','L5','L6']:\n",
    "    print ('cell Number in Layer %s =  %.0f' % (layer,cellNumber(Layerthicknesses[layer], radius, Neurondensities[layer])))    \n",
    "    print ('comparation BBPwebsite %.3f' % (cellNumber(Layerthicknesses[layer], radius, Neurondensities[layer])/neuronsperlayer[layer]))\n",
    "\n",
    "print ('cell Number in Layer L23 =  %.0f' % (cellNumber(Layerthicknesses['L2'], radius, Neurondensities['L2']) + cellNumber(Layerthicknesses['L3'], 210, Neurondensities['L3'])))      \n",
    "print ('comparation BBPwebsite %.3f' % ((cellNumber(Layerthicknesses['L2'], radius, Neurondensities['L2']) + cellNumber(Layerthicknesses['L3'], 210, Neurondensities['L3']))/neuronsperlayer['L23']))\n",
    "\n",
    "synapticdensities = {}\n",
    "synapticdensities['L1'] = 61728000.0\n",
    "synapticdensities['L2'] = 101313777.77778\n",
    "synapticdensities['L3'] = 101313777.77778\n",
    "synapticdensities['L4'] = 351032889.0\n",
    "synapticdensities['L5'] = 350586074.0\n",
    "synapticdensities['L6'] = 105211259.0\n",
    "synapticNumberMouse = 0\n",
    "synapticNumberperLayerMouse = {}\n",
    "for layer in ['L1','L2','L3','L4','L5','L6']:\n",
    "    print ('synaptic Number in Layer %s =  %.0f' % (layer,cellNumber(Layerthicknesses[layer], radius, synapticdensities[layer])))       \n",
    "    synapticNumberperLayerMouse[layer] = cellNumber(Layerthicknesses[layer], radius, synapticdensities[layer])\n",
    "    synapticNumberMouse = synapticNumberMouse + synapticNumberperLayerMouse[layer]\n",
    "    \n",
    "print ('synaptic Number in a cilinder (d = %d um) =  %.0f' % (2*radius,synapticNumberMouse))   \n"
   ]
  },
  {
   "cell_type": "code",
   "execution_count": 11,
   "metadata": {},
   "outputs": [
    {
     "data": {
      "text/plain": [
       "2082"
      ]
     },
     "execution_count": 11,
     "metadata": {},
     "output_type": "execute_result"
    }
   ],
   "source": [
    "sizeY = 0\n",
    "for layer in ['L1','L2','L3','L4','L5','L6']:\n",
    "    sizeY = sizeY + Layerthicknesses[layer]\n",
    "sizeY"
   ]
  },
  {
   "cell_type": "code",
   "execution_count": 12,
   "metadata": {
    "scrolled": true
   },
   "outputs": [
    {
     "data": {
      "text/plain": [
       "0.28844909940053115"
      ]
     },
     "execution_count": 12,
     "metadata": {},
     "output_type": "execute_result"
    }
   ],
   "source": [
    "volume(sizeY,radius)"
   ]
  },
  {
   "cell_type": "code",
   "execution_count": 13,
   "metadata": {},
   "outputs": [],
   "source": [
    "# Load 55 Morphological Names and Cell pop numbers -> L1:6 L23:10 L4:12 L5:13 L6:14\n",
    "# Load 207 Morpho-electrical Names used to import the cells from 'cell_data/' -> L1:14 L23:43 L4:46 L5:52 L6:52\n",
    "RatL1Number = 0\n",
    "for popName in MtypePop[0:6]:\n",
    "    RatL1Number = RatL1Number + MtypeNumber[popName]\n",
    "RatL23Number = 0\n",
    "for popName in MtypePop[6:16]:\n",
    "    RatL23Number = RatL23Number + MtypeNumber[popName]\n",
    "RatL4Number = 0\n",
    "for popName in MtypePop[16:28]:\n",
    "    RatL4Number = RatL4Number + MtypeNumber[popName]\n",
    "RatL5Number = 0\n",
    "for popName in MtypePop[28:41]:\n",
    "    RatL5Number = RatL5Number + MtypeNumber[popName]    \n",
    "RatL6Number = 0\n",
    "for popName in MtypePop[41:55]:\n",
    "    RatL6Number = RatL6Number + MtypeNumber[popName]  "
   ]
  },
  {
   "cell_type": "code",
   "execution_count": 14,
   "metadata": {},
   "outputs": [
    {
     "data": {
      "text/plain": [
       "31346"
      ]
     },
     "execution_count": 14,
     "metadata": {},
     "output_type": "execute_result"
    }
   ],
   "source": [
    "cellNumberperLayerRat = {}\n",
    "cellNumberperLayerRat['L1'] = RatL1Number\n",
    "cellNumberperLayerRat['L23'] = RatL23Number\n",
    "cellNumberperLayerRat['L4'] = RatL4Number\n",
    "cellNumberperLayerRat['L5'] = RatL5Number\n",
    "cellNumberperLayerRat['L6'] = RatL6Number\n",
    "    \n",
    "RatL1Number + RatL23Number + RatL4Number + RatL5Number + RatL6Number"
   ]
  },
  {
   "cell_type": "code",
   "execution_count": 19,
   "metadata": {},
   "outputs": [
    {
     "name": "stdout",
     "output_type": "stream",
     "text": [
      "5877 L23_PC cells\n",
      "2674 L4_PC cells\n",
      "406 L4_SS cells\n",
      "1098 L4_SP cells\n",
      "2403 L5_TTPC1 cells\n",
      "2003 L5_TTPC2 cells\n",
      "302 L5_STPC cells\n",
      "342 L5_UTPC cells\n",
      "1637 L6_TPC_L1 cells\n",
      "1440 L6_TPC_L4 cells\n",
      "3174 L6_BPC cells\n",
      "3476 L6_IPC cells\n",
      "1735 L6_UTPC cells\n",
      "\n",
      " Exc cells = 26567 (84.75 percent) \n"
     ]
    }
   ],
   "source": [
    "ExcNumber = 0\n",
    "for mtype in Epops:    \n",
    "    ExcNumber = ExcNumber + MtypeNumber[mtype]\n",
    "    print ('%d %s cells' % (MtypeNumber[mtype],mtype))\n",
    "\n",
    "print('\\n Exc cells = %d (%.2f percent) ' % (ExcNumber,100.0*ExcNumber/N))     "
   ]
  }
 ],
 "metadata": {
  "kernelspec": {
   "display_name": "Python 3",
   "language": "python",
   "name": "python3"
  },
  "language_info": {
   "codemirror_mode": {
    "name": "ipython",
    "version": 3
   },
   "file_extension": ".py",
   "mimetype": "text/x-python",
   "name": "python",
   "nbconvert_exporter": "python",
   "pygments_lexer": "ipython3",
   "version": "3.7.9"
  },
  "widgets": {
   "state": {
    "5d7515ec2d3c485faf342256962a9e1b": {
     "views": [
      {
       "cell_index": 55
      }
     ]
    },
    "67b10b1ff7bd4d00996c6f8c66ea2f54": {
     "views": [
      {
       "cell_index": 87
      }
     ]
    },
    "ac8a9e4ca55645a3828b4266fadf29a9": {
     "views": [
      {
       "cell_index": 41
      }
     ]
    }
   },
   "version": "1.2.0"
  }
 },
 "nbformat": 4,
 "nbformat_minor": 2
}
