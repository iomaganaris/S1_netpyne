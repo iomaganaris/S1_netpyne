{
 "cells": [
  {
   "cell_type": "markdown",
   "metadata": {},
   "source": [
    "# Input-output properties cells"
   ]
  },
  {
   "cell_type": "code",
   "execution_count": 1,
   "metadata": {},
   "outputs": [],
   "source": [
    "import h5py\n",
    "import json\n",
    "import numpy as np\n",
    "import os\n",
    "import sys\n",
    "from matplotlib import pyplot as plt\n",
    "\n",
    "rootFolder = '/home/fernando/S1_netpyne'\n",
    "#------------------------------------------------------------------------------  "
   ]
  },
  {
   "cell_type": "code",
   "execution_count": 2,
   "metadata": {},
   "outputs": [
    {
     "name": "stdout",
     "output_type": "stream",
     "text": [
      "Number of cells = 31346\n"
     ]
    }
   ],
   "source": [
    "#------------------------------------------------------------------------------\n",
    "# Cells\n",
    "#------------------------------------------------------------------------------\n",
    "# Load 55 Morphological Names-> L1:6 L23:10 L4:12 L5:13 L6:14\n",
    "# Load 207 Morpho-electrical Names-> L1:14 L23:43 L4:46 L5:52 L6:52\n",
    "\n",
    "with open(rootFolder + '/info/anatomy/S1-cells-distributions-Rat.txt') as metype_file:\n",
    "    metype_content = metype_file.read()       \n",
    "\n",
    "MtypeNumber = {}\n",
    "MEtypeNumber = {}\n",
    "MtypePop = []\n",
    "MEtypePop = []\n",
    "popLabel = {}\n",
    "N = 0\n",
    "for line in metype_content.split('\\n')[:-1]:\n",
    "    metype, mtype, etype, n, m = line.split()\n",
    "    MEtypeNumber[metype] = int(n)\n",
    "    popLabel[metype] = mtype\n",
    "    MtypeNumber[mtype] = int(m)\n",
    "\n",
    "    if mtype not in MtypePop:\n",
    "        MtypePop.append(mtype)\n",
    "    MEtypePop.append(metype)\n",
    "    \n",
    "    N = N + int(n)\n",
    "    \n",
    "print ('Number of cells = %d' % N)"
   ]
  },
  {
   "cell_type": "code",
   "execution_count": 3,
   "metadata": {},
   "outputs": [],
   "source": [
    "Epops = ['L23_PC', 'L4_PC', 'L4_SS', 'L4_SP', \n",
    "             'L5_TTPC1', 'L5_TTPC2', 'L5_STPC', 'L5_UTPC',\n",
    "             'L6_TPC_L1', 'L6_TPC_L4', 'L6_BPC', 'L6_IPC', 'L6_UTPC']\n",
    "Ipops = []\n",
    "for popName in MtypePop:\n",
    "    if popName not in Epops:\n",
    "        Ipops.append(popName)"
   ]
  },
  {
   "cell_type": "code",
   "execution_count": 4,
   "metadata": {},
   "outputs": [],
   "source": [
    "# for cellName in MEtypePop:\n",
    "#     for number in range[1,6]:\n",
    "#         os.chdir('/home/fernando/Downloads/hoc_combos_syn.1_0_10.allzips/'+cellName+'_'+str(number)+'/')\n",
    "#         !nrnivmodl mechanisms"
   ]
  },
  {
   "cell_type": "code",
   "execution_count": 5,
   "metadata": {},
   "outputs": [],
   "source": [
    "def loadTemplateName(cellName,number): \n",
    "    f = open('/home/fernando/S1_BBP/cell_data/'+cellName+'_'+str(number)+'/template.hoc', 'r')\n",
    "    for line in f.readlines():\n",
    "        if 'begintemplate' in line:\n",
    "            templatename = str(line)     \n",
    "    templatename=templatename[:-1]        \n",
    "    templatename=templatename[14:]\n",
    "    return templatename"
   ]
  },
  {
   "cell_type": "code",
   "execution_count": 6,
   "metadata": {
    "scrolled": true
   },
   "outputs": [],
   "source": [
    "def loadCell(cellName,cellTemplateName,number):\n",
    "    \n",
    "    from neuron import h\n",
    "    \n",
    "    os.chdir('/home/fernando/S1_BBP/cell_data/'+cellName+'_'+str(number)+'/')\n",
    "    h.load_file(\"stdrun.hoc\")\n",
    "    h.load_file('import3d.hoc')\n",
    "    try:\n",
    "        h.xopen(\"morphology.hoc\")\n",
    "    except:\n",
    "        pass\n",
    "    try:\n",
    "        h.xopen(\"biophysics.hoc\")\n",
    "    except:\n",
    "        pass\n",
    "    try:\n",
    "        h.xopen(\"synapses/synapses.hoc\")\n",
    "    except:\n",
    "        pass\n",
    "    try:\n",
    "        h.xopen(\"template.hoc\")\n",
    "    except:\n",
    "        pass\n",
    "    \n",
    "    cell = getattr(h, cellTemplateName)(0)\n",
    "    \n",
    "    i=0\n",
    "    for secs in cell.somatic:\n",
    "        sec = cell.soma[i]\n",
    "        listmech = list(cell.soma[i](0.5))      \n",
    "        for mech in listmech:\n",
    "            if str(mech) == 'StochKv':\n",
    "                print (sec, mech, i)\n",
    "        i=i+1\n",
    "\n",
    "    i=0\n",
    "    for secs in cell.basal:\n",
    "        sec = cell.dend[i]\n",
    "        listmech = list(cell.dend[i](0.5))      \n",
    "        for mech in listmech:\n",
    "            if str(mech) == 'StochKv':\n",
    "                print (sec, mech, i)\n",
    "        i=i+1\n",
    "\n",
    "    i=0\n",
    "    for secs in cell.apical:\n",
    "        sec = cell.apic[i]\n",
    "        listmech = list(cell.apic[i](0.5))      \n",
    "        for mech in listmech:\n",
    "            if str(mech) == 'StochKv':\n",
    "                print (sec, mech, i)\n",
    "        i=i+1\n",
    "\n",
    "    i=0\n",
    "    for secs in cell.axonal:\n",
    "        sec = cell.axon[i]\n",
    "        listmech = list(cell.axon[i](0.5))      \n",
    "        for mech in listmech:\n",
    "            if str(mech) == 'StochKv':\n",
    "                print (sec, mech, i)\n",
    "        i=i+1     \n",
    "    \n",
    "    print (cell)\n",
    "    return cell"
   ]
  },
  {
   "cell_type": "code",
   "execution_count": 7,
   "metadata": {
    "scrolled": true
   },
   "outputs": [
    {
     "ename": "FileNotFoundError",
     "evalue": "[Errno 2] No such file or directory: 'mechanisms/'",
     "output_type": "error",
     "traceback": [
      "\u001b[0;31m---------------------------------------------------------------------------\u001b[0m",
      "\u001b[0;31mFileNotFoundError\u001b[0m                         Traceback (most recent call last)",
      "\u001b[0;32m<ipython-input-7-a6bc4d299fd4>\u001b[0m in \u001b[0;36m<module>\u001b[0;34m\u001b[0m\n\u001b[1;32m      6\u001b[0m     \u001b[0mos\u001b[0m\u001b[0;34m.\u001b[0m\u001b[0mchdir\u001b[0m\u001b[0;34m(\u001b[0m\u001b[0;34m'/home/fernando/S1_BBP/cell_data/'\u001b[0m\u001b[0;34m+\u001b[0m\u001b[0mcellName\u001b[0m\u001b[0;34m+\u001b[0m\u001b[0;34m'_'\u001b[0m\u001b[0;34m+\u001b[0m\u001b[0mstr\u001b[0m\u001b[0;34m(\u001b[0m\u001b[0mnumber\u001b[0m\u001b[0;34m)\u001b[0m\u001b[0;34m+\u001b[0m\u001b[0;34m'/'\u001b[0m\u001b[0;34m)\u001b[0m\u001b[0;34m\u001b[0m\u001b[0;34m\u001b[0m\u001b[0m\n\u001b[1;32m      7\u001b[0m \u001b[0;34m\u001b[0m\u001b[0m\n\u001b[0;32m----> 8\u001b[0;31m     \u001b[0mfoldermech\u001b[0m \u001b[0;34m=\u001b[0m \u001b[0mos\u001b[0m\u001b[0;34m.\u001b[0m\u001b[0mlistdir\u001b[0m\u001b[0;34m(\u001b[0m\u001b[0;34m'mechanisms/'\u001b[0m\u001b[0;34m)\u001b[0m\u001b[0;34m\u001b[0m\u001b[0;34m\u001b[0m\u001b[0m\n\u001b[0m\u001b[1;32m      9\u001b[0m     \u001b[0;32mif\u001b[0m \u001b[0;34m'StochKv.mod'\u001b[0m \u001b[0;32min\u001b[0m \u001b[0mfoldermech\u001b[0m\u001b[0;34m:\u001b[0m\u001b[0;34m\u001b[0m\u001b[0;34m\u001b[0m\u001b[0m\n\u001b[1;32m     10\u001b[0m         \u001b[0mStochKvcells\u001b[0m\u001b[0;34m.\u001b[0m\u001b[0mappend\u001b[0m\u001b[0;34m(\u001b[0m\u001b[0mcellName\u001b[0m\u001b[0;34m)\u001b[0m\u001b[0;34m\u001b[0m\u001b[0;34m\u001b[0m\u001b[0m\n",
      "\u001b[0;31mFileNotFoundError\u001b[0m: [Errno 2] No such file or directory: 'mechanisms/'"
     ]
    }
   ],
   "source": [
    "StochKvcells = []\n",
    "nonStochKvcells = []\n",
    "\n",
    "for cellName in MEtypePop:\n",
    "    number = 1\n",
    "    os.chdir('/home/fernando/S1_BBP/cell_data/'+cellName+'_'+str(number)+'/')\n",
    "    \n",
    "    foldermech = os.listdir('mechanisms/')\n",
    "    if 'StochKv.mod' in foldermech:\n",
    "        StochKvcells.append(cellName) \n",
    "    else:\n",
    "        nonStochKvcells.append(cellName) "
   ]
  },
  {
   "cell_type": "code",
   "execution_count": null,
   "metadata": {
    "scrolled": true
   },
   "outputs": [],
   "source": [
    "cellName = StochKvcells[0]\n",
    "number = 1\n",
    "cellTemplateName = loadTemplateName(cellName,number)\n",
    "print(cellName,number,cellTemplateName)\n",
    "os.chdir('/home/fernando/S1_BBP/cell_data/'+cellName+'_'+str(number)+'/')\n",
    "# loadCell(cellName,cellTemplateName,number)"
   ]
  },
  {
   "cell_type": "code",
   "execution_count": 8,
   "metadata": {},
   "outputs": [
    {
     "name": "stdout",
     "output_type": "stream",
     "text": [
      "cells with StochKv channel = 0 (0.00 percent) \n"
     ]
    }
   ],
   "source": [
    "StochKvcellsNumber = 0\n",
    "for metype in StochKvcells:    \n",
    "    StochKvcellsNumber = StochKvcellsNumber + MEtypeNumber[metype]\n",
    "\n",
    "print('cells with StochKv channel = %d (%.2f percent) ' % (StochKvcellsNumber,100.0*StochKvcellsNumber/N))     "
   ]
  },
  {
   "cell_type": "code",
   "execution_count": 9,
   "metadata": {},
   "outputs": [],
   "source": [
    "def volume(sizey, radius):    \n",
    "    sizey = 0.001 * sizey # from um to mm\n",
    "    radius = 0.001 * radius # from um to mm    \n",
    "    vol = np.pi * radius**2 * sizey\n",
    "    return vol\n",
    "\n",
    "def cellNumber(sizey, radius, density):\n",
    "    number = volume(sizey, radius) * density\n",
    "    return number"
   ]
  },
  {
   "cell_type": "code",
   "execution_count": 10,
   "metadata": {},
   "outputs": [
    {
     "name": "stdout",
     "output_type": "stream",
     "text": [
      "cell Number in Layer L1 =  325\n",
      "comparation BBPwebsite 0.960\n",
      "cell Number in Layer L4 =  4667\n",
      "comparation BBPwebsite 1.002\n",
      "cell Number in Layer L5 =  6103\n",
      "comparation BBPwebsite 0.998\n",
      "cell Number in Layer L6 =  12753\n",
      "comparation BBPwebsite 1.008\n",
      "cell Number in Layer L23 =  7496\n",
      "comparation BBPwebsite 0.996\n",
      "synaptic Number in Layer L1 =  1411090\n",
      "synaptic Number in Layer L2 =  2091430\n",
      "synaptic Number in Layer L3 =  4954863\n",
      "synaptic Number in Layer L4 =  9240381\n",
      "synaptic Number in Layer L5 =  25500132\n",
      "synaptic Number in Layer L6 =  10203489\n",
      "synaptic Number in a cilinder (d = 420 um) =  53401385\n"
     ]
    }
   ],
   "source": [
    "# RAT Cell 2015 \n",
    "Layerthicknesses = {}  \n",
    "Layerthicknesses['L1'] = 165\n",
    "Layerthicknesses['L2'] = 149\n",
    "Layerthicknesses['L3'] = 353\n",
    "Layerthicknesses['L4'] = 190\n",
    "Layerthicknesses['L5'] = 525\n",
    "Layerthicknesses['L6'] = 700\n",
    "Neurondensities = {}\n",
    "Neurondensities['L1'] = 14200\n",
    "Neurondensities['L2'] = 164600\n",
    "Neurondensities['L3'] = 83800\n",
    "Neurondensities['L4'] = 177300\n",
    "Neurondensities['L5'] = 83900\n",
    "Neurondensities['L6'] = 131500\n",
    "neuronsperlayer = {}\n",
    "neuronsperlayer['L1'] = 338\n",
    "neuronsperlayer['L23'] = 7524\n",
    "neuronsperlayer['L4'] = 4656\n",
    "neuronsperlayer['L5'] = 6114\n",
    "neuronsperlayer['L6'] = 12651\n",
    "\n",
    "radius = 210\n",
    "for layer in ['L1','L4','L5','L6']:\n",
    "    print ('cell Number in Layer %s =  %.0f' % (layer,cellNumber(Layerthicknesses[layer], radius, Neurondensities[layer])))    \n",
    "    print ('comparation BBPwebsite %.3f' % (cellNumber(Layerthicknesses[layer], radius, Neurondensities[layer])/neuronsperlayer[layer]))\n",
    "\n",
    "print ('cell Number in Layer L23 =  %.0f' % (cellNumber(Layerthicknesses['L2'], radius, Neurondensities['L2']) + cellNumber(Layerthicknesses['L3'], 210, Neurondensities['L3'])))      \n",
    "print ('comparation BBPwebsite %.3f' % ((cellNumber(Layerthicknesses['L2'], radius, Neurondensities['L2']) + cellNumber(Layerthicknesses['L3'], 210, Neurondensities['L3']))/neuronsperlayer['L23']))\n",
    "\n",
    "synapticdensities = {}\n",
    "synapticdensities['L1'] = 61728000.0\n",
    "synapticdensities['L2'] = 101313777.77778\n",
    "synapticdensities['L3'] = 101313777.77778\n",
    "synapticdensities['L4'] = 351032889.0\n",
    "synapticdensities['L5'] = 350586074.0\n",
    "synapticdensities['L6'] = 105211259.0\n",
    "synapticNumberMouse = 0\n",
    "synapticNumberperLayerMouse = {}\n",
    "for layer in ['L1','L2','L3','L4','L5','L6']:\n",
    "    print ('synaptic Number in Layer %s =  %.0f' % (layer,cellNumber(Layerthicknesses[layer], radius, synapticdensities[layer])))       \n",
    "    synapticNumberperLayerMouse[layer] = cellNumber(Layerthicknesses[layer], radius, synapticdensities[layer])\n",
    "    synapticNumberMouse = synapticNumberMouse + synapticNumberperLayerMouse[layer]\n",
    "    \n",
    "print ('synaptic Number in a cilinder (d = %d um) =  %.0f' % (2*radius,synapticNumberMouse))   \n"
   ]
  },
  {
   "cell_type": "code",
   "execution_count": 11,
   "metadata": {},
   "outputs": [
    {
     "data": {
      "text/plain": [
       "2082"
      ]
     },
     "execution_count": 11,
     "metadata": {},
     "output_type": "execute_result"
    }
   ],
   "source": [
    "sizeY = 0\n",
    "for layer in ['L1','L2','L3','L4','L5','L6']:\n",
    "    sizeY = sizeY + Layerthicknesses[layer]\n",
    "sizeY"
   ]
  },
  {
   "cell_type": "code",
   "execution_count": 14,
   "metadata": {
    "scrolled": true
   },
   "outputs": [
    {
     "data": {
      "text/plain": [
       "0.28844909940053115"
      ]
     },
     "execution_count": 14,
     "metadata": {},
     "output_type": "execute_result"
    }
   ],
   "source": [
    "volume(sizeY,radius)"
   ]
  },
  {
   "cell_type": "code",
   "execution_count": 15,
   "metadata": {},
   "outputs": [],
   "source": [
    "# Load 55 Morphological Names and Cell pop numbers -> L1:6 L23:10 L4:12 L5:13 L6:14\n",
    "# Load 207 Morpho-electrical Names used to import the cells from 'cell_data/' -> L1:14 L23:43 L4:46 L5:52 L6:52\n",
    "RatL1Number = 0\n",
    "for popName in MtypePop[0:6]:\n",
    "    RatL1Number = RatL1Number + MtypeNumber[popName]\n",
    "RatL23Number = 0\n",
    "for popName in MtypePop[6:16]:\n",
    "    RatL23Number = RatL23Number + MtypeNumber[popName]\n",
    "RatL4Number = 0\n",
    "for popName in MtypePop[16:28]:\n",
    "    RatL4Number = RatL4Number + MtypeNumber[popName]\n",
    "RatL5Number = 0\n",
    "for popName in MtypePop[28:41]:\n",
    "    RatL5Number = RatL5Number + MtypeNumber[popName]    \n",
    "RatL6Number = 0\n",
    "for popName in MtypePop[41:55]:\n",
    "    RatL6Number = RatL6Number + MtypeNumber[popName]  "
   ]
  },
  {
   "cell_type": "code",
   "execution_count": 16,
   "metadata": {},
   "outputs": [
    {
     "data": {
      "text/plain": [
       "31346"
      ]
     },
     "execution_count": 16,
     "metadata": {},
     "output_type": "execute_result"
    }
   ],
   "source": [
    "cellNumberperLayerRat = {}\n",
    "cellNumberperLayerRat['L1'] = RatL1Number\n",
    "cellNumberperLayerRat['L23'] = RatL23Number\n",
    "cellNumberperLayerRat['L4'] = RatL4Number\n",
    "cellNumberperLayerRat['L5'] = RatL5Number\n",
    "cellNumberperLayerRat['L6'] = RatL6Number\n",
    "    \n",
    "RatL1Number + RatL23Number + RatL4Number + RatL5Number + RatL6Number"
   ]
  },
  {
   "cell_type": "code",
   "execution_count": null,
   "metadata": {},
   "outputs": [],
   "source": [
    "for metype in MtypePop:\n",
    "    if metype in Epops:\n",
    "        print ('%s' % (metype))"
   ]
  }
 ],
 "metadata": {
  "kernelspec": {
   "display_name": "Python 3",
   "language": "python",
   "name": "python3"
  },
  "language_info": {
   "codemirror_mode": {
    "name": "ipython",
    "version": 3
   },
   "file_extension": ".py",
   "mimetype": "text/x-python",
   "name": "python",
   "nbconvert_exporter": "python",
   "pygments_lexer": "ipython3",
   "version": "3.7.9"
  },
  "widgets": {
   "state": {
    "5d7515ec2d3c485faf342256962a9e1b": {
     "views": [
      {
       "cell_index": 55
      }
     ]
    },
    "67b10b1ff7bd4d00996c6f8c66ea2f54": {
     "views": [
      {
       "cell_index": 87
      }
     ]
    },
    "ac8a9e4ca55645a3828b4266fadf29a9": {
     "views": [
      {
       "cell_index": 41
      }
     ]
    }
   },
   "version": "1.2.0"
  }
 },
 "nbformat": 4,
 "nbformat_minor": 2
}
