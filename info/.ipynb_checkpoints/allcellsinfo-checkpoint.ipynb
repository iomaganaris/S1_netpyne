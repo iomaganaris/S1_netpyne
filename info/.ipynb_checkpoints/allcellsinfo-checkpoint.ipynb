{
 "cells": [
  {
   "cell_type": "markdown",
   "metadata": {},
   "source": [
    "# All S1 cells information"
   ]
  },
  {
   "cell_type": "code",
   "execution_count": 1,
   "metadata": {},
   "outputs": [],
   "source": [
    "import h5py\n",
    "import json\n",
    "import numpy as np\n",
    "import os\n",
    "import sys\n",
    "from matplotlib import pyplot as plt\n",
    "\n",
    "# rootFolder = '/home/fernando/S1_netpyne'\n",
    "#------------------------------------------------------------------------------  "
   ]
  },
  {
   "cell_type": "code",
   "execution_count": 2,
   "metadata": {},
   "outputs": [
    {
     "data": {
      "text/plain": [
       "'/home/fernando/S1_netpyne'"
      ]
     },
     "execution_count": 2,
     "metadata": {},
     "output_type": "execute_result"
    }
   ],
   "source": [
    "rootFolder = os.getcwd()\n",
    "rootFolder = rootFolder[:-5]\n",
    "rootFolder"
   ]
  },
  {
   "cell_type": "markdown",
   "metadata": {},
   "source": [
    "## Cell Number distribution"
   ]
  },
  {
   "cell_type": "code",
   "execution_count": 3,
   "metadata": {},
   "outputs": [
    {
     "name": "stdout",
     "output_type": "stream",
     "text": [
      "Number of cells = 31346\n"
     ]
    }
   ],
   "source": [
    "#------------------------------------------------------------------------------\n",
    "# Cells\n",
    "#------------------------------------------------------------------------------\n",
    "# Load 55 Morphological Names-> L1:6 L23:10 L4:12 L5:13 L6:14\n",
    "# Load 207 Morpho-electrical Names-> L1:14 L23:43 L4:46 L5:52 L6:52\n",
    "\n",
    "with open(rootFolder + '/info/anatomy/S1-cells-distributions-Rat.txt') as metype_file:\n",
    "    metype_content = metype_file.read()       \n",
    "\n",
    "MtypeNumber = {}\n",
    "MEtypeNumber = {}\n",
    "MtypePop = []\n",
    "MEtypePop = []\n",
    "popLabel = {}\n",
    "N = 0\n",
    "for line in metype_content.split('\\n')[:-1]:\n",
    "    metype, mtype, etype, n, m = line.split()\n",
    "    MEtypeNumber[metype] = int(n)\n",
    "    popLabel[metype] = mtype\n",
    "    MtypeNumber[mtype] = int(m)\n",
    "\n",
    "    if mtype not in MtypePop:\n",
    "        MtypePop.append(mtype)\n",
    "    MEtypePop.append(metype)\n",
    "    \n",
    "    N = N + int(n)\n",
    "    \n",
    "print ('Number of cells = %d' % N)"
   ]
  },
  {
   "cell_type": "code",
   "execution_count": 4,
   "metadata": {},
   "outputs": [],
   "source": [
    "Epops = ['L23_PC', 'L4_PC', 'L4_SS', 'L4_SP', \n",
    "             'L5_TTPC1', 'L5_TTPC2', 'L5_STPC', 'L5_UTPC',\n",
    "             'L6_TPC_L1', 'L6_TPC_L4', 'L6_BPC', 'L6_IPC', 'L6_UTPC']\n",
    "Ipops = []\n",
    "for popName in MtypePop:\n",
    "    if popName not in Epops:\n",
    "        Ipops.append(popName)"
   ]
  },
  {
   "cell_type": "code",
   "execution_count": 7,
   "metadata": {
    "scrolled": false
   },
   "outputs": [
    {
     "name": "stdout",
     "output_type": "stream",
     "text": [
      "L1_DAC_bNAC219 0 33% 19 58\n",
      "L1_DAC_cNAC187 0 67% 39 58\n",
      "L1_DLAC_cNAC187 0 100% 24 24\n",
      "L1_HAC_bNAC219 0 21% 19 91\n",
      "L1_HAC_cIR216 2 11% 10 91\n",
      "L1_HAC_cNAC187 0 68% 62 91\n",
      "L1_NGC-DA_bNAC219 0 11% 8 72\n",
      "L1_NGC-DA_cACint209 0 11% 8 72\n",
      "L1_NGC-DA_cNAC187 0 67% 48 72\n",
      "L1_NGC-DA_cSTUT189 2 11% 8 72\n",
      "L1_NGC-SA_cNAC187 0 100% 52 52\n",
      "L1_SLAC_bNAC219 0 34% 14 41\n",
      "L1_SLAC_cACint209 0 20% 8 41\n",
      "L1_SLAC_cNAC187 0 46% 19 41\n",
      "L23_BP_bAC217 0 11% 3 28\n",
      "L23_BP_bIR215 2 14% 4 28\n",
      "L23_BP_bNAC219 0 25% 7 28\n",
      "L23_BP_cACint209 0 25% 7 28\n",
      "L23_BP_cNAC187 0 14% 4 28\n",
      "L23_BP_dSTUT214 2 11% 3 28\n",
      "L23_BTC_bAC217 0 14% 15 104\n",
      "L23_BTC_bIR215 2 7% 7 104\n",
      "L23_BTC_bNAC219 0 22% 23 104\n",
      "L23_BTC_cACint209 0 39% 41 104\n",
      "L23_BTC_cNAC187 0 17% 18 104\n",
      "L23_ChC_cACint209 0 38% 23 61\n",
      "L23_ChC_cNAC187 0 38% 23 61\n",
      "L23_ChC_dNAC222 0 25% 15 61\n",
      "L23_DBC_bAC217 0 7% 12 175\n",
      "L23_DBC_bIR215 2 18% 32 175\n",
      "L23_DBC_bNAC219 0 40% 70 175\n",
      "L23_DBC_cACint209 0 35% 61 175\n",
      "L23_LBC_bAC217 0 8% 35 456\n",
      "L23_LBC_bNAC219 0 6% 27 456\n",
      "L23_LBC_cACint209 0 24% 108 456\n",
      "L23_LBC_cNAC187 0 17% 76 456\n",
      "L23_LBC_cSTUT189 2 5% 22 456\n",
      "L23_LBC_dNAC222 0 41% 188 456\n",
      "L23_MC_bAC217 0 3% 10 333\n",
      "L23_MC_bNAC219 0 3% 10 333\n",
      "L23_MC_cACint209 0 81% 270 333\n",
      "L23_MC_cNAC187 0 10% 33 333\n",
      "L23_MC_dNAC222 0 3% 10 333\n",
      "L23_NBC_bAC217 0 5% 14 268\n",
      "L23_NBC_bNAC219 0 2% 6 268\n",
      "L23_NBC_cACint209 0 24% 65 268\n",
      "L23_NBC_cIR216 2 2% 6 268\n",
      "L23_NBC_cNAC187 0 30% 80 268\n",
      "L23_NBC_dNAC222 0 36% 97 268\n",
      "L23_NGC_bNAC219 0 9% 5 56\n",
      "L23_NGC_cACint209 0 9% 5 56\n",
      "L23_NGC_cNAC187 0 73% 41 56\n",
      "L23_NGC_cSTUT189 2 9% 5 56\n",
      "L23_PC_cADpyr229 0 100% 5877 5877\n",
      "L23_SBC_bNAC219 0 36% 60 166\n",
      "L23_SBC_cACint209 0 36% 60 166\n",
      "L23_SBC_dNAC222 0 28% 46 166\n",
      "L4_BP_bAC217 0 12% 1 8\n",
      "L4_BP_bIR215 2 12% 1 8\n",
      "L4_BP_bNAC219 0 25% 2 8\n",
      "L4_BP_cACint209 0 25% 2 8\n",
      "L4_BP_cNAC187 0 12% 1 8\n",
      "L4_BP_dSTUT214 2 12% 1 8\n",
      "L4_BTC_bAC217 0 10% 2 20\n",
      "L4_BTC_bIR215 2 10% 2 20\n",
      "L4_BTC_bSTUT213 2 10% 2 20\n",
      "L4_BTC_cACint209 0 45% 9 20\n",
      "L4_BTC_cNAC187 0 15% 3 20\n",
      "L4_BTC_dNAC222 0 10% 2 20\n",
      "L4_ChC_cACint209 0 38% 3 8\n",
      "L4_ChC_cNAC187 0 38% 3 8\n",
      "L4_ChC_dNAC222 0 25% 2 8\n",
      "L4_DBC_bAC217 0 10% 4 40\n",
      "L4_DBC_bIR215 1 32% 13 40\n",
      "L4_DBC_bNAC219 0 10% 4 40\n",
      "L4_DBC_bSTUT213 2 10% 4 40\n",
      "L4_DBC_cACint209 0 10% 4 40\n",
      "L4_DBC_cIR216 2 18% 7 40\n",
      "L4_DBC_cNAC187 0 10% 4 40\n",
      "L4_LBC_cACint209 0 18% 22 122\n",
      "L4_LBC_cNAC187 0 11% 14 122\n",
      "L4_LBC_cSTUT189 1 25% 31 122\n",
      "L4_LBC_dNAC222 0 38% 46 122\n",
      "L4_LBC_dSTUT214 2 7% 9 122\n",
      "L4_MC_bAC217 0 9% 11 118\n",
      "L4_MC_bNAC219 0 3% 4 118\n",
      "L4_MC_cACint209 0 69% 81 118\n",
      "L4_MC_cNAC187 0 15% 18 118\n",
      "L4_MC_dNAC222 0 3% 4 118\n",
      "L4_NBC_cACint209 0 10% 10 96\n",
      "L4_NBC_cIR216 2 5% 5 96\n",
      "L4_NBC_cNAC187 0 47% 45 96\n",
      "L4_NBC_dNAC222 0 38% 36 96\n",
      "L4_NGC_bNAC219 0 17% 1 6\n",
      "L4_NGC_cACint209 0 17% 1 6\n",
      "L4_NGC_cNAC187 0 50% 3 6\n",
      "L4_NGC_cSTUT189 2 17% 1 6\n",
      "L4_PC_cADpyr230 0 100% 2674 2674\n",
      "L4_SBC_bNAC219 0 35% 21 60\n",
      "L4_SBC_cACint209 0 37% 22 60\n",
      "L4_SBC_dNAC222 0 28% 17 60\n",
      "L4_SP_cADpyr230 0 100% 1098 1098\n",
      "L4_SS_cADpyr230 0 100% 406 406\n",
      "L5_BP_bAC217 0 9% 3 34\n",
      "L5_BP_bIR215 2 15% 5 34\n",
      "L5_BP_bNAC219 0 26% 9 34\n",
      "L5_BP_cACint209 0 26% 9 34\n",
      "L5_BP_cNAC187 0 15% 5 34\n",
      "L5_BP_dSTUT214 2 9% 3 34\n",
      "L5_BTC_bAC217 0 17% 13 76\n",
      "L5_BTC_cACint209 0 66% 50 76\n",
      "L5_BTC_cNAC187 0 17% 13 76\n",
      "L5_ChC_cACint209 0 37% 7 19\n",
      "L5_ChC_cNAC187 0 37% 7 19\n",
      "L5_ChC_dNAC222 0 26% 5 19\n",
      "L5_DBC_bAC217 0 9% 9 96\n",
      "L5_DBC_bIR215 1 35% 34 96\n",
      "L5_DBC_bNAC219 0 9% 9 96\n",
      "L5_DBC_bSTUT213 2 9% 9 96\n",
      "L5_DBC_cACint209 0 9% 9 96\n",
      "L5_DBC_cIR216 2 18% 17 96\n",
      "L5_DBC_cNAC187 0 9% 9 96\n",
      "L5_LBC_bAC217 0 6% 12 210\n",
      "L5_LBC_cACint209 0 12% 25 210\n",
      "L5_LBC_cIR216 2 6% 13 210\n",
      "L5_LBC_cNAC187 0 18% 37 210\n",
      "L5_LBC_cSTUT189 2 18% 37 210\n",
      "L5_LBC_dNAC222 0 18% 37 210\n",
      "L5_LBC_dSTUT214 2 23% 49 210\n",
      "L5_MC_bAC217 0 37% 145 395\n",
      "L5_MC_bIR215 2 11% 44 395\n",
      "L5_MC_bSTUT213 2 4% 16 395\n",
      "L5_MC_cACint209 0 36% 142 395\n",
      "L5_MC_cNAC187 0 4% 16 395\n",
      "L5_MC_cSTUT189 2 4% 16 395\n",
      "L5_MC_dNAC222 0 4% 16 395\n",
      "L5_NBC_bAC217 0 7% 14 201\n",
      "L5_NBC_bIR215 2 7% 14 201\n",
      "L5_NBC_bSTUT213 2 13% 27 201\n",
      "L5_NBC_cACint209 0 20% 40 201\n",
      "L5_NBC_cIR216 2 7% 14 201\n",
      "L5_NBC_cNAC187 0 19% 39 201\n",
      "L5_NBC_cSTUT189 2 20% 40 201\n",
      "L5_NBC_dSTUT214 2 6% 13 201\n",
      "L5_NGC_bNAC219 0 12% 1 8\n",
      "L5_NGC_cACint209 0 12% 1 8\n",
      "L5_NGC_cNAC187 0 62% 5 8\n",
      "L5_NGC_cSTUT189 2 12% 1 8\n",
      "L5_SBC_bNAC219 0 36% 9 25\n",
      "L5_SBC_cACint209 0 36% 9 25\n",
      "L5_SBC_dNAC222 0 28% 7 25\n",
      "L5_STPC_cADpyr232 0 100% 302 302\n",
      "L5_TTPC1_cADpyr232 0 100% 2403 2403\n",
      "L5_TTPC2_cADpyr232 0 100% 2003 2003\n",
      "L5_UTPC_cADpyr232 0 100% 342 342\n",
      "L6_BPC_cADpyr231 0 100% 3174 3174\n",
      "L6_BP_bAC217 0 9% 6 70\n",
      "L6_BP_bIR215 2 14% 10 70\n",
      "L6_BP_bNAC219 0 27% 19 70\n",
      "L6_BP_cACint209 0 27% 19 70\n",
      "L6_BP_cNAC187 0 14% 10 70\n",
      "L6_BP_dSTUT214 2 9% 6 70\n",
      "L6_BTC_bAC217 0 19% 10 54\n",
      "L6_BTC_cACint209 0 63% 34 54\n",
      "L6_BTC_cNAC187 0 19% 10 54\n",
      "L6_ChC_cACint209 0 38% 6 16\n",
      "L6_ChC_cNAC187 0 38% 6 16\n",
      "L6_ChC_dNAC222 0 25% 4 16\n",
      "L6_DBC_bAC217 0 10% 3 31\n",
      "L6_DBC_bIR215 1 32% 10 31\n",
      "L6_DBC_bNAC219 0 10% 3 31\n",
      "L6_DBC_bSTUT213 2 10% 3 31\n",
      "L6_DBC_cACint209 0 10% 3 31\n",
      "L6_DBC_cIR216 2 19% 6 31\n",
      "L6_DBC_cNAC187 0 10% 3 31\n",
      "L6_IPC_cADpyr231 0 100% 3476 3476\n",
      "L6_LBC_bAC217 0 18% 84 463\n",
      "L6_LBC_bIR215 1 27% 127 463\n",
      "L6_LBC_bNAC219 0 9% 43 463\n",
      "L6_LBC_bSTUT213 1 27% 124 463\n",
      "L6_LBC_cNAC187 0 9% 42 463\n",
      "L6_LBC_cSTUT189 2 9% 43 463\n",
      "L6_MC_bAC217 0 12% 41 336\n",
      "L6_MC_bIR215 1 43% 145 336\n",
      "L6_MC_bNAC219 0 4% 14 336\n",
      "L6_MC_bSTUT213 2 4% 14 336\n",
      "L6_MC_cACint209 0 28% 94 336\n",
      "L6_MC_cIR216 2 4% 14 336\n",
      "L6_MC_cNAC187 0 4% 14 336\n",
      "L6_NBC_bAC217 0 7% 14 198\n",
      "L6_NBC_bIR215 2 7% 14 198\n",
      "L6_NBC_bSTUT213 2 14% 27 198\n",
      "L6_NBC_cACint209 0 20% 39 198\n",
      "L6_NBC_cIR216 2 7% 14 198\n",
      "L6_NBC_cNAC187 0 19% 37 198\n",
      "L6_NBC_cSTUT189 2 20% 39 198\n",
      "L6_NBC_dSTUT214 2 7% 14 198\n",
      "L6_NGC_bNAC219 0 12% 2 17\n",
      "L6_NGC_cACint209 0 12% 2 17\n",
      "L6_NGC_cNAC187 0 65% 11 17\n",
      "L6_NGC_cSTUT189 2 12% 2 17\n",
      "L6_SBC_bNAC219 0 36% 24 67\n",
      "L6_SBC_cACint209 0 36% 24 67\n",
      "L6_SBC_dNAC222 0 28% 19 67\n",
      "L6_TPC_L1_cADpyr231 0 100% 1637 1637\n",
      "L6_TPC_L4_cADpyr231 0 100% 1440 1440\n",
      "L6_UTPC_cADpyr231 0 100% 1735 1735\n"
     ]
    }
   ],
   "source": [
    "## https://bbp.epfl.ch/nmc-portal/assets/documents/static/Download/hoc_combos_syn.1_0_10.allzips.tar\n",
    "## extracted 1035 folders in home/fernando/S1_BBP/cell_data/  #~ not inclued in the github\n",
    "\n",
    "StochKvcells = []\n",
    "nonStochKvcells = []\n",
    "\n",
    "for cellName in MEtypePop:\n",
    "    number = 1 # same for all metype cells\n",
    "    os.chdir('/home/fernando/S1_BBP/cell_data/'+cellName+'_'+str(number)+'/')\n",
    "    \n",
    "    foldermech = os.listdir('mechanisms/')\n",
    "    if 'StochKv.mod' in foldermech:\n",
    "        StochKvcells.append(cellName) \n",
    "        if 100*MEtypeNumber[cellName]/MtypeNumber[popLabel[cellName]] > 25:\n",
    "            print('%s %s %.0f%s %d %d' % (cellName, '1', 100*MEtypeNumber[cellName]/MtypeNumber[popLabel[cellName]],'%', MEtypeNumber[cellName], MtypeNumber[popLabel[cellName]]))\n",
    "        else:\n",
    "            print('%s %s %.0f%s %d %d' % (cellName, '2', 100*MEtypeNumber[cellName]/MtypeNumber[popLabel[cellName]],'%', MEtypeNumber[cellName], MtypeNumber[popLabel[cellName]]))\n",
    "    else:\n",
    "        nonStochKvcells.append(cellName)\n",
    "        print('%s %s %.0f%s %d %d' % (cellName, '0', 100*MEtypeNumber[cellName]/MtypeNumber[popLabel[cellName]],'%', MEtypeNumber[cellName], MtypeNumber[popLabel[cellName]]))\n"
   ]
  },
  {
   "cell_type": "code",
   "execution_count": 6,
   "metadata": {},
   "outputs": [],
   "source": [
    "copyStochKv_deterministic = False\n",
    "compilemods = False\n",
    "\n",
    "## https://www.opensourcebrain.org/projects/blue-brain-project-showcase/repository/revisions/master/raw/NMC/NEURON/test/StochKv_deterministic.mod           \n",
    "## saved in /home/fernando/S1_BBP/mod/  #~ not inclued in the github\n",
    "\n",
    "os.chdir('/home/fernando/S1_BBP/mod/')   \n",
    "\n",
    "if copyStochKv_deterministic:\n",
    "    for cellName in MEtypePop[0:207]:\n",
    "        if cellName in StochKvcells:\n",
    "            for number in range(1,6):\n",
    "                modfile = 'StochKv_deterministic.mod'\n",
    "                outmodfile = '/home/fernando/S1_BBP/cell_data/' + cellname+'_'+str(number) + '/mechanisms/StochKv_deterministic.mod'\n",
    "                os.popen(\"cp {0} {1}\".format(modfile, outmodfile))\n",
    "                print(outmodfile)\n",
    "\n",
    "if compilemods:\n",
    "    for cellName in MEtypePop[0:207]:\n",
    "        for number in range(1,6):\n",
    "            os.chdir('/home/fernando/S1_BBP/cell_data/'+cellName+'_'+str(number)+'/')\n",
    "            !nrnivmodl mechanisms # run the 1035 cells will take several minutes!!!\n"
   ]
  },
  {
   "cell_type": "markdown",
   "metadata": {},
   "source": [
    "## StochKv channels"
   ]
  },
  {
   "cell_type": "code",
   "execution_count": 7,
   "metadata": {},
   "outputs": [],
   "source": [
    "def loadTemplateName(cellName,number): \n",
    "    f = open('/home/fernando/S1_BBP/cell_data/'+cellName+'_'+str(number)+'/template.hoc', 'r')\n",
    "    for line in f.readlines():\n",
    "        if 'begintemplate' in line:\n",
    "            templatename = str(line)     \n",
    "    templatename=templatename[:-1]        \n",
    "    templatename=templatename[14:]\n",
    "    return templatename"
   ]
  },
  {
   "cell_type": "code",
   "execution_count": 8,
   "metadata": {
    "scrolled": true
   },
   "outputs": [],
   "source": [
    "def loadCell(cellName,cellTemplateName,number):\n",
    "    \n",
    "    from neuron import h\n",
    "    \n",
    "    os.chdir('/home/fernando/S1_BBP/cell_data/'+cellName+'_'+str(number)+'/')\n",
    "    h.load_file(\"stdrun.hoc\")\n",
    "    h.load_file('import3d.hoc')\n",
    "    h.load_file(\"template.hoc\")\n",
    "    \n",
    "    cell = getattr(h, cellTemplateName)(0)\n",
    "    \n",
    "    i=0\n",
    "    for secs in cell.somatic:\n",
    "        sec = cell.soma[i]\n",
    "        listmech = list(cell.soma[i](0.5))      \n",
    "        for mech in listmech:\n",
    "            if str(mech) == 'StochKv':\n",
    "                print (sec, mech, i)\n",
    "        i=i+1\n",
    "\n",
    "    i=0\n",
    "    for secs in cell.basal:\n",
    "        sec = cell.dend[i]\n",
    "        listmech = list(cell.dend[i](0.5))      \n",
    "        for mech in listmech:\n",
    "            if str(mech) == 'StochKv':\n",
    "                print (sec, mech, i)\n",
    "        i=i+1\n",
    "\n",
    "    i=0\n",
    "    for secs in cell.apical:\n",
    "        sec = cell.apic[i]\n",
    "        listmech = list(cell.apic[i](0.5))      \n",
    "        for mech in listmech:\n",
    "            if str(mech) == 'StochKv':\n",
    "                print (sec, mech, i)\n",
    "        i=i+1\n",
    "\n",
    "    i=0\n",
    "    for secs in cell.axonal:\n",
    "        sec = cell.axon[i]\n",
    "        listmech = list(cell.axon[i](0.5))      \n",
    "        for mech in listmech:\n",
    "            if str(mech) == 'StochKv':\n",
    "                print (sec, mech, i)\n",
    "        i=i+1     \n",
    "    \n",
    "    print (cell)\n",
    "    return cell"
   ]
  },
  {
   "cell_type": "code",
   "execution_count": 9,
   "metadata": {
    "scrolled": false
   },
   "outputs": [
    {
     "name": "stdout",
     "output_type": "stream",
     "text": [
      "L1_HAC_cIR216 1 cIR216_L1_HAC_84f0f8f321\n",
      "\t1 \n",
      "\t1 \n",
      "\t1 \n",
      "cIR216_L1_HAC_84f0f8f321[0].soma[0] StochKv 0\n",
      "cIR216_L1_HAC_84f0f8f321[0].dend[0] StochKv 0\n",
      "cIR216_L1_HAC_84f0f8f321[0].dend[1] StochKv 1\n",
      "cIR216_L1_HAC_84f0f8f321[0].dend[2] StochKv 2\n",
      "cIR216_L1_HAC_84f0f8f321[0].dend[3] StochKv 3\n",
      "cIR216_L1_HAC_84f0f8f321[0].dend[4] StochKv 4\n",
      "cIR216_L1_HAC_84f0f8f321[0].dend[5] StochKv 5\n",
      "cIR216_L1_HAC_84f0f8f321[0].dend[6] StochKv 6\n",
      "cIR216_L1_HAC_84f0f8f321[0].dend[7] StochKv 7\n",
      "cIR216_L1_HAC_84f0f8f321[0].dend[8] StochKv 8\n",
      "cIR216_L1_HAC_84f0f8f321[0].dend[9] StochKv 9\n",
      "cIR216_L1_HAC_84f0f8f321[0].dend[10] StochKv 10\n",
      "cIR216_L1_HAC_84f0f8f321[0].dend[11] StochKv 11\n",
      "cIR216_L1_HAC_84f0f8f321[0].dend[12] StochKv 12\n",
      "cIR216_L1_HAC_84f0f8f321[0].dend[13] StochKv 13\n",
      "cIR216_L1_HAC_84f0f8f321[0].dend[14] StochKv 14\n",
      "cIR216_L1_HAC_84f0f8f321[0].dend[15] StochKv 15\n",
      "cIR216_L1_HAC_84f0f8f321[0].dend[16] StochKv 16\n",
      "cIR216_L1_HAC_84f0f8f321[0].dend[17] StochKv 17\n",
      "cIR216_L1_HAC_84f0f8f321[0].dend[18] StochKv 18\n",
      "cIR216_L1_HAC_84f0f8f321[0].dend[19] StochKv 19\n",
      "cIR216_L1_HAC_84f0f8f321[0].dend[20] StochKv 20\n",
      "cIR216_L1_HAC_84f0f8f321[0].dend[21] StochKv 21\n",
      "cIR216_L1_HAC_84f0f8f321[0].dend[22] StochKv 22\n",
      "cIR216_L1_HAC_84f0f8f321[0].dend[23] StochKv 23\n",
      "cIR216_L1_HAC_84f0f8f321[0].dend[24] StochKv 24\n",
      "cIR216_L1_HAC_84f0f8f321[0].dend[25] StochKv 25\n",
      "cIR216_L1_HAC_84f0f8f321[0].dend[26] StochKv 26\n",
      "cIR216_L1_HAC_84f0f8f321[0].dend[27] StochKv 27\n",
      "cIR216_L1_HAC_84f0f8f321[0].dend[28] StochKv 28\n",
      "cIR216_L1_HAC_84f0f8f321[0].dend[29] StochKv 29\n",
      "cIR216_L1_HAC_84f0f8f321[0].dend[30] StochKv 30\n",
      "cIR216_L1_HAC_84f0f8f321[0].dend[31] StochKv 31\n",
      "cIR216_L1_HAC_84f0f8f321[0].dend[32] StochKv 32\n",
      "cIR216_L1_HAC_84f0f8f321[0].dend[33] StochKv 33\n",
      "cIR216_L1_HAC_84f0f8f321[0].dend[34] StochKv 34\n",
      "cIR216_L1_HAC_84f0f8f321[0].dend[35] StochKv 35\n",
      "cIR216_L1_HAC_84f0f8f321[0].dend[36] StochKv 36\n",
      "cIR216_L1_HAC_84f0f8f321[0].dend[37] StochKv 37\n",
      "cIR216_L1_HAC_84f0f8f321[0].dend[38] StochKv 38\n",
      "cIR216_L1_HAC_84f0f8f321[0].dend[39] StochKv 39\n",
      "cIR216_L1_HAC_84f0f8f321[0].dend[40] StochKv 40\n",
      "cIR216_L1_HAC_84f0f8f321[0].dend[41] StochKv 41\n",
      "cIR216_L1_HAC_84f0f8f321[0].dend[42] StochKv 42\n",
      "cIR216_L1_HAC_84f0f8f321[0]\n"
     ]
    },
    {
     "data": {
      "text/plain": [
       "cIR216_L1_HAC_84f0f8f321[0]"
      ]
     },
     "execution_count": 9,
     "metadata": {},
     "output_type": "execute_result"
    }
   ],
   "source": [
    "cellName = StochKvcells[0]\n",
    "number = 1\n",
    "cellTemplateName = loadTemplateName(cellName,number)\n",
    "print(cellName,number,cellTemplateName)\n",
    "os.chdir('/home/fernando/S1_BBP/cell_data/'+cellName+'_'+str(number)+'/')\n",
    "loadCell(cellName,cellTemplateName,number)"
   ]
  },
  {
   "cell_type": "code",
   "execution_count": 10,
   "metadata": {},
   "outputs": [
    {
     "name": "stdout",
     "output_type": "stream",
     "text": [
      "cells with StochKv channel = 1137 (3.63 percent) \n"
     ]
    }
   ],
   "source": [
    "StochKvcellsNumber = 0\n",
    "for metype in StochKvcells:    \n",
    "    StochKvcellsNumber = StochKvcellsNumber + MEtypeNumber[metype]\n",
    "\n",
    "print('cells with StochKv channel = %d (%.2f percent) ' % (StochKvcellsNumber,100.0*StochKvcellsNumber/N))     "
   ]
  },
  {
   "cell_type": "markdown",
   "metadata": {},
   "source": [
    "## Cell distribution in the cylinder"
   ]
  },
  {
   "cell_type": "code",
   "execution_count": 11,
   "metadata": {},
   "outputs": [],
   "source": [
    "def volume(sizey, radius):    \n",
    "    sizey = 0.001 * sizey # from um to mm\n",
    "    radius = 0.001 * radius # from um to mm    \n",
    "    vol = np.pi * radius**2 * sizey\n",
    "    return vol\n",
    "\n",
    "def cellNumber(sizey, radius, density):\n",
    "    number = volume(sizey, radius) * density\n",
    "    return number"
   ]
  },
  {
   "cell_type": "code",
   "execution_count": 12,
   "metadata": {},
   "outputs": [
    {
     "name": "stdout",
     "output_type": "stream",
     "text": [
      "cell Number in Layer L1 =  325\n",
      "comparation BBPwebsite 0.960\n",
      "cell Number in Layer L4 =  4667\n",
      "comparation BBPwebsite 1.002\n",
      "cell Number in Layer L5 =  6103\n",
      "comparation BBPwebsite 0.998\n",
      "cell Number in Layer L6 =  12753\n",
      "comparation BBPwebsite 1.008\n",
      "cell Number in Layer L23 =  7496\n",
      "comparation BBPwebsite 0.996\n",
      "synaptic Number in Layer L1 =  1411090\n",
      "synaptic Number in Layer L2 =  2091430\n",
      "synaptic Number in Layer L3 =  4954863\n",
      "synaptic Number in Layer L4 =  9240381\n",
      "synaptic Number in Layer L5 =  25500132\n",
      "synaptic Number in Layer L6 =  10203489\n",
      "synaptic Number in a cilinder (d = 420 um) =  53401385\n"
     ]
    }
   ],
   "source": [
    "# RAT Cell 2015 \n",
    "Layerthicknesses = {}  \n",
    "Layerthicknesses['L1'] = 165\n",
    "Layerthicknesses['L2'] = 149\n",
    "Layerthicknesses['L3'] = 353\n",
    "Layerthicknesses['L4'] = 190\n",
    "Layerthicknesses['L5'] = 525\n",
    "Layerthicknesses['L6'] = 700\n",
    "Neurondensities = {}\n",
    "Neurondensities['L1'] = 14200\n",
    "Neurondensities['L2'] = 164600\n",
    "Neurondensities['L3'] = 83800\n",
    "Neurondensities['L4'] = 177300\n",
    "Neurondensities['L5'] = 83900\n",
    "Neurondensities['L6'] = 131500\n",
    "neuronsperlayer = {}\n",
    "neuronsperlayer['L1'] = 338\n",
    "neuronsperlayer['L23'] = 7524\n",
    "neuronsperlayer['L4'] = 4656\n",
    "neuronsperlayer['L5'] = 6114\n",
    "neuronsperlayer['L6'] = 12651\n",
    "\n",
    "radius = 210\n",
    "for layer in ['L1','L4','L5','L6']:\n",
    "    print ('cell Number in Layer %s =  %.0f' % (layer,cellNumber(Layerthicknesses[layer], radius, Neurondensities[layer])))    \n",
    "    print ('comparation BBPwebsite %.3f' % (cellNumber(Layerthicknesses[layer], radius, Neurondensities[layer])/neuronsperlayer[layer]))\n",
    "\n",
    "print ('cell Number in Layer L23 =  %.0f' % (cellNumber(Layerthicknesses['L2'], radius, Neurondensities['L2']) + cellNumber(Layerthicknesses['L3'], 210, Neurondensities['L3'])))      \n",
    "print ('comparation BBPwebsite %.3f' % ((cellNumber(Layerthicknesses['L2'], radius, Neurondensities['L2']) + cellNumber(Layerthicknesses['L3'], 210, Neurondensities['L3']))/neuronsperlayer['L23']))\n",
    "\n",
    "synapticdensities = {}\n",
    "synapticdensities['L1'] = 61728000.0\n",
    "synapticdensities['L2'] = 101313777.77778\n",
    "synapticdensities['L3'] = 101313777.77778\n",
    "synapticdensities['L4'] = 351032889.0\n",
    "synapticdensities['L5'] = 350586074.0\n",
    "synapticdensities['L6'] = 105211259.0\n",
    "synapticNumberRat = 0\n",
    "synapticNumberperLayerRat = {}\n",
    "for layer in ['L1','L2','L3','L4','L5','L6']:\n",
    "    print ('synaptic Number in Layer %s =  %.0f' % (layer,cellNumber(Layerthicknesses[layer], radius, synapticdensities[layer])))       \n",
    "    synapticNumberperLayerRat[layer] = cellNumber(Layerthicknesses[layer], radius, synapticdensities[layer])\n",
    "    synapticNumberRat = synapticNumberRat + synapticNumberperLayerRat[layer]\n",
    "    \n",
    "print ('synaptic Number in a cilinder (d = %d um) =  %.0f' % (2*radius,synapticNumberRat))   \n"
   ]
  },
  {
   "cell_type": "code",
   "execution_count": 13,
   "metadata": {},
   "outputs": [
    {
     "data": {
      "text/plain": [
       "2082"
      ]
     },
     "execution_count": 13,
     "metadata": {},
     "output_type": "execute_result"
    }
   ],
   "source": [
    "sizeY = 0\n",
    "for layer in ['L1','L2','L3','L4','L5','L6']:\n",
    "    sizeY = sizeY + Layerthicknesses[layer]\n",
    "sizeY"
   ]
  },
  {
   "cell_type": "code",
   "execution_count": 14,
   "metadata": {
    "scrolled": true
   },
   "outputs": [
    {
     "data": {
      "text/plain": [
       "0.28844909940053115"
      ]
     },
     "execution_count": 14,
     "metadata": {},
     "output_type": "execute_result"
    }
   ],
   "source": [
    "volume(sizeY,radius)"
   ]
  },
  {
   "cell_type": "code",
   "execution_count": 15,
   "metadata": {},
   "outputs": [],
   "source": [
    "# Load 55 Morphological Names and Cell pop numbers -> L1:6 L23:10 L4:12 L5:13 L6:14\n",
    "# Load 207 Morpho-electrical Names used to import the cells from 'cell_data/' -> L1:14 L23:43 L4:46 L5:52 L6:52\n",
    "RatL1Number = 0\n",
    "for popName in MtypePop[0:6]:\n",
    "    RatL1Number = RatL1Number + MtypeNumber[popName]\n",
    "RatL23Number = 0\n",
    "for popName in MtypePop[6:16]:\n",
    "    RatL23Number = RatL23Number + MtypeNumber[popName]\n",
    "RatL4Number = 0\n",
    "for popName in MtypePop[16:28]:\n",
    "    RatL4Number = RatL4Number + MtypeNumber[popName]\n",
    "RatL5Number = 0\n",
    "for popName in MtypePop[28:41]:\n",
    "    RatL5Number = RatL5Number + MtypeNumber[popName]    \n",
    "RatL6Number = 0\n",
    "for popName in MtypePop[41:55]:\n",
    "    RatL6Number = RatL6Number + MtypeNumber[popName]  "
   ]
  },
  {
   "cell_type": "code",
   "execution_count": 16,
   "metadata": {},
   "outputs": [
    {
     "data": {
      "text/plain": [
       "31346"
      ]
     },
     "execution_count": 16,
     "metadata": {},
     "output_type": "execute_result"
    }
   ],
   "source": [
    "cellNumberperLayerRat = {}\n",
    "cellNumberperLayerRat['L1'] = RatL1Number\n",
    "cellNumberperLayerRat['L23'] = RatL23Number\n",
    "cellNumberperLayerRat['L4'] = RatL4Number\n",
    "cellNumberperLayerRat['L5'] = RatL5Number\n",
    "cellNumberperLayerRat['L6'] = RatL6Number\n",
    "    \n",
    "RatL1Number + RatL23Number + RatL4Number + RatL5Number + RatL6Number"
   ]
  },
  {
   "cell_type": "code",
   "execution_count": 17,
   "metadata": {},
   "outputs": [
    {
     "name": "stdout",
     "output_type": "stream",
     "text": [
      "5877 L23_PC cells\n",
      "2674 L4_PC cells\n",
      "406 L4_SS cells\n",
      "1098 L4_SP cells\n",
      "2403 L5_TTPC1 cells\n",
      "2003 L5_TTPC2 cells\n",
      "302 L5_STPC cells\n",
      "342 L5_UTPC cells\n",
      "1637 L6_TPC_L1 cells\n",
      "1440 L6_TPC_L4 cells\n",
      "3174 L6_BPC cells\n",
      "3476 L6_IPC cells\n",
      "1735 L6_UTPC cells\n",
      "\n",
      " Exc cells = 26567 (84.75 percent) \n"
     ]
    }
   ],
   "source": [
    "ExcNumber = 0\n",
    "for mtype in Epops:    \n",
    "    ExcNumber = ExcNumber + MtypeNumber[mtype]\n",
    "    print ('%d %s cells' % (MtypeNumber[mtype],mtype))\n",
    "\n",
    "print('\\n Exc cells = %d (%.2f percent) ' % (ExcNumber,100.0*ExcNumber/N))     "
   ]
  }
 ],
 "metadata": {
  "kernelspec": {
   "display_name": "Python 3 (ipykernel)",
   "language": "python",
   "name": "python3"
  },
  "language_info": {
   "codemirror_mode": {
    "name": "ipython",
    "version": 3
   },
   "file_extension": ".py",
   "mimetype": "text/x-python",
   "name": "python",
   "nbconvert_exporter": "python",
   "pygments_lexer": "ipython3",
   "version": "3.9.6"
  },
  "widgets": {
   "state": {
    "5d7515ec2d3c485faf342256962a9e1b": {
     "views": [
      {
       "cell_index": 55
      }
     ]
    },
    "67b10b1ff7bd4d00996c6f8c66ea2f54": {
     "views": [
      {
       "cell_index": 87
      }
     ]
    },
    "ac8a9e4ca55645a3828b4266fadf29a9": {
     "views": [
      {
       "cell_index": 41
      }
     ]
    }
   },
   "version": "1.2.0"
  }
 },
 "nbformat": 4,
 "nbformat_minor": 2
}
