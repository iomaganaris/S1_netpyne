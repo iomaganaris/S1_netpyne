{
 "cells": [
  {
   "cell_type": "code",
   "execution_count": 1,
   "id": "5b4404b0",
   "metadata": {},
   "outputs": [],
   "source": [
    "import matplotlib.pyplot as plt\n",
    "import numpy as np\n",
    "import pickle, json\n",
    "\n",
    "## load data from conn pre-processing file\n",
    "with open('../sim/conn/conn.pkl', 'rb') as fileObj: connData = pickle.load(fileObj)\n",
    "\n",
    "pmatfull = connData['pmat']\n",
    "lmat = connData['lmat']\n",
    "a0mat = connData['a0mat']\n",
    "d0 = connData['d0']\n",
    "connNumber = connData['connNumber']\n",
    "synperconnNumber = connData['synperconnNumber']"
   ]
  },
  {
   "cell_type": "code",
   "execution_count": 2,
   "id": "c5373136",
   "metadata": {},
   "outputs": [],
   "source": [
    "data = {}\n",
    "\n",
    "for gid in range(7):\n",
    "\tdata[gid] = {}\n",
    "\n",
    "\twith open('../data/v6_batch0/v6_batch0_{s}_pop_numConns_matrix.json'.format(s=gid), 'r') as f:\n",
    "\t\tdata[gid] = json.load(f) \n",
    "\t\n",
    "\tincludePre = data[gid]['includePre']\n",
    "\n",
    "\tif gid == 0:\n",
    "\t\tconnMatrix = np.matrix(data[gid]['connMatrix'])\n",
    "\t\tconnMatrixmax = np.matrix(data[gid]['connMatrix'])\n",
    "\t\tconnMatrixmin = np.matrix(data[gid]['connMatrix'])\n",
    "\telse:\n",
    "\t\tconnMatrix = connMatrix + np.matrix(data[gid]['connMatrix'])\n",
    "\n",
    "\t\tconnMatrix0 = np.matrix(data[gid]['connMatrix'])\n",
    "\t\tfor preN in range(14):\n",
    "\t\t\tfor postN in range(55):\n",
    "\t\t\t\tpre = includePre[preN]\n",
    "\t\t\t\tpost = includePre[postN]\n",
    "\t\t\t\tif connMatrix0[preN,postN] > connMatrixmax[preN,postN]:\n",
    "\t\t\t\t\tconnMatrixmax[preN,postN] = connMatrix0[preN,postN]\n",
    "\t\t\t\tif connMatrix0[preN,postN] < connMatrixmin[preN,postN]:\n",
    "\t\t\t\t\tconnMatrixmin[preN,postN] = connMatrix0[preN,postN]\n",
    "\n",
    "connMatrix = connMatrix/14\n",
    "connMatrixmin = connMatrixmin/2\n",
    "connMatrixmax = connMatrixmax/2                   "
   ]
  },
  {
   "cell_type": "code",
   "execution_count": 3,
   "id": "12d326e1",
   "metadata": {
    "scrolled": false
   },
   "outputs": [
    {
     "name": "stdout",
     "output_type": "stream",
     "text": [
      "6 14 L23_BP:L23_PC 97.3 128.4 8 113.00 142.00 32.0 31 25.0\n",
      "6 24 L23_BP:L4_PC 156.1 212.6 9 205.00 220.00 36.2 56 175.0\n",
      "10 22 L23_LBC:L4_NBC 114.9 149.3 11 139.00 164.00 29.9 34 125.0\n",
      "12 20 L23_NBC:L4_LBC 80.7 102.0 11 92.00 113.00 26.4 21 150.0\n"
     ]
    }
   ],
   "source": [
    "for preN in range(14):\n",
    "    for postN in range(55):\n",
    "        pre = includePre[preN]\n",
    "        post = includePre[postN]\n",
    "        if float(connNumber[pre][post]) > 0:\n",
    "\n",
    "            connMatrix2 = connMatrix[preN,postN]/int(synperconnNumber[pre][post]+0.5)\n",
    "\n",
    "            error = 100*(connMatrix2-float(connNumber[pre][post]))/float(connNumber[pre][post])\n",
    "            error2 = connMatrix2-float(connNumber[pre][post])\n",
    "            if abs(error) > 20 and abs(error2) > 20 and connMatrix[preN,postN] > 0:\n",
    "                print('%d %d %s:%s %.1f %.1f %d %.2f %.2f %.1f %.0f %s' % (preN,postN,includePre[preN],includePre[postN],float(connNumber[pre][post]),connMatrix2,\n",
    "                                                                           int(synperconnNumber[pre][post]+0.5),connMatrixmin[preN,postN]/int(synperconnNumber[pre][post]+0.5),connMatrixmax[preN,postN]/int(synperconnNumber[pre][post]+0.5),\n",
    "                                                                           error,error2,d0[pre][post]))                                  "
   ]
  }
 ],
 "metadata": {
  "kernelspec": {
   "display_name": "Python 3 (ipykernel)",
   "language": "python",
   "name": "python3"
  },
  "language_info": {
   "codemirror_mode": {
    "name": "ipython",
    "version": 3
   },
   "file_extension": ".py",
   "mimetype": "text/x-python",
   "name": "python",
   "nbconvert_exporter": "python",
   "pygments_lexer": "ipython3",
   "version": "3.9.6"
  }
 },
 "nbformat": 4,
 "nbformat_minor": 5
}
