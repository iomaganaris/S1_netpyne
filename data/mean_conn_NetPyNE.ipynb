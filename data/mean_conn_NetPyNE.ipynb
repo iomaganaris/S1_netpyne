{
 "cells": [
  {
   "cell_type": "code",
   "execution_count": 1,
   "id": "5b4404b0",
   "metadata": {},
   "outputs": [],
   "source": [
    "import matplotlib.pyplot as plt\n",
    "import numpy as np\n",
    "import pickle, json\n",
    "\n",
    "## load data from conn pre-processing file\n",
    "with open('../sim/conn/conn.pkl', 'rb') as fileObj: connData = pickle.load(fileObj)\n",
    "\n",
    "pmatfull = connData['pmat']\n",
    "lmat = connData['lmat']\n",
    "a0mat = connData['a0mat']\n",
    "d0 = connData['d0']\n",
    "connNumber = connData['connNumber']\n",
    "synperconnNumber = connData['synperconnNumber']"
   ]
  },
  {
   "cell_type": "code",
   "execution_count": 2,
   "id": "c5373136",
   "metadata": {},
   "outputs": [],
   "source": [
    "data = {}\n",
    "\n",
    "for gid in range(7):\n",
    "\tdata[gid] = {}\n",
    "\n",
    "\twith open('../data/v6_batch0/v6_batch0_{s}_pop_numConns_matrix.json'.format(s=gid), 'r') as f:\n",
    "\t\tdata[gid] = json.load(f) \n",
    "\t\n",
    "\tincludePre = data[gid]['includePre']\n",
    "\n",
    "\tif gid == 0:\n",
    "\t\tconnMatrix = np.matrix(data[gid]['connMatrix'])\n",
    "\t\tconnMatrixmax = np.matrix(data[gid]['connMatrix'])\n",
    "\t\tconnMatrixmin = np.matrix(data[gid]['connMatrix'])\n",
    "\telse:\n",
    "\t\tconnMatrix = connMatrix + np.matrix(data[gid]['connMatrix'])\n",
    "\n",
    "\t\tconnMatrix0 = np.matrix(data[gid]['connMatrix'])\n",
    "\t\tfor preN in range(14):\n",
    "\t\t\tfor postN in range(55):\n",
    "\t\t\t\tpre = includePre[preN]\n",
    "\t\t\t\tpost = includePre[postN]\n",
    "\t\t\t\tif connMatrix0[preN,postN] > connMatrixmax[preN,postN]:\n",
    "\t\t\t\t\tconnMatrixmax[preN,postN] = connMatrix0[preN,postN]\n",
    "\t\t\t\tif connMatrix0[preN,postN] < connMatrixmin[preN,postN]:\n",
    "\t\t\t\t\tconnMatrixmin[preN,postN] = connMatrix0[preN,postN]\n",
    "\n",
    "connMatrix = connMatrix/14\n",
    "connMatrixmin = connMatrixmin/2\n",
    "connMatrixmax = connMatrixmax/2                   "
   ]
  },
  {
   "cell_type": "code",
   "execution_count": 30,
   "id": "12d326e1",
   "metadata": {
    "scrolled": false
   },
   "outputs": [
    {
     "name": "stdout",
     "output_type": "stream",
     "text": [
      "3 12 L1_NGC-DA:L23_NBC 89.9 102.7 15 89.00 122.00 14.3 13 75.0\n",
      "4 11 L1_NGC-SA:L23_MC 81.1 94.4 10 86.00 105.00 16.4 13 150.0\n",
      "4 24 L1_NGC-SA:L4_PC 237.3 264.3 6 253.00 279.00 11.4 27 50.0\n",
      "6 14 L23_BP:L23_PC 97.3 128.4 8 113.00 142.00 32.0 31 25.0\n",
      "6 24 L23_BP:L4_PC 156.1 212.6 9 205.00 220.00 36.2 56 175.0\n",
      "7 10 L23_BTC:L23_LBC 460.3 510.7 13 462.00 562.00 11.0 50 75.0\n",
      "7 11 L23_BTC:L23_MC 393.1 439.9 12 418.00 472.00 11.9 47 75.0\n",
      "8 14 L23_ChC:L23_PC 2531.6 2931.9 1 2853.00 3058.00 15.8 400 12.5\n",
      "8 24 L23_ChC:L4_PC 408.3 449.1 1 432.00 487.00 10.0 41 12.5\n",
      "8 26 L23_ChC:L4_SP 195.1 225.6 1 195.00 247.00 15.6 30 12.5\n",
      "8 39 L23_ChC:L5_TTPC2 89.1 103.9 1 84.00 119.00 16.6 15 75.0\n",
      "9 8 L23_DBC:L23_ChC 50.7 61.6 12 46.00 72.00 21.4 11 12.5\n",
      "9 10 L23_DBC:L23_LBC 444.9 523.6 13 499.00 544.00 17.7 79 12.5\n",
      "9 14 L23_DBC:L23_PC 6465.6 7201.6 12 7061.00 7286.00 11.4 736 12.5\n",
      "9 15 L23_DBC:L23_SBC 135.9 157.3 12 144.00 176.00 15.7 21 12.5\n",
      "9 24 L23_DBC:L4_PC 4538.9 5121.4 11 5009.00 5181.00 12.8 583 12.5\n",
      "9 26 L23_DBC:L4_SP 1458.6 1657.6 12 1587.00 1717.00 13.6 199 12.5\n",
      "10 2 L23_LBC:L1_HAC 93.9 108.0 13 102.00 121.00 15.0 14 25.0\n",
      "10 8 L23_LBC:L23_ChC 142.1 162.1 15 134.00 184.00 14.1 20 12.5\n",
      "10 11 L23_LBC:L23_MC 1159.1 1342.9 15 1328.00 1373.00 15.9 184 12.5\n",
      "10 12 L23_LBC:L23_NBC 738.3 849.4 16 818.00 889.00 15.1 111 12.5\n",
      "10 14 L23_LBC:L23_PC 17463.4 19688.7 16 19475.00 19976.00 12.7 2225 12.5\n",
      "10 22 L23_LBC:L4_NBC 114.9 149.3 11 139.00 164.00 29.9 34 125.0\n",
      "10 24 L23_LBC:L4_PC 7427.7 8217.7 10 8091.00 8328.00 10.6 790 12.5\n",
      "11 1 L23_MC:L1_DLAC 103.1 115.4 11 100.00 131.00 12.0 12 100.0\n",
      "11 3 L23_MC:L1_NGC-DA 187.6 206.7 9 188.00 214.00 10.2 19 75.0\n",
      "11 4 L23_MC:L1_NGC-SA 133.7 147.1 9 136.00 158.00 10.1 13 100.0\n",
      "11 7 L23_MC:L23_BTC 478.6 571.3 11 540.00 624.00 19.4 93 12.5\n",
      "11 8 L23_MC:L23_ChC 277.9 321.1 10 294.00 336.00 15.6 43 50.0\n",
      "11 9 L23_MC:L23_DBC 379.4 422.4 5 399.00 445.00 11.3 43 12.5\n",
      "11 10 L23_MC:L23_LBC 1883.6 2105.6 12 2006.00 2206.00 11.8 222 50.0\n",
      "11 11 L23_MC:L23_MC 2326.1 2642.1 11 2545.00 2718.00 13.6 316 25.0\n",
      "11 12 L23_MC:L23_NBC 1276.3 1469.6 11 1427.00 1508.00 15.1 193 50.0\n",
      "11 13 L23_MC:L23_NGC 163.3 193.3 7 178.00 211.00 18.4 30 12.5\n",
      "11 14 L23_MC:L23_PC 32758.7 36080.7 11 35906.00 36282.00 10.1 3322 50.0\n",
      "11 22 L23_MC:L4_NBC 108.7 128.1 8 119.00 136.00 17.9 19 50.0\n",
      "11 25 L23_MC:L4_SBC 66.6 77.4 9 72.00 88.00 16.3 11 12.5\n",
      "11 32 L23_MC:L5_LBC 102.1 112.4 7 110.00 119.00 10.1 10 50.0\n",
      "11 41 L23_MC:L6_BPC 711.0 784.7 5 744.00 818.00 10.4 74 50.0\n",
      "11 46 L23_MC:L6_IPC 60.1 76.4 3 59.00 98.00 27.2 16 125.0\n",
      "12 8 L23_NBC:L23_ChC 128.0 147.7 13 135.00 160.00 15.4 20 50.0\n",
      "12 10 L23_NBC:L23_LBC 973.4 1140.3 15 1071.00 1185.00 17.1 167 12.5\n",
      "12 11 L23_NBC:L23_MC 1013.7 1135.4 14 1097.00 1195.00 12.0 122 100.0\n",
      "12 20 L23_NBC:L4_LBC 80.7 102.0 11 92.00 113.00 26.4 21 150.0\n",
      "13 10 L23_NGC:L23_LBC 157.3 179.4 16 162.00 188.00 14.1 22 50.0\n",
      "13 11 L23_NGC:L23_MC 153.4 177.4 14 163.00 207.00 15.7 24 50.0\n",
      "13 12 L23_NGC:L23_NBC 107.0 118.4 15 109.00 130.00 10.7 11 50.0\n"
     ]
    }
   ],
   "source": [
    "for preN in range(14):\n",
    "    for postN in range(55):\n",
    "        pre = includePre[preN]\n",
    "        post = includePre[postN]\n",
    "        if float(connNumber[pre][post]) > 0:\n",
    "\n",
    "            connMatrix2 = connMatrix[preN,postN]/int(synperconnNumber[pre][post]+0.5)\n",
    "\n",
    "            error = 100*(connMatrix2-float(connNumber[pre][post]))/float(connNumber[pre][post])\n",
    "            error2 = connMatrix2-float(connNumber[pre][post])\n",
    "            if abs(error) > 10 and abs(error2) > 10 and connMatrix[preN,postN] > 0:\n",
    "                print('%d %d %s:%s %.1f %.1f %d %.2f %.2f %.1f %.0f %s' % (preN,postN,includePre[preN],includePre[postN],float(connNumber[pre][post]),connMatrix2,\n",
    "                                                                           int(synperconnNumber[pre][post]+0.5),connMatrixmin[preN,postN]/int(synperconnNumber[pre][post]+0.5),connMatrixmax[preN,postN]/int(synperconnNumber[pre][post]+0.5),\n",
    "                                                                           error,error2,d0[pre][post]))                                  "
   ]
  }
 ],
 "metadata": {
  "kernelspec": {
   "display_name": "Python 3 (ipykernel)",
   "language": "python",
   "name": "python3"
  },
  "language_info": {
   "codemirror_mode": {
    "name": "ipython",
    "version": 3
   },
   "file_extension": ".py",
   "mimetype": "text/x-python",
   "name": "python",
   "nbconvert_exporter": "python",
   "pygments_lexer": "ipython3",
   "version": "3.9.6"
  }
 },
 "nbformat": 4,
 "nbformat_minor": 5
}
